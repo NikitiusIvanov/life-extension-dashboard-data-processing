{
  "cells": [
    {
      "cell_type": "markdown",
      "metadata": {
        "id": "view-in-github",
        "colab_type": "text"
      },
      "source": [
        "<a href=\"https://colab.research.google.com/github/NikitiusIvanov/life_extension_dashboard_data_processing/blob/main/le_extension_estimation.ipynb\" target=\"_parent\"><img src=\"https://colab.research.google.com/assets/colab-badge.svg\" alt=\"Open In Colab\"/></a>"
      ]
    },
    {
      "cell_type": "markdown",
      "metadata": {
        "id": "memlM_shT4j1"
      },
      "source": [
        "## imports and settings"
      ]
    },
    {
      "cell_type": "code",
      "source": [
        "from google.colab import drive\n",
        "drive.mount('/content/drive')"
      ],
      "metadata": {
        "colab": {
          "base_uri": "https://localhost:8080/"
        },
        "id": "6-UHowZET_z8",
        "outputId": "989b6c57-5b53-47ef-e03c-2b4baba4f549"
      },
      "execution_count": 65,
      "outputs": [
        {
          "output_type": "stream",
          "name": "stdout",
          "text": [
            "Drive already mounted at /content/drive; to attempt to forcibly remount, call drive.mount(\"/content/drive\", force_remount=True).\n"
          ]
        }
      ]
    },
    {
      "cell_type": "code",
      "execution_count": 106,
      "metadata": {
        "id": "XASTyxxlT4j6"
      },
      "outputs": [],
      "source": [
        "import os\n",
        "import json\n",
        "import numpy as np\n",
        "import pandas as pd\n",
        "from tqdm import tqdm\n",
        "import plotly.express as px"
      ]
    },
    {
      "cell_type": "markdown",
      "metadata": {
        "id": "64XHWf-rT4j8"
      },
      "source": [
        "Set working directory"
      ]
    },
    {
      "cell_type": "code",
      "source": [
        "path_root = '/content/drive/Shareddrives/OpenLabData/gbd_life_extension_dashboard/'"
      ],
      "metadata": {
        "id": "3KprmpEVVSSB"
      },
      "execution_count": 107,
      "outputs": []
    },
    {
      "cell_type": "markdown",
      "metadata": {
        "id": "wLCPokccT4j8"
      },
      "source": [
        "## Data loading"
      ]
    },
    {
      "cell_type": "markdown",
      "metadata": {
        "id": "3gJFNDtvT4j9"
      },
      "source": [
        "### load populatiom"
      ]
    },
    {
      "cell_type": "code",
      "execution_count": 108,
      "metadata": {
        "colab": {
          "base_uri": "https://localhost:8080/"
        },
        "id": "-i2CQ1a4T4j9",
        "outputId": "d17e8d46-44f5-4067-9959-2824be05e5e9"
      },
      "outputs": [
        {
          "output_type": "execute_result",
          "data": {
            "text/plain": [
              "['/content/drive/Shareddrives/OpenLabData/gbd_life_extension_dashboard/population/IHME_GBD_2019_POP_2019_Y2020M10D15.CSV']"
            ]
          },
          "metadata": {},
          "execution_count": 108
        }
      ],
      "source": [
        "population_paths = [x for x in os.walk(os.path.join(path_root, 'population'))]\n",
        "\n",
        "file_paths = []\n",
        "\n",
        "for folder in population_paths:\n",
        "    for file_name in folder[2]:\n",
        "        if '.CSV' in file_name:\n",
        "            file_paths.append(os.path.join(folder[0], file_name))\n",
        "\n",
        "file_paths"
      ]
    },
    {
      "cell_type": "code",
      "execution_count": 109,
      "metadata": {
        "id": "PVaV50ftT4j_"
      },
      "outputs": [],
      "source": [
        "population = pd.read_csv(file_paths[0])"
      ]
    },
    {
      "cell_type": "code",
      "execution_count": 110,
      "metadata": {
        "colab": {
          "base_uri": "https://localhost:8080/"
        },
        "id": "QmuTTCpAT4kA",
        "outputId": "36ce06d3-7f4a-40ad-bf26-711738574178"
      },
      "outputs": [
        {
          "output_type": "execute_result",
          "data": {
            "text/plain": [
              "675"
            ]
          },
          "metadata": {},
          "execution_count": 110
        }
      ],
      "source": [
        "population.location_id.nunique()"
      ]
    },
    {
      "cell_type": "code",
      "execution_count": 111,
      "metadata": {
        "colab": {
          "base_uri": "https://localhost:8080/"
        },
        "id": "roH2I0KhT4kA",
        "outputId": "ba3268fb-9f46-4e90-a509-fda3afaa1af1"
      },
      "outputs": [
        {
          "output_type": "execute_result",
          "data": {
            "text/plain": [
              "array([2019])"
            ]
          },
          "metadata": {},
          "execution_count": 111
        }
      ],
      "source": [
        "population.year_id.unique()"
      ]
    },
    {
      "cell_type": "code",
      "execution_count": 112,
      "metadata": {
        "colab": {
          "base_uri": "https://localhost:8080/"
        },
        "id": "CBUMTZwIT4kB",
        "outputId": "5b076f8f-fd9e-400e-de3e-f0cbd6a9473a"
      },
      "outputs": [
        {
          "output_type": "execute_result",
          "data": {
            "text/plain": [
              "(95175, 14)"
            ]
          },
          "metadata": {},
          "execution_count": 112
        }
      ],
      "source": [
        "population.shape"
      ]
    },
    {
      "cell_type": "code",
      "execution_count": 113,
      "metadata": {
        "colab": {
          "base_uri": "https://localhost:8080/",
          "height": 487
        },
        "id": "ZNzWDVGnT4kB",
        "outputId": "8db3b6fc-1381-49f5-b0a4-89cc4e3f1293"
      },
      "outputs": [
        {
          "output_type": "execute_result",
          "data": {
            "text/plain": [
              "       location_id  location_name  sex_id sex_name  age_group_id  \\\n",
              "0                1         Global       1     male             1   \n",
              "1                1         Global       1     male             2   \n",
              "2                1         Global       1     male             3   \n",
              "3                1         Global       1     male             4   \n",
              "4                1         Global       1     male             5   \n",
              "...            ...            ...     ...      ...           ...   \n",
              "95170        44638  North America       2   female           164   \n",
              "95171        44638  North America       3     both           164   \n",
              "95172        44642  Nordic Region       1     male           164   \n",
              "95173        44642  Nordic Region       2   female           164   \n",
              "95174        44642  Nordic Region       3     both           164   \n",
              "\n",
              "       age_group_name  year_id  measure_id measure_name  metric_id  \\\n",
              "0             Under 5     2019          44   Population          1   \n",
              "1      Early Neonatal     2019          44   Population          1   \n",
              "2       Late Neonatal     2019          44   Population          1   \n",
              "3       Post Neonatal     2019          44   Population          1   \n",
              "4              1 to 4     2019          44   Population          1   \n",
              "...               ...      ...         ...          ...        ...   \n",
              "95170           Birth     2019          44   Population          1   \n",
              "95171           Birth     2019          44   Population          1   \n",
              "95172           Birth     2019          44   Population          1   \n",
              "95173           Birth     2019          44   Population          1   \n",
              "95174           Birth     2019          44   Population          1   \n",
              "\n",
              "      metric_name           val         upper         lower  \n",
              "0          Number  3.423987e+08  3.523971e+08  3.324841e+08  \n",
              "1          Number  1.330245e+06  1.368039e+06  1.292459e+06  \n",
              "2          Number  3.951181e+06  4.063467e+06  3.839020e+06  \n",
              "3          Number  6.292360e+07  6.472045e+07  6.113298e+07  \n",
              "4          Number  2.741937e+08  2.822446e+08  2.662198e+08  \n",
              "...           ...           ...           ...           ...  \n",
              "95170      Number  2.050261e+06  2.193948e+06  1.919386e+06  \n",
              "95171      Number  4.200444e+06  4.494820e+06  3.932317e+06  \n",
              "95172      Number  1.498598e+05  1.642737e+05  1.369929e+05  \n",
              "95173      Number  1.419441e+05  1.556075e+05  1.297482e+05  \n",
              "95174      Number  2.918040e+05  3.198811e+05  2.667410e+05  \n",
              "\n",
              "[95175 rows x 14 columns]"
            ],
            "text/html": [
              "\n",
              "\n",
              "  <div id=\"df-43852430-a9c9-4d17-82c6-ae12b7231852\">\n",
              "    <div class=\"colab-df-container\">\n",
              "      <div>\n",
              "<style scoped>\n",
              "    .dataframe tbody tr th:only-of-type {\n",
              "        vertical-align: middle;\n",
              "    }\n",
              "\n",
              "    .dataframe tbody tr th {\n",
              "        vertical-align: top;\n",
              "    }\n",
              "\n",
              "    .dataframe thead th {\n",
              "        text-align: right;\n",
              "    }\n",
              "</style>\n",
              "<table border=\"1\" class=\"dataframe\">\n",
              "  <thead>\n",
              "    <tr style=\"text-align: right;\">\n",
              "      <th></th>\n",
              "      <th>location_id</th>\n",
              "      <th>location_name</th>\n",
              "      <th>sex_id</th>\n",
              "      <th>sex_name</th>\n",
              "      <th>age_group_id</th>\n",
              "      <th>age_group_name</th>\n",
              "      <th>year_id</th>\n",
              "      <th>measure_id</th>\n",
              "      <th>measure_name</th>\n",
              "      <th>metric_id</th>\n",
              "      <th>metric_name</th>\n",
              "      <th>val</th>\n",
              "      <th>upper</th>\n",
              "      <th>lower</th>\n",
              "    </tr>\n",
              "  </thead>\n",
              "  <tbody>\n",
              "    <tr>\n",
              "      <th>0</th>\n",
              "      <td>1</td>\n",
              "      <td>Global</td>\n",
              "      <td>1</td>\n",
              "      <td>male</td>\n",
              "      <td>1</td>\n",
              "      <td>Under 5</td>\n",
              "      <td>2019</td>\n",
              "      <td>44</td>\n",
              "      <td>Population</td>\n",
              "      <td>1</td>\n",
              "      <td>Number</td>\n",
              "      <td>3.423987e+08</td>\n",
              "      <td>3.523971e+08</td>\n",
              "      <td>3.324841e+08</td>\n",
              "    </tr>\n",
              "    <tr>\n",
              "      <th>1</th>\n",
              "      <td>1</td>\n",
              "      <td>Global</td>\n",
              "      <td>1</td>\n",
              "      <td>male</td>\n",
              "      <td>2</td>\n",
              "      <td>Early Neonatal</td>\n",
              "      <td>2019</td>\n",
              "      <td>44</td>\n",
              "      <td>Population</td>\n",
              "      <td>1</td>\n",
              "      <td>Number</td>\n",
              "      <td>1.330245e+06</td>\n",
              "      <td>1.368039e+06</td>\n",
              "      <td>1.292459e+06</td>\n",
              "    </tr>\n",
              "    <tr>\n",
              "      <th>2</th>\n",
              "      <td>1</td>\n",
              "      <td>Global</td>\n",
              "      <td>1</td>\n",
              "      <td>male</td>\n",
              "      <td>3</td>\n",
              "      <td>Late Neonatal</td>\n",
              "      <td>2019</td>\n",
              "      <td>44</td>\n",
              "      <td>Population</td>\n",
              "      <td>1</td>\n",
              "      <td>Number</td>\n",
              "      <td>3.951181e+06</td>\n",
              "      <td>4.063467e+06</td>\n",
              "      <td>3.839020e+06</td>\n",
              "    </tr>\n",
              "    <tr>\n",
              "      <th>3</th>\n",
              "      <td>1</td>\n",
              "      <td>Global</td>\n",
              "      <td>1</td>\n",
              "      <td>male</td>\n",
              "      <td>4</td>\n",
              "      <td>Post Neonatal</td>\n",
              "      <td>2019</td>\n",
              "      <td>44</td>\n",
              "      <td>Population</td>\n",
              "      <td>1</td>\n",
              "      <td>Number</td>\n",
              "      <td>6.292360e+07</td>\n",
              "      <td>6.472045e+07</td>\n",
              "      <td>6.113298e+07</td>\n",
              "    </tr>\n",
              "    <tr>\n",
              "      <th>4</th>\n",
              "      <td>1</td>\n",
              "      <td>Global</td>\n",
              "      <td>1</td>\n",
              "      <td>male</td>\n",
              "      <td>5</td>\n",
              "      <td>1 to 4</td>\n",
              "      <td>2019</td>\n",
              "      <td>44</td>\n",
              "      <td>Population</td>\n",
              "      <td>1</td>\n",
              "      <td>Number</td>\n",
              "      <td>2.741937e+08</td>\n",
              "      <td>2.822446e+08</td>\n",
              "      <td>2.662198e+08</td>\n",
              "    </tr>\n",
              "    <tr>\n",
              "      <th>...</th>\n",
              "      <td>...</td>\n",
              "      <td>...</td>\n",
              "      <td>...</td>\n",
              "      <td>...</td>\n",
              "      <td>...</td>\n",
              "      <td>...</td>\n",
              "      <td>...</td>\n",
              "      <td>...</td>\n",
              "      <td>...</td>\n",
              "      <td>...</td>\n",
              "      <td>...</td>\n",
              "      <td>...</td>\n",
              "      <td>...</td>\n",
              "      <td>...</td>\n",
              "    </tr>\n",
              "    <tr>\n",
              "      <th>95170</th>\n",
              "      <td>44638</td>\n",
              "      <td>North America</td>\n",
              "      <td>2</td>\n",
              "      <td>female</td>\n",
              "      <td>164</td>\n",
              "      <td>Birth</td>\n",
              "      <td>2019</td>\n",
              "      <td>44</td>\n",
              "      <td>Population</td>\n",
              "      <td>1</td>\n",
              "      <td>Number</td>\n",
              "      <td>2.050261e+06</td>\n",
              "      <td>2.193948e+06</td>\n",
              "      <td>1.919386e+06</td>\n",
              "    </tr>\n",
              "    <tr>\n",
              "      <th>95171</th>\n",
              "      <td>44638</td>\n",
              "      <td>North America</td>\n",
              "      <td>3</td>\n",
              "      <td>both</td>\n",
              "      <td>164</td>\n",
              "      <td>Birth</td>\n",
              "      <td>2019</td>\n",
              "      <td>44</td>\n",
              "      <td>Population</td>\n",
              "      <td>1</td>\n",
              "      <td>Number</td>\n",
              "      <td>4.200444e+06</td>\n",
              "      <td>4.494820e+06</td>\n",
              "      <td>3.932317e+06</td>\n",
              "    </tr>\n",
              "    <tr>\n",
              "      <th>95172</th>\n",
              "      <td>44642</td>\n",
              "      <td>Nordic Region</td>\n",
              "      <td>1</td>\n",
              "      <td>male</td>\n",
              "      <td>164</td>\n",
              "      <td>Birth</td>\n",
              "      <td>2019</td>\n",
              "      <td>44</td>\n",
              "      <td>Population</td>\n",
              "      <td>1</td>\n",
              "      <td>Number</td>\n",
              "      <td>1.498598e+05</td>\n",
              "      <td>1.642737e+05</td>\n",
              "      <td>1.369929e+05</td>\n",
              "    </tr>\n",
              "    <tr>\n",
              "      <th>95173</th>\n",
              "      <td>44642</td>\n",
              "      <td>Nordic Region</td>\n",
              "      <td>2</td>\n",
              "      <td>female</td>\n",
              "      <td>164</td>\n",
              "      <td>Birth</td>\n",
              "      <td>2019</td>\n",
              "      <td>44</td>\n",
              "      <td>Population</td>\n",
              "      <td>1</td>\n",
              "      <td>Number</td>\n",
              "      <td>1.419441e+05</td>\n",
              "      <td>1.556075e+05</td>\n",
              "      <td>1.297482e+05</td>\n",
              "    </tr>\n",
              "    <tr>\n",
              "      <th>95174</th>\n",
              "      <td>44642</td>\n",
              "      <td>Nordic Region</td>\n",
              "      <td>3</td>\n",
              "      <td>both</td>\n",
              "      <td>164</td>\n",
              "      <td>Birth</td>\n",
              "      <td>2019</td>\n",
              "      <td>44</td>\n",
              "      <td>Population</td>\n",
              "      <td>1</td>\n",
              "      <td>Number</td>\n",
              "      <td>2.918040e+05</td>\n",
              "      <td>3.198811e+05</td>\n",
              "      <td>2.667410e+05</td>\n",
              "    </tr>\n",
              "  </tbody>\n",
              "</table>\n",
              "<p>95175 rows × 14 columns</p>\n",
              "</div>\n",
              "      <button class=\"colab-df-convert\" onclick=\"convertToInteractive('df-43852430-a9c9-4d17-82c6-ae12b7231852')\"\n",
              "              title=\"Convert this dataframe to an interactive table.\"\n",
              "              style=\"display:none;\">\n",
              "\n",
              "  <svg xmlns=\"http://www.w3.org/2000/svg\" height=\"24px\"viewBox=\"0 0 24 24\"\n",
              "       width=\"24px\">\n",
              "    <path d=\"M0 0h24v24H0V0z\" fill=\"none\"/>\n",
              "    <path d=\"M18.56 5.44l.94 2.06.94-2.06 2.06-.94-2.06-.94-.94-2.06-.94 2.06-2.06.94zm-11 1L8.5 8.5l.94-2.06 2.06-.94-2.06-.94L8.5 2.5l-.94 2.06-2.06.94zm10 10l.94 2.06.94-2.06 2.06-.94-2.06-.94-.94-2.06-.94 2.06-2.06.94z\"/><path d=\"M17.41 7.96l-1.37-1.37c-.4-.4-.92-.59-1.43-.59-.52 0-1.04.2-1.43.59L10.3 9.45l-7.72 7.72c-.78.78-.78 2.05 0 2.83L4 21.41c.39.39.9.59 1.41.59.51 0 1.02-.2 1.41-.59l7.78-7.78 2.81-2.81c.8-.78.8-2.07 0-2.86zM5.41 20L4 18.59l7.72-7.72 1.47 1.35L5.41 20z\"/>\n",
              "  </svg>\n",
              "      </button>\n",
              "\n",
              "\n",
              "\n",
              "    <div id=\"df-0e7ee9cc-06e4-47d4-9a8b-ca012ec22f30\">\n",
              "      <button class=\"colab-df-quickchart\" onclick=\"quickchart('df-0e7ee9cc-06e4-47d4-9a8b-ca012ec22f30')\"\n",
              "              title=\"Suggest charts.\"\n",
              "              style=\"display:none;\">\n",
              "\n",
              "<svg xmlns=\"http://www.w3.org/2000/svg\" height=\"24px\"viewBox=\"0 0 24 24\"\n",
              "     width=\"24px\">\n",
              "    <g>\n",
              "        <path d=\"M19 3H5c-1.1 0-2 .9-2 2v14c0 1.1.9 2 2 2h14c1.1 0 2-.9 2-2V5c0-1.1-.9-2-2-2zM9 17H7v-7h2v7zm4 0h-2V7h2v10zm4 0h-2v-4h2v4z\"/>\n",
              "    </g>\n",
              "</svg>\n",
              "      </button>\n",
              "    </div>\n",
              "\n",
              "<style>\n",
              "  .colab-df-quickchart {\n",
              "    background-color: #E8F0FE;\n",
              "    border: none;\n",
              "    border-radius: 50%;\n",
              "    cursor: pointer;\n",
              "    display: none;\n",
              "    fill: #1967D2;\n",
              "    height: 32px;\n",
              "    padding: 0 0 0 0;\n",
              "    width: 32px;\n",
              "  }\n",
              "\n",
              "  .colab-df-quickchart:hover {\n",
              "    background-color: #E2EBFA;\n",
              "    box-shadow: 0px 1px 2px rgba(60, 64, 67, 0.3), 0px 1px 3px 1px rgba(60, 64, 67, 0.15);\n",
              "    fill: #174EA6;\n",
              "  }\n",
              "\n",
              "  [theme=dark] .colab-df-quickchart {\n",
              "    background-color: #3B4455;\n",
              "    fill: #D2E3FC;\n",
              "  }\n",
              "\n",
              "  [theme=dark] .colab-df-quickchart:hover {\n",
              "    background-color: #434B5C;\n",
              "    box-shadow: 0px 1px 3px 1px rgba(0, 0, 0, 0.15);\n",
              "    filter: drop-shadow(0px 1px 2px rgba(0, 0, 0, 0.3));\n",
              "    fill: #FFFFFF;\n",
              "  }\n",
              "</style>\n",
              "\n",
              "    <script>\n",
              "      async function quickchart(key) {\n",
              "        const containerElement = document.querySelector('#' + key);\n",
              "        const charts = await google.colab.kernel.invokeFunction(\n",
              "            'suggestCharts', [key], {});\n",
              "      }\n",
              "    </script>\n",
              "\n",
              "      <script>\n",
              "\n",
              "function displayQuickchartButton(domScope) {\n",
              "  let quickchartButtonEl =\n",
              "    domScope.querySelector('#df-0e7ee9cc-06e4-47d4-9a8b-ca012ec22f30 button.colab-df-quickchart');\n",
              "  quickchartButtonEl.style.display =\n",
              "    google.colab.kernel.accessAllowed ? 'block' : 'none';\n",
              "}\n",
              "\n",
              "        displayQuickchartButton(document);\n",
              "      </script>\n",
              "      <style>\n",
              "    .colab-df-container {\n",
              "      display:flex;\n",
              "      flex-wrap:wrap;\n",
              "      gap: 12px;\n",
              "    }\n",
              "\n",
              "    .colab-df-convert {\n",
              "      background-color: #E8F0FE;\n",
              "      border: none;\n",
              "      border-radius: 50%;\n",
              "      cursor: pointer;\n",
              "      display: none;\n",
              "      fill: #1967D2;\n",
              "      height: 32px;\n",
              "      padding: 0 0 0 0;\n",
              "      width: 32px;\n",
              "    }\n",
              "\n",
              "    .colab-df-convert:hover {\n",
              "      background-color: #E2EBFA;\n",
              "      box-shadow: 0px 1px 2px rgba(60, 64, 67, 0.3), 0px 1px 3px 1px rgba(60, 64, 67, 0.15);\n",
              "      fill: #174EA6;\n",
              "    }\n",
              "\n",
              "    [theme=dark] .colab-df-convert {\n",
              "      background-color: #3B4455;\n",
              "      fill: #D2E3FC;\n",
              "    }\n",
              "\n",
              "    [theme=dark] .colab-df-convert:hover {\n",
              "      background-color: #434B5C;\n",
              "      box-shadow: 0px 1px 3px 1px rgba(0, 0, 0, 0.15);\n",
              "      filter: drop-shadow(0px 1px 2px rgba(0, 0, 0, 0.3));\n",
              "      fill: #FFFFFF;\n",
              "    }\n",
              "  </style>\n",
              "\n",
              "      <script>\n",
              "        const buttonEl =\n",
              "          document.querySelector('#df-43852430-a9c9-4d17-82c6-ae12b7231852 button.colab-df-convert');\n",
              "        buttonEl.style.display =\n",
              "          google.colab.kernel.accessAllowed ? 'block' : 'none';\n",
              "\n",
              "        async function convertToInteractive(key) {\n",
              "          const element = document.querySelector('#df-43852430-a9c9-4d17-82c6-ae12b7231852');\n",
              "          const dataTable =\n",
              "            await google.colab.kernel.invokeFunction('convertToInteractive',\n",
              "                                                     [key], {});\n",
              "          if (!dataTable) return;\n",
              "\n",
              "          const docLinkHtml = 'Like what you see? Visit the ' +\n",
              "            '<a target=\"_blank\" href=https://colab.research.google.com/notebooks/data_table.ipynb>data table notebook</a>'\n",
              "            + ' to learn more about interactive tables.';\n",
              "          element.innerHTML = '';\n",
              "          dataTable['output_type'] = 'display_data';\n",
              "          await google.colab.output.renderOutput(dataTable, element);\n",
              "          const docLink = document.createElement('div');\n",
              "          docLink.innerHTML = docLinkHtml;\n",
              "          element.appendChild(docLink);\n",
              "        }\n",
              "      </script>\n",
              "    </div>\n",
              "  </div>\n"
            ]
          },
          "metadata": {},
          "execution_count": 113
        }
      ],
      "source": [
        "population"
      ]
    },
    {
      "cell_type": "code",
      "execution_count": 114,
      "metadata": {
        "id": "8AjLiRtaT4kB"
      },
      "outputs": [],
      "source": [
        "population_age_group_id_to_name = {\n",
        "    k: v for k, v in population[['age_group_id', 'age_group_name']].values\n",
        "}"
      ]
    },
    {
      "cell_type": "markdown",
      "metadata": {
        "id": "3ZdaC925T4kC"
      },
      "source": [
        "load population_code_book"
      ]
    },
    {
      "cell_type": "code",
      "execution_count": 115,
      "metadata": {
        "colab": {
          "base_uri": "https://localhost:8080/",
          "height": 574
        },
        "id": "S5CwPLHCT4kC",
        "outputId": "c0cb47be-e614-4a81-c823-25da333ca96b"
      },
      "outputs": [
        {
          "output_type": "execute_result",
          "data": {
            "text/plain": [
              "    location_id                           location_name sex_id sex_name  \\\n",
              "1             1                                  Global      1     male   \n",
              "2             4  Southeast Asia, East Asia, and Oceania      2   female   \n",
              "3             5                               East Asia      3     both   \n",
              "4             6                                   China    NaN      NaN   \n",
              "5             7   Democratic People's Republic of Korea    NaN      NaN   \n",
              "..          ...                                     ...    ...      ...   \n",
              "671       44788                                  Torbay    NaN      NaN   \n",
              "672       44789                        Bristol, City of    NaN      NaN   \n",
              "673       44790                             Bournemouth    NaN      NaN   \n",
              "674       44791                                Cornwall    NaN      NaN   \n",
              "675       44792                                Plymouth    NaN      NaN   \n",
              "\n",
              "    age_group_id  age_group_name year_id measure_id measure_name metric_id  \\\n",
              "1              1         Under 5    1950         44   Population         1   \n",
              "2              2  Early Neonatal    1951        NaN          NaN       NaN   \n",
              "3              3   Late Neonatal    1952        NaN          NaN       NaN   \n",
              "4              4   Post Neonatal    1953        NaN          NaN       NaN   \n",
              "5              5          1 to 4    1954        NaN          NaN       NaN   \n",
              "..           ...             ...     ...        ...          ...       ...   \n",
              "671          NaN             NaN     NaN        NaN          NaN       NaN   \n",
              "672          NaN             NaN     NaN        NaN          NaN       NaN   \n",
              "673          NaN             NaN     NaN        NaN          NaN       NaN   \n",
              "674          NaN             NaN     NaN        NaN          NaN       NaN   \n",
              "675          NaN             NaN     NaN        NaN          NaN       NaN   \n",
              "\n",
              "    metric_name  val upper lower  \n",
              "1        Number  NaN   NaN   NaN  \n",
              "2           NaN  NaN   NaN   NaN  \n",
              "3           NaN  NaN   NaN   NaN  \n",
              "4           NaN  NaN   NaN   NaN  \n",
              "5           NaN  NaN   NaN   NaN  \n",
              "..          ...  ...   ...   ...  \n",
              "671         NaN  NaN   NaN   NaN  \n",
              "672         NaN  NaN   NaN   NaN  \n",
              "673         NaN  NaN   NaN   NaN  \n",
              "674         NaN  NaN   NaN   NaN  \n",
              "675         NaN  NaN   NaN   NaN  \n",
              "\n",
              "[675 rows x 14 columns]"
            ],
            "text/html": [
              "\n",
              "\n",
              "  <div id=\"df-b1f52ae7-93fd-4267-972c-95e3472255ef\">\n",
              "    <div class=\"colab-df-container\">\n",
              "      <div>\n",
              "<style scoped>\n",
              "    .dataframe tbody tr th:only-of-type {\n",
              "        vertical-align: middle;\n",
              "    }\n",
              "\n",
              "    .dataframe tbody tr th {\n",
              "        vertical-align: top;\n",
              "    }\n",
              "\n",
              "    .dataframe thead th {\n",
              "        text-align: right;\n",
              "    }\n",
              "</style>\n",
              "<table border=\"1\" class=\"dataframe\">\n",
              "  <thead>\n",
              "    <tr style=\"text-align: right;\">\n",
              "      <th></th>\n",
              "      <th>location_id</th>\n",
              "      <th>location_name</th>\n",
              "      <th>sex_id</th>\n",
              "      <th>sex_name</th>\n",
              "      <th>age_group_id</th>\n",
              "      <th>age_group_name</th>\n",
              "      <th>year_id</th>\n",
              "      <th>measure_id</th>\n",
              "      <th>measure_name</th>\n",
              "      <th>metric_id</th>\n",
              "      <th>metric_name</th>\n",
              "      <th>val</th>\n",
              "      <th>upper</th>\n",
              "      <th>lower</th>\n",
              "    </tr>\n",
              "  </thead>\n",
              "  <tbody>\n",
              "    <tr>\n",
              "      <th>1</th>\n",
              "      <td>1</td>\n",
              "      <td>Global</td>\n",
              "      <td>1</td>\n",
              "      <td>male</td>\n",
              "      <td>1</td>\n",
              "      <td>Under 5</td>\n",
              "      <td>1950</td>\n",
              "      <td>44</td>\n",
              "      <td>Population</td>\n",
              "      <td>1</td>\n",
              "      <td>Number</td>\n",
              "      <td>NaN</td>\n",
              "      <td>NaN</td>\n",
              "      <td>NaN</td>\n",
              "    </tr>\n",
              "    <tr>\n",
              "      <th>2</th>\n",
              "      <td>4</td>\n",
              "      <td>Southeast Asia, East Asia, and Oceania</td>\n",
              "      <td>2</td>\n",
              "      <td>female</td>\n",
              "      <td>2</td>\n",
              "      <td>Early Neonatal</td>\n",
              "      <td>1951</td>\n",
              "      <td>NaN</td>\n",
              "      <td>NaN</td>\n",
              "      <td>NaN</td>\n",
              "      <td>NaN</td>\n",
              "      <td>NaN</td>\n",
              "      <td>NaN</td>\n",
              "      <td>NaN</td>\n",
              "    </tr>\n",
              "    <tr>\n",
              "      <th>3</th>\n",
              "      <td>5</td>\n",
              "      <td>East Asia</td>\n",
              "      <td>3</td>\n",
              "      <td>both</td>\n",
              "      <td>3</td>\n",
              "      <td>Late Neonatal</td>\n",
              "      <td>1952</td>\n",
              "      <td>NaN</td>\n",
              "      <td>NaN</td>\n",
              "      <td>NaN</td>\n",
              "      <td>NaN</td>\n",
              "      <td>NaN</td>\n",
              "      <td>NaN</td>\n",
              "      <td>NaN</td>\n",
              "    </tr>\n",
              "    <tr>\n",
              "      <th>4</th>\n",
              "      <td>6</td>\n",
              "      <td>China</td>\n",
              "      <td>NaN</td>\n",
              "      <td>NaN</td>\n",
              "      <td>4</td>\n",
              "      <td>Post Neonatal</td>\n",
              "      <td>1953</td>\n",
              "      <td>NaN</td>\n",
              "      <td>NaN</td>\n",
              "      <td>NaN</td>\n",
              "      <td>NaN</td>\n",
              "      <td>NaN</td>\n",
              "      <td>NaN</td>\n",
              "      <td>NaN</td>\n",
              "    </tr>\n",
              "    <tr>\n",
              "      <th>5</th>\n",
              "      <td>7</td>\n",
              "      <td>Democratic People's Republic of Korea</td>\n",
              "      <td>NaN</td>\n",
              "      <td>NaN</td>\n",
              "      <td>5</td>\n",
              "      <td>1 to 4</td>\n",
              "      <td>1954</td>\n",
              "      <td>NaN</td>\n",
              "      <td>NaN</td>\n",
              "      <td>NaN</td>\n",
              "      <td>NaN</td>\n",
              "      <td>NaN</td>\n",
              "      <td>NaN</td>\n",
              "      <td>NaN</td>\n",
              "    </tr>\n",
              "    <tr>\n",
              "      <th>...</th>\n",
              "      <td>...</td>\n",
              "      <td>...</td>\n",
              "      <td>...</td>\n",
              "      <td>...</td>\n",
              "      <td>...</td>\n",
              "      <td>...</td>\n",
              "      <td>...</td>\n",
              "      <td>...</td>\n",
              "      <td>...</td>\n",
              "      <td>...</td>\n",
              "      <td>...</td>\n",
              "      <td>...</td>\n",
              "      <td>...</td>\n",
              "      <td>...</td>\n",
              "    </tr>\n",
              "    <tr>\n",
              "      <th>671</th>\n",
              "      <td>44788</td>\n",
              "      <td>Torbay</td>\n",
              "      <td>NaN</td>\n",
              "      <td>NaN</td>\n",
              "      <td>NaN</td>\n",
              "      <td>NaN</td>\n",
              "      <td>NaN</td>\n",
              "      <td>NaN</td>\n",
              "      <td>NaN</td>\n",
              "      <td>NaN</td>\n",
              "      <td>NaN</td>\n",
              "      <td>NaN</td>\n",
              "      <td>NaN</td>\n",
              "      <td>NaN</td>\n",
              "    </tr>\n",
              "    <tr>\n",
              "      <th>672</th>\n",
              "      <td>44789</td>\n",
              "      <td>Bristol, City of</td>\n",
              "      <td>NaN</td>\n",
              "      <td>NaN</td>\n",
              "      <td>NaN</td>\n",
              "      <td>NaN</td>\n",
              "      <td>NaN</td>\n",
              "      <td>NaN</td>\n",
              "      <td>NaN</td>\n",
              "      <td>NaN</td>\n",
              "      <td>NaN</td>\n",
              "      <td>NaN</td>\n",
              "      <td>NaN</td>\n",
              "      <td>NaN</td>\n",
              "    </tr>\n",
              "    <tr>\n",
              "      <th>673</th>\n",
              "      <td>44790</td>\n",
              "      <td>Bournemouth</td>\n",
              "      <td>NaN</td>\n",
              "      <td>NaN</td>\n",
              "      <td>NaN</td>\n",
              "      <td>NaN</td>\n",
              "      <td>NaN</td>\n",
              "      <td>NaN</td>\n",
              "      <td>NaN</td>\n",
              "      <td>NaN</td>\n",
              "      <td>NaN</td>\n",
              "      <td>NaN</td>\n",
              "      <td>NaN</td>\n",
              "      <td>NaN</td>\n",
              "    </tr>\n",
              "    <tr>\n",
              "      <th>674</th>\n",
              "      <td>44791</td>\n",
              "      <td>Cornwall</td>\n",
              "      <td>NaN</td>\n",
              "      <td>NaN</td>\n",
              "      <td>NaN</td>\n",
              "      <td>NaN</td>\n",
              "      <td>NaN</td>\n",
              "      <td>NaN</td>\n",
              "      <td>NaN</td>\n",
              "      <td>NaN</td>\n",
              "      <td>NaN</td>\n",
              "      <td>NaN</td>\n",
              "      <td>NaN</td>\n",
              "      <td>NaN</td>\n",
              "    </tr>\n",
              "    <tr>\n",
              "      <th>675</th>\n",
              "      <td>44792</td>\n",
              "      <td>Plymouth</td>\n",
              "      <td>NaN</td>\n",
              "      <td>NaN</td>\n",
              "      <td>NaN</td>\n",
              "      <td>NaN</td>\n",
              "      <td>NaN</td>\n",
              "      <td>NaN</td>\n",
              "      <td>NaN</td>\n",
              "      <td>NaN</td>\n",
              "      <td>NaN</td>\n",
              "      <td>NaN</td>\n",
              "      <td>NaN</td>\n",
              "      <td>NaN</td>\n",
              "    </tr>\n",
              "  </tbody>\n",
              "</table>\n",
              "<p>675 rows × 14 columns</p>\n",
              "</div>\n",
              "      <button class=\"colab-df-convert\" onclick=\"convertToInteractive('df-b1f52ae7-93fd-4267-972c-95e3472255ef')\"\n",
              "              title=\"Convert this dataframe to an interactive table.\"\n",
              "              style=\"display:none;\">\n",
              "\n",
              "  <svg xmlns=\"http://www.w3.org/2000/svg\" height=\"24px\"viewBox=\"0 0 24 24\"\n",
              "       width=\"24px\">\n",
              "    <path d=\"M0 0h24v24H0V0z\" fill=\"none\"/>\n",
              "    <path d=\"M18.56 5.44l.94 2.06.94-2.06 2.06-.94-2.06-.94-.94-2.06-.94 2.06-2.06.94zm-11 1L8.5 8.5l.94-2.06 2.06-.94-2.06-.94L8.5 2.5l-.94 2.06-2.06.94zm10 10l.94 2.06.94-2.06 2.06-.94-2.06-.94-.94-2.06-.94 2.06-2.06.94z\"/><path d=\"M17.41 7.96l-1.37-1.37c-.4-.4-.92-.59-1.43-.59-.52 0-1.04.2-1.43.59L10.3 9.45l-7.72 7.72c-.78.78-.78 2.05 0 2.83L4 21.41c.39.39.9.59 1.41.59.51 0 1.02-.2 1.41-.59l7.78-7.78 2.81-2.81c.8-.78.8-2.07 0-2.86zM5.41 20L4 18.59l7.72-7.72 1.47 1.35L5.41 20z\"/>\n",
              "  </svg>\n",
              "      </button>\n",
              "\n",
              "\n",
              "\n",
              "    <div id=\"df-d599ac29-e3bf-48bd-9756-403d1979e9f0\">\n",
              "      <button class=\"colab-df-quickchart\" onclick=\"quickchart('df-d599ac29-e3bf-48bd-9756-403d1979e9f0')\"\n",
              "              title=\"Suggest charts.\"\n",
              "              style=\"display:none;\">\n",
              "\n",
              "<svg xmlns=\"http://www.w3.org/2000/svg\" height=\"24px\"viewBox=\"0 0 24 24\"\n",
              "     width=\"24px\">\n",
              "    <g>\n",
              "        <path d=\"M19 3H5c-1.1 0-2 .9-2 2v14c0 1.1.9 2 2 2h14c1.1 0 2-.9 2-2V5c0-1.1-.9-2-2-2zM9 17H7v-7h2v7zm4 0h-2V7h2v10zm4 0h-2v-4h2v4z\"/>\n",
              "    </g>\n",
              "</svg>\n",
              "      </button>\n",
              "    </div>\n",
              "\n",
              "<style>\n",
              "  .colab-df-quickchart {\n",
              "    background-color: #E8F0FE;\n",
              "    border: none;\n",
              "    border-radius: 50%;\n",
              "    cursor: pointer;\n",
              "    display: none;\n",
              "    fill: #1967D2;\n",
              "    height: 32px;\n",
              "    padding: 0 0 0 0;\n",
              "    width: 32px;\n",
              "  }\n",
              "\n",
              "  .colab-df-quickchart:hover {\n",
              "    background-color: #E2EBFA;\n",
              "    box-shadow: 0px 1px 2px rgba(60, 64, 67, 0.3), 0px 1px 3px 1px rgba(60, 64, 67, 0.15);\n",
              "    fill: #174EA6;\n",
              "  }\n",
              "\n",
              "  [theme=dark] .colab-df-quickchart {\n",
              "    background-color: #3B4455;\n",
              "    fill: #D2E3FC;\n",
              "  }\n",
              "\n",
              "  [theme=dark] .colab-df-quickchart:hover {\n",
              "    background-color: #434B5C;\n",
              "    box-shadow: 0px 1px 3px 1px rgba(0, 0, 0, 0.15);\n",
              "    filter: drop-shadow(0px 1px 2px rgba(0, 0, 0, 0.3));\n",
              "    fill: #FFFFFF;\n",
              "  }\n",
              "</style>\n",
              "\n",
              "    <script>\n",
              "      async function quickchart(key) {\n",
              "        const containerElement = document.querySelector('#' + key);\n",
              "        const charts = await google.colab.kernel.invokeFunction(\n",
              "            'suggestCharts', [key], {});\n",
              "      }\n",
              "    </script>\n",
              "\n",
              "      <script>\n",
              "\n",
              "function displayQuickchartButton(domScope) {\n",
              "  let quickchartButtonEl =\n",
              "    domScope.querySelector('#df-d599ac29-e3bf-48bd-9756-403d1979e9f0 button.colab-df-quickchart');\n",
              "  quickchartButtonEl.style.display =\n",
              "    google.colab.kernel.accessAllowed ? 'block' : 'none';\n",
              "}\n",
              "\n",
              "        displayQuickchartButton(document);\n",
              "      </script>\n",
              "      <style>\n",
              "    .colab-df-container {\n",
              "      display:flex;\n",
              "      flex-wrap:wrap;\n",
              "      gap: 12px;\n",
              "    }\n",
              "\n",
              "    .colab-df-convert {\n",
              "      background-color: #E8F0FE;\n",
              "      border: none;\n",
              "      border-radius: 50%;\n",
              "      cursor: pointer;\n",
              "      display: none;\n",
              "      fill: #1967D2;\n",
              "      height: 32px;\n",
              "      padding: 0 0 0 0;\n",
              "      width: 32px;\n",
              "    }\n",
              "\n",
              "    .colab-df-convert:hover {\n",
              "      background-color: #E2EBFA;\n",
              "      box-shadow: 0px 1px 2px rgba(60, 64, 67, 0.3), 0px 1px 3px 1px rgba(60, 64, 67, 0.15);\n",
              "      fill: #174EA6;\n",
              "    }\n",
              "\n",
              "    [theme=dark] .colab-df-convert {\n",
              "      background-color: #3B4455;\n",
              "      fill: #D2E3FC;\n",
              "    }\n",
              "\n",
              "    [theme=dark] .colab-df-convert:hover {\n",
              "      background-color: #434B5C;\n",
              "      box-shadow: 0px 1px 3px 1px rgba(0, 0, 0, 0.15);\n",
              "      filter: drop-shadow(0px 1px 2px rgba(0, 0, 0, 0.3));\n",
              "      fill: #FFFFFF;\n",
              "    }\n",
              "  </style>\n",
              "\n",
              "      <script>\n",
              "        const buttonEl =\n",
              "          document.querySelector('#df-b1f52ae7-93fd-4267-972c-95e3472255ef button.colab-df-convert');\n",
              "        buttonEl.style.display =\n",
              "          google.colab.kernel.accessAllowed ? 'block' : 'none';\n",
              "\n",
              "        async function convertToInteractive(key) {\n",
              "          const element = document.querySelector('#df-b1f52ae7-93fd-4267-972c-95e3472255ef');\n",
              "          const dataTable =\n",
              "            await google.colab.kernel.invokeFunction('convertToInteractive',\n",
              "                                                     [key], {});\n",
              "          if (!dataTable) return;\n",
              "\n",
              "          const docLinkHtml = 'Like what you see? Visit the ' +\n",
              "            '<a target=\"_blank\" href=https://colab.research.google.com/notebooks/data_table.ipynb>data table notebook</a>'\n",
              "            + ' to learn more about interactive tables.';\n",
              "          element.innerHTML = '';\n",
              "          dataTable['output_type'] = 'display_data';\n",
              "          await google.colab.output.renderOutput(dataTable, element);\n",
              "          const docLink = document.createElement('div');\n",
              "          docLink.innerHTML = docLinkHtml;\n",
              "          element.appendChild(docLink);\n",
              "        }\n",
              "      </script>\n",
              "    </div>\n",
              "  </div>\n"
            ]
          },
          "metadata": {},
          "execution_count": 115
        }
      ],
      "source": [
        "population_code_book = pd.read_csv(\n",
        "    os.path.join(path_root, 'population', 'code_book.csv')\n",
        ").iloc[1:, 1:]\n",
        "\n",
        "population_code_book"
      ]
    },
    {
      "cell_type": "markdown",
      "metadata": {
        "id": "1sy3XjkYT4kC"
      },
      "source": [
        "### load life expectancy"
      ]
    },
    {
      "cell_type": "code",
      "execution_count": 116,
      "metadata": {
        "colab": {
          "base_uri": "https://localhost:8080/"
        },
        "id": "8bcaOeCjT4kC",
        "outputId": "18e914b0-d902-4c48-e168-bf4fe78ecf67"
      },
      "outputs": [
        {
          "output_type": "execute_result",
          "data": {
            "text/plain": [
              "['/content/drive/Shareddrives/OpenLabData/gbd_life_extension_dashboard/life_expectancy/code_book.csv',\n",
              " '/content/drive/Shareddrives/OpenLabData/gbd_life_extension_dashboard/life_expectancy/IHME-GBD_2019_DATA-2eb8428f-1.csv']"
            ]
          },
          "metadata": {},
          "execution_count": 116
        }
      ],
      "source": [
        "paths = [x for x in os.walk(os.path.join(path_root, 'life_expectancy'))]\n",
        "\n",
        "file_paths = []\n",
        "\n",
        "for folder in paths:\n",
        "    for file_name in folder[2]:\n",
        "        if '.csv' in file_name:\n",
        "            file_paths.append(os.path.join(folder[0], file_name))\n",
        "\n",
        "file_paths"
      ]
    },
    {
      "cell_type": "code",
      "execution_count": 117,
      "metadata": {
        "id": "cFK2-4GIT4kD"
      },
      "outputs": [],
      "source": [
        "life_expectancy = pd.concat([pd.read_csv(x) for x in file_paths], axis=0)"
      ]
    },
    {
      "cell_type": "code",
      "execution_count": 118,
      "metadata": {
        "colab": {
          "base_uri": "https://localhost:8080/"
        },
        "id": "1oD01oKcT4kD",
        "outputId": "33a3e14c-a7f0-46fd-a281-a24dadee730a"
      },
      "outputs": [
        {
          "output_type": "execute_result",
          "data": {
            "text/plain": [
              "Index(['Variable:', 'location_id', 'location_name', 'sex_id', 'sex_name',\n",
              "       'age_group_id', 'age_group_name', 'year_id', 'measure_id',\n",
              "       'measure_name', 'metric_id', 'metric_name', 'val', 'upper', 'lower',\n",
              "       'age_id', 'age_name', 'year'],\n",
              "      dtype='object')"
            ]
          },
          "metadata": {},
          "execution_count": 118
        }
      ],
      "source": [
        "life_expectancy.columns"
      ]
    },
    {
      "cell_type": "code",
      "execution_count": 119,
      "metadata": {
        "id": "rodrDQXFT4kD"
      },
      "outputs": [],
      "source": [
        "life_expectancy_age_id_to_name = {str(k): v for k, v in life_expectancy[['age_id', 'age_name']].values}"
      ]
    },
    {
      "cell_type": "code",
      "execution_count": 120,
      "metadata": {
        "colab": {
          "base_uri": "https://localhost:8080/"
        },
        "id": "MY2ZIJjNT4kD",
        "outputId": "68eab176-13fa-4ad0-e642-b48d8b3b14eb"
      },
      "outputs": [
        {
          "output_type": "execute_result",
          "data": {
            "text/plain": [
              "{'nan': nan,\n",
              " '45.0': '105-109 years',\n",
              " '148.0': '110+ years',\n",
              " '5.0': '1-4 years',\n",
              " '6.0': '5-9 years',\n",
              " '7.0': '10-14 years',\n",
              " '8.0': '15-19 years',\n",
              " '9.0': '20-24 years',\n",
              " '10.0': '25-29 years',\n",
              " '11.0': '30-34 years',\n",
              " '12.0': '35-39 years',\n",
              " '13.0': '40-44 years',\n",
              " '14.0': '45-49 years',\n",
              " '15.0': '50-54 years',\n",
              " '16.0': '55-59 years',\n",
              " '17.0': '60-64 years',\n",
              " '18.0': '65-69 years',\n",
              " '19.0': '70-74 years',\n",
              " '20.0': '75-79 years',\n",
              " '28.0': '<1 year',\n",
              " '30.0': '80-84',\n",
              " '31.0': '85-89',\n",
              " '32.0': '90-94',\n",
              " '33.0': '95-99 years',\n",
              " '44.0': '100-104 years'}"
            ]
          },
          "metadata": {},
          "execution_count": 120
        }
      ],
      "source": [
        "life_expectancy_age_id_to_name"
      ]
    },
    {
      "cell_type": "code",
      "execution_count": 121,
      "metadata": {
        "colab": {
          "base_uri": "https://localhost:8080/",
          "height": 642
        },
        "id": "IVy6TzVLT4kE",
        "outputId": "01eb14a8-d6e0-4504-ace4-d3a8258520c9"
      },
      "outputs": [
        {
          "output_type": "stream",
          "name": "stdout",
          "text": [
            "Variable::\n"
          ]
        },
        {
          "output_type": "display_data",
          "data": {
            "text/plain": [
              "2"
            ]
          },
          "metadata": {}
        },
        {
          "output_type": "stream",
          "name": "stdout",
          "text": [
            "location_id:\n"
          ]
        },
        {
          "output_type": "display_data",
          "data": {
            "text/plain": [
              "880"
            ]
          },
          "metadata": {}
        },
        {
          "output_type": "stream",
          "name": "stdout",
          "text": [
            "location_name:\n"
          ]
        },
        {
          "output_type": "display_data",
          "data": {
            "text/plain": [
              "673"
            ]
          },
          "metadata": {}
        },
        {
          "output_type": "stream",
          "name": "stdout",
          "text": [
            "sex_id:\n"
          ]
        },
        {
          "output_type": "display_data",
          "data": {
            "text/plain": [
              "6"
            ]
          },
          "metadata": {}
        },
        {
          "output_type": "stream",
          "name": "stdout",
          "text": [
            "sex_name:\n"
          ]
        },
        {
          "output_type": "display_data",
          "data": {
            "text/plain": [
              "6"
            ]
          },
          "metadata": {}
        },
        {
          "output_type": "stream",
          "name": "stdout",
          "text": [
            "age_group_id:\n"
          ]
        },
        {
          "output_type": "display_data",
          "data": {
            "text/plain": [
              "25"
            ]
          },
          "metadata": {}
        },
        {
          "output_type": "stream",
          "name": "stdout",
          "text": [
            "age_group_name:\n"
          ]
        },
        {
          "output_type": "display_data",
          "data": {
            "text/plain": [
              "25"
            ]
          },
          "metadata": {}
        },
        {
          "output_type": "stream",
          "name": "stdout",
          "text": [
            "year_id:\n"
          ]
        },
        {
          "output_type": "display_data",
          "data": {
            "text/plain": [
              "71"
            ]
          },
          "metadata": {}
        },
        {
          "output_type": "stream",
          "name": "stdout",
          "text": [
            "measure_id:\n"
          ]
        },
        {
          "output_type": "display_data",
          "data": {
            "text/plain": [
              "6"
            ]
          },
          "metadata": {}
        },
        {
          "output_type": "stream",
          "name": "stdout",
          "text": [
            "measure_name:\n"
          ]
        },
        {
          "output_type": "display_data",
          "data": {
            "text/plain": [
              "5"
            ]
          },
          "metadata": {}
        },
        {
          "output_type": "stream",
          "name": "stdout",
          "text": [
            "metric_id:\n"
          ]
        },
        {
          "output_type": "display_data",
          "data": {
            "text/plain": [
              "4"
            ]
          },
          "metadata": {}
        },
        {
          "output_type": "stream",
          "name": "stdout",
          "text": [
            "metric_name:\n"
          ]
        },
        {
          "output_type": "display_data",
          "data": {
            "text/plain": [
              "3"
            ]
          },
          "metadata": {}
        },
        {
          "output_type": "stream",
          "name": "stdout",
          "text": [
            "val:\n"
          ]
        },
        {
          "output_type": "display_data",
          "data": {
            "text/plain": [
              "9793"
            ]
          },
          "metadata": {}
        },
        {
          "output_type": "stream",
          "name": "stdout",
          "text": [
            "upper:\n"
          ]
        },
        {
          "output_type": "display_data",
          "data": {
            "text/plain": [
              "9793"
            ]
          },
          "metadata": {}
        },
        {
          "output_type": "stream",
          "name": "stdout",
          "text": [
            "lower:\n"
          ]
        },
        {
          "output_type": "display_data",
          "data": {
            "text/plain": [
              "9792"
            ]
          },
          "metadata": {}
        },
        {
          "output_type": "stream",
          "name": "stdout",
          "text": [
            "age_id:\n"
          ]
        },
        {
          "output_type": "display_data",
          "data": {
            "text/plain": [
              "24"
            ]
          },
          "metadata": {}
        },
        {
          "output_type": "stream",
          "name": "stdout",
          "text": [
            "age_name:\n"
          ]
        },
        {
          "output_type": "display_data",
          "data": {
            "text/plain": [
              "24"
            ]
          },
          "metadata": {}
        },
        {
          "output_type": "stream",
          "name": "stdout",
          "text": [
            "year:\n"
          ]
        },
        {
          "output_type": "display_data",
          "data": {
            "text/plain": [
              "1"
            ]
          },
          "metadata": {}
        }
      ],
      "source": [
        "for column in life_expectancy.columns:\n",
        "    print(f'{column}:')\n",
        "    display(life_expectancy[column].nunique())"
      ]
    },
    {
      "cell_type": "markdown",
      "metadata": {
        "id": "aPhSfUXiT4kE"
      },
      "source": [
        "load life expectancy code book"
      ]
    },
    {
      "cell_type": "code",
      "execution_count": 122,
      "metadata": {
        "colab": {
          "base_uri": "https://localhost:8080/",
          "height": 678
        },
        "id": "AQmJufRjT4kE",
        "outputId": "7c4ec108-b446-4393-fcd2-7cccdb7d818f"
      },
      "outputs": [
        {
          "output_type": "execute_result",
          "data": {
            "text/plain": [
              "    location_id                           location_name sex_id sex_name  \\\n",
              "1             1                                  Global      1     male   \n",
              "2             4  Southeast Asia, East Asia, and Oceania      2   female   \n",
              "3             5                               East Asia      3     both   \n",
              "4             6                                   China    NaN      NaN   \n",
              "5             7   Democratic People's Republic of Korea    NaN      NaN   \n",
              "..          ...                                     ...    ...      ...   \n",
              "671       44788                                  Torbay    NaN      NaN   \n",
              "672       44789                        Bristol, City of    NaN      NaN   \n",
              "673       44790                             Bournemouth    NaN      NaN   \n",
              "674       44791                                Cornwall    NaN      NaN   \n",
              "675       44792                                Plymouth    NaN      NaN   \n",
              "\n",
              "    age_group_id age_group_name year_id measure_id  \\\n",
              "1              5         1 to 4    1950         26   \n",
              "2              6         5 to 9    1951         27   \n",
              "3              7       10 to 14    1952         31   \n",
              "4              8       15 to 19    1953         33   \n",
              "5              9       20 to 24    1954        NaN   \n",
              "..           ...            ...     ...        ...   \n",
              "671          NaN            NaN     NaN        NaN   \n",
              "672          NaN            NaN     NaN        NaN   \n",
              "673          NaN            NaN     NaN        NaN   \n",
              "674          NaN            NaN     NaN        NaN   \n",
              "675          NaN            NaN     NaN        NaN   \n",
              "\n",
              "                               measure_name metric_id           metric_name  \\\n",
              "1                           Life expectancy         5                 Years   \n",
              "2                      Probability of death         8  Probability of death   \n",
              "3         Life expectancy no-shock with hiv       NaN                   NaN   \n",
              "4    Probability of death no-shock with hiv       NaN                   NaN   \n",
              "5                                       NaN       NaN                   NaN   \n",
              "..                                      ...       ...                   ...   \n",
              "671                                     NaN       NaN                   NaN   \n",
              "672                                     NaN       NaN                   NaN   \n",
              "673                                     NaN       NaN                   NaN   \n",
              "674                                     NaN       NaN                   NaN   \n",
              "675                                     NaN       NaN                   NaN   \n",
              "\n",
              "     val upper lower  \n",
              "1    NaN   NaN   NaN  \n",
              "2    NaN   NaN   NaN  \n",
              "3    NaN   NaN   NaN  \n",
              "4    NaN   NaN   NaN  \n",
              "5    NaN   NaN   NaN  \n",
              "..   ...   ...   ...  \n",
              "671  NaN   NaN   NaN  \n",
              "672  NaN   NaN   NaN  \n",
              "673  NaN   NaN   NaN  \n",
              "674  NaN   NaN   NaN  \n",
              "675  NaN   NaN   NaN  \n",
              "\n",
              "[675 rows x 14 columns]"
            ],
            "text/html": [
              "\n",
              "\n",
              "  <div id=\"df-9675c173-41f7-4f74-9bf9-776e2807384f\">\n",
              "    <div class=\"colab-df-container\">\n",
              "      <div>\n",
              "<style scoped>\n",
              "    .dataframe tbody tr th:only-of-type {\n",
              "        vertical-align: middle;\n",
              "    }\n",
              "\n",
              "    .dataframe tbody tr th {\n",
              "        vertical-align: top;\n",
              "    }\n",
              "\n",
              "    .dataframe thead th {\n",
              "        text-align: right;\n",
              "    }\n",
              "</style>\n",
              "<table border=\"1\" class=\"dataframe\">\n",
              "  <thead>\n",
              "    <tr style=\"text-align: right;\">\n",
              "      <th></th>\n",
              "      <th>location_id</th>\n",
              "      <th>location_name</th>\n",
              "      <th>sex_id</th>\n",
              "      <th>sex_name</th>\n",
              "      <th>age_group_id</th>\n",
              "      <th>age_group_name</th>\n",
              "      <th>year_id</th>\n",
              "      <th>measure_id</th>\n",
              "      <th>measure_name</th>\n",
              "      <th>metric_id</th>\n",
              "      <th>metric_name</th>\n",
              "      <th>val</th>\n",
              "      <th>upper</th>\n",
              "      <th>lower</th>\n",
              "    </tr>\n",
              "  </thead>\n",
              "  <tbody>\n",
              "    <tr>\n",
              "      <th>1</th>\n",
              "      <td>1</td>\n",
              "      <td>Global</td>\n",
              "      <td>1</td>\n",
              "      <td>male</td>\n",
              "      <td>5</td>\n",
              "      <td>1 to 4</td>\n",
              "      <td>1950</td>\n",
              "      <td>26</td>\n",
              "      <td>Life expectancy</td>\n",
              "      <td>5</td>\n",
              "      <td>Years</td>\n",
              "      <td>NaN</td>\n",
              "      <td>NaN</td>\n",
              "      <td>NaN</td>\n",
              "    </tr>\n",
              "    <tr>\n",
              "      <th>2</th>\n",
              "      <td>4</td>\n",
              "      <td>Southeast Asia, East Asia, and Oceania</td>\n",
              "      <td>2</td>\n",
              "      <td>female</td>\n",
              "      <td>6</td>\n",
              "      <td>5 to 9</td>\n",
              "      <td>1951</td>\n",
              "      <td>27</td>\n",
              "      <td>Probability of death</td>\n",
              "      <td>8</td>\n",
              "      <td>Probability of death</td>\n",
              "      <td>NaN</td>\n",
              "      <td>NaN</td>\n",
              "      <td>NaN</td>\n",
              "    </tr>\n",
              "    <tr>\n",
              "      <th>3</th>\n",
              "      <td>5</td>\n",
              "      <td>East Asia</td>\n",
              "      <td>3</td>\n",
              "      <td>both</td>\n",
              "      <td>7</td>\n",
              "      <td>10 to 14</td>\n",
              "      <td>1952</td>\n",
              "      <td>31</td>\n",
              "      <td>Life expectancy no-shock with hiv</td>\n",
              "      <td>NaN</td>\n",
              "      <td>NaN</td>\n",
              "      <td>NaN</td>\n",
              "      <td>NaN</td>\n",
              "      <td>NaN</td>\n",
              "    </tr>\n",
              "    <tr>\n",
              "      <th>4</th>\n",
              "      <td>6</td>\n",
              "      <td>China</td>\n",
              "      <td>NaN</td>\n",
              "      <td>NaN</td>\n",
              "      <td>8</td>\n",
              "      <td>15 to 19</td>\n",
              "      <td>1953</td>\n",
              "      <td>33</td>\n",
              "      <td>Probability of death no-shock with hiv</td>\n",
              "      <td>NaN</td>\n",
              "      <td>NaN</td>\n",
              "      <td>NaN</td>\n",
              "      <td>NaN</td>\n",
              "      <td>NaN</td>\n",
              "    </tr>\n",
              "    <tr>\n",
              "      <th>5</th>\n",
              "      <td>7</td>\n",
              "      <td>Democratic People's Republic of Korea</td>\n",
              "      <td>NaN</td>\n",
              "      <td>NaN</td>\n",
              "      <td>9</td>\n",
              "      <td>20 to 24</td>\n",
              "      <td>1954</td>\n",
              "      <td>NaN</td>\n",
              "      <td>NaN</td>\n",
              "      <td>NaN</td>\n",
              "      <td>NaN</td>\n",
              "      <td>NaN</td>\n",
              "      <td>NaN</td>\n",
              "      <td>NaN</td>\n",
              "    </tr>\n",
              "    <tr>\n",
              "      <th>...</th>\n",
              "      <td>...</td>\n",
              "      <td>...</td>\n",
              "      <td>...</td>\n",
              "      <td>...</td>\n",
              "      <td>...</td>\n",
              "      <td>...</td>\n",
              "      <td>...</td>\n",
              "      <td>...</td>\n",
              "      <td>...</td>\n",
              "      <td>...</td>\n",
              "      <td>...</td>\n",
              "      <td>...</td>\n",
              "      <td>...</td>\n",
              "      <td>...</td>\n",
              "    </tr>\n",
              "    <tr>\n",
              "      <th>671</th>\n",
              "      <td>44788</td>\n",
              "      <td>Torbay</td>\n",
              "      <td>NaN</td>\n",
              "      <td>NaN</td>\n",
              "      <td>NaN</td>\n",
              "      <td>NaN</td>\n",
              "      <td>NaN</td>\n",
              "      <td>NaN</td>\n",
              "      <td>NaN</td>\n",
              "      <td>NaN</td>\n",
              "      <td>NaN</td>\n",
              "      <td>NaN</td>\n",
              "      <td>NaN</td>\n",
              "      <td>NaN</td>\n",
              "    </tr>\n",
              "    <tr>\n",
              "      <th>672</th>\n",
              "      <td>44789</td>\n",
              "      <td>Bristol, City of</td>\n",
              "      <td>NaN</td>\n",
              "      <td>NaN</td>\n",
              "      <td>NaN</td>\n",
              "      <td>NaN</td>\n",
              "      <td>NaN</td>\n",
              "      <td>NaN</td>\n",
              "      <td>NaN</td>\n",
              "      <td>NaN</td>\n",
              "      <td>NaN</td>\n",
              "      <td>NaN</td>\n",
              "      <td>NaN</td>\n",
              "      <td>NaN</td>\n",
              "    </tr>\n",
              "    <tr>\n",
              "      <th>673</th>\n",
              "      <td>44790</td>\n",
              "      <td>Bournemouth</td>\n",
              "      <td>NaN</td>\n",
              "      <td>NaN</td>\n",
              "      <td>NaN</td>\n",
              "      <td>NaN</td>\n",
              "      <td>NaN</td>\n",
              "      <td>NaN</td>\n",
              "      <td>NaN</td>\n",
              "      <td>NaN</td>\n",
              "      <td>NaN</td>\n",
              "      <td>NaN</td>\n",
              "      <td>NaN</td>\n",
              "      <td>NaN</td>\n",
              "    </tr>\n",
              "    <tr>\n",
              "      <th>674</th>\n",
              "      <td>44791</td>\n",
              "      <td>Cornwall</td>\n",
              "      <td>NaN</td>\n",
              "      <td>NaN</td>\n",
              "      <td>NaN</td>\n",
              "      <td>NaN</td>\n",
              "      <td>NaN</td>\n",
              "      <td>NaN</td>\n",
              "      <td>NaN</td>\n",
              "      <td>NaN</td>\n",
              "      <td>NaN</td>\n",
              "      <td>NaN</td>\n",
              "      <td>NaN</td>\n",
              "      <td>NaN</td>\n",
              "    </tr>\n",
              "    <tr>\n",
              "      <th>675</th>\n",
              "      <td>44792</td>\n",
              "      <td>Plymouth</td>\n",
              "      <td>NaN</td>\n",
              "      <td>NaN</td>\n",
              "      <td>NaN</td>\n",
              "      <td>NaN</td>\n",
              "      <td>NaN</td>\n",
              "      <td>NaN</td>\n",
              "      <td>NaN</td>\n",
              "      <td>NaN</td>\n",
              "      <td>NaN</td>\n",
              "      <td>NaN</td>\n",
              "      <td>NaN</td>\n",
              "      <td>NaN</td>\n",
              "    </tr>\n",
              "  </tbody>\n",
              "</table>\n",
              "<p>675 rows × 14 columns</p>\n",
              "</div>\n",
              "      <button class=\"colab-df-convert\" onclick=\"convertToInteractive('df-9675c173-41f7-4f74-9bf9-776e2807384f')\"\n",
              "              title=\"Convert this dataframe to an interactive table.\"\n",
              "              style=\"display:none;\">\n",
              "\n",
              "  <svg xmlns=\"http://www.w3.org/2000/svg\" height=\"24px\"viewBox=\"0 0 24 24\"\n",
              "       width=\"24px\">\n",
              "    <path d=\"M0 0h24v24H0V0z\" fill=\"none\"/>\n",
              "    <path d=\"M18.56 5.44l.94 2.06.94-2.06 2.06-.94-2.06-.94-.94-2.06-.94 2.06-2.06.94zm-11 1L8.5 8.5l.94-2.06 2.06-.94-2.06-.94L8.5 2.5l-.94 2.06-2.06.94zm10 10l.94 2.06.94-2.06 2.06-.94-2.06-.94-.94-2.06-.94 2.06-2.06.94z\"/><path d=\"M17.41 7.96l-1.37-1.37c-.4-.4-.92-.59-1.43-.59-.52 0-1.04.2-1.43.59L10.3 9.45l-7.72 7.72c-.78.78-.78 2.05 0 2.83L4 21.41c.39.39.9.59 1.41.59.51 0 1.02-.2 1.41-.59l7.78-7.78 2.81-2.81c.8-.78.8-2.07 0-2.86zM5.41 20L4 18.59l7.72-7.72 1.47 1.35L5.41 20z\"/>\n",
              "  </svg>\n",
              "      </button>\n",
              "\n",
              "\n",
              "\n",
              "    <div id=\"df-82f32db6-f034-4a66-bc82-384a948a1774\">\n",
              "      <button class=\"colab-df-quickchart\" onclick=\"quickchart('df-82f32db6-f034-4a66-bc82-384a948a1774')\"\n",
              "              title=\"Suggest charts.\"\n",
              "              style=\"display:none;\">\n",
              "\n",
              "<svg xmlns=\"http://www.w3.org/2000/svg\" height=\"24px\"viewBox=\"0 0 24 24\"\n",
              "     width=\"24px\">\n",
              "    <g>\n",
              "        <path d=\"M19 3H5c-1.1 0-2 .9-2 2v14c0 1.1.9 2 2 2h14c1.1 0 2-.9 2-2V5c0-1.1-.9-2-2-2zM9 17H7v-7h2v7zm4 0h-2V7h2v10zm4 0h-2v-4h2v4z\"/>\n",
              "    </g>\n",
              "</svg>\n",
              "      </button>\n",
              "    </div>\n",
              "\n",
              "<style>\n",
              "  .colab-df-quickchart {\n",
              "    background-color: #E8F0FE;\n",
              "    border: none;\n",
              "    border-radius: 50%;\n",
              "    cursor: pointer;\n",
              "    display: none;\n",
              "    fill: #1967D2;\n",
              "    height: 32px;\n",
              "    padding: 0 0 0 0;\n",
              "    width: 32px;\n",
              "  }\n",
              "\n",
              "  .colab-df-quickchart:hover {\n",
              "    background-color: #E2EBFA;\n",
              "    box-shadow: 0px 1px 2px rgba(60, 64, 67, 0.3), 0px 1px 3px 1px rgba(60, 64, 67, 0.15);\n",
              "    fill: #174EA6;\n",
              "  }\n",
              "\n",
              "  [theme=dark] .colab-df-quickchart {\n",
              "    background-color: #3B4455;\n",
              "    fill: #D2E3FC;\n",
              "  }\n",
              "\n",
              "  [theme=dark] .colab-df-quickchart:hover {\n",
              "    background-color: #434B5C;\n",
              "    box-shadow: 0px 1px 3px 1px rgba(0, 0, 0, 0.15);\n",
              "    filter: drop-shadow(0px 1px 2px rgba(0, 0, 0, 0.3));\n",
              "    fill: #FFFFFF;\n",
              "  }\n",
              "</style>\n",
              "\n",
              "    <script>\n",
              "      async function quickchart(key) {\n",
              "        const containerElement = document.querySelector('#' + key);\n",
              "        const charts = await google.colab.kernel.invokeFunction(\n",
              "            'suggestCharts', [key], {});\n",
              "      }\n",
              "    </script>\n",
              "\n",
              "      <script>\n",
              "\n",
              "function displayQuickchartButton(domScope) {\n",
              "  let quickchartButtonEl =\n",
              "    domScope.querySelector('#df-82f32db6-f034-4a66-bc82-384a948a1774 button.colab-df-quickchart');\n",
              "  quickchartButtonEl.style.display =\n",
              "    google.colab.kernel.accessAllowed ? 'block' : 'none';\n",
              "}\n",
              "\n",
              "        displayQuickchartButton(document);\n",
              "      </script>\n",
              "      <style>\n",
              "    .colab-df-container {\n",
              "      display:flex;\n",
              "      flex-wrap:wrap;\n",
              "      gap: 12px;\n",
              "    }\n",
              "\n",
              "    .colab-df-convert {\n",
              "      background-color: #E8F0FE;\n",
              "      border: none;\n",
              "      border-radius: 50%;\n",
              "      cursor: pointer;\n",
              "      display: none;\n",
              "      fill: #1967D2;\n",
              "      height: 32px;\n",
              "      padding: 0 0 0 0;\n",
              "      width: 32px;\n",
              "    }\n",
              "\n",
              "    .colab-df-convert:hover {\n",
              "      background-color: #E2EBFA;\n",
              "      box-shadow: 0px 1px 2px rgba(60, 64, 67, 0.3), 0px 1px 3px 1px rgba(60, 64, 67, 0.15);\n",
              "      fill: #174EA6;\n",
              "    }\n",
              "\n",
              "    [theme=dark] .colab-df-convert {\n",
              "      background-color: #3B4455;\n",
              "      fill: #D2E3FC;\n",
              "    }\n",
              "\n",
              "    [theme=dark] .colab-df-convert:hover {\n",
              "      background-color: #434B5C;\n",
              "      box-shadow: 0px 1px 3px 1px rgba(0, 0, 0, 0.15);\n",
              "      filter: drop-shadow(0px 1px 2px rgba(0, 0, 0, 0.3));\n",
              "      fill: #FFFFFF;\n",
              "    }\n",
              "  </style>\n",
              "\n",
              "      <script>\n",
              "        const buttonEl =\n",
              "          document.querySelector('#df-9675c173-41f7-4f74-9bf9-776e2807384f button.colab-df-convert');\n",
              "        buttonEl.style.display =\n",
              "          google.colab.kernel.accessAllowed ? 'block' : 'none';\n",
              "\n",
              "        async function convertToInteractive(key) {\n",
              "          const element = document.querySelector('#df-9675c173-41f7-4f74-9bf9-776e2807384f');\n",
              "          const dataTable =\n",
              "            await google.colab.kernel.invokeFunction('convertToInteractive',\n",
              "                                                     [key], {});\n",
              "          if (!dataTable) return;\n",
              "\n",
              "          const docLinkHtml = 'Like what you see? Visit the ' +\n",
              "            '<a target=\"_blank\" href=https://colab.research.google.com/notebooks/data_table.ipynb>data table notebook</a>'\n",
              "            + ' to learn more about interactive tables.';\n",
              "          element.innerHTML = '';\n",
              "          dataTable['output_type'] = 'display_data';\n",
              "          await google.colab.output.renderOutput(dataTable, element);\n",
              "          const docLink = document.createElement('div');\n",
              "          docLink.innerHTML = docLinkHtml;\n",
              "          element.appendChild(docLink);\n",
              "        }\n",
              "      </script>\n",
              "    </div>\n",
              "  </div>\n"
            ]
          },
          "metadata": {},
          "execution_count": 122
        }
      ],
      "source": [
        "life_expectancy_code_book = pd.read_csv(\n",
        "    os.path.join(path_root, 'life_expectancy', 'code_book.csv')\n",
        ").iloc[1:, 1:]\n",
        "\n",
        "life_expectancy_code_book"
      ]
    },
    {
      "cell_type": "markdown",
      "metadata": {
        "id": "DRb-V_cwT4kE"
      },
      "source": [
        "### load deaths by causes"
      ]
    },
    {
      "cell_type": "code",
      "execution_count": 123,
      "metadata": {
        "colab": {
          "base_uri": "https://localhost:8080/"
        },
        "id": "cn3ufeOZT4kE",
        "outputId": "05de8f0d-fa5f-4152-8d3d-d5ed3a0913a3"
      },
      "outputs": [
        {
          "output_type": "execute_result",
          "data": {
            "text/plain": [
              "['/content/drive/Shareddrives/OpenLabData/gbd_life_extension_dashboard/causes/IHME-GBD_2019_DATA-dbded05a-3/IHME-GBD_2019_DATA-dbded05a-3.csv',\n",
              " '/content/drive/Shareddrives/OpenLabData/gbd_life_extension_dashboard/causes/IHME-GBD_2019_DATA-dbded05a-1/IHME-GBD_2019_DATA-dbded05a-1.csv',\n",
              " '/content/drive/Shareddrives/OpenLabData/gbd_life_extension_dashboard/causes/IHME-GBD_2019_DATA-dbded05a-2/IHME-GBD_2019_DATA-dbded05a-2.csv']"
            ]
          },
          "metadata": {},
          "execution_count": 123
        }
      ],
      "source": [
        "paths = [x for x in os.walk(os.path.join(path_root, 'causes'))]\n",
        "\n",
        "file_paths = []\n",
        "\n",
        "for folder in paths:\n",
        "    for file_name in folder[2]:\n",
        "        if '.csv' in file_name:\n",
        "            file_paths.append(os.path.join(folder[0], file_name))\n",
        "\n",
        "file_paths"
      ]
    },
    {
      "cell_type": "code",
      "execution_count": 124,
      "metadata": {
        "id": "qUumsWX4T4kF"
      },
      "outputs": [],
      "source": [
        "causes = pd.concat([pd.read_csv(x) for x in file_paths], axis=0)"
      ]
    },
    {
      "cell_type": "code",
      "execution_count": 125,
      "metadata": {
        "colab": {
          "base_uri": "https://localhost:8080/",
          "height": 423
        },
        "id": "DvSQYZ31T4kF",
        "outputId": "0f1730c8-e9bd-4fa3-eea7-d64a8c5b914d"
      },
      "outputs": [
        {
          "output_type": "execute_result",
          "data": {
            "text/plain": [
              "        measure  location  sex  age  cause  metric  year       val     upper  \\\n",
              "0             1       205    1   10    357       1  2019  0.003347  0.018339   \n",
              "1             1       205    2   10    357       1  2019  0.001208  0.005171   \n",
              "2             1       205    1   11    357       1  2019  0.005105  0.026212   \n",
              "3             1       205    2   11    357       1  2019  0.000789  0.003179   \n",
              "4             1       205    1   12    357       1  2019  0.005293  0.026304   \n",
              "...         ...       ...  ...  ...    ...     ...   ...       ...       ...   \n",
              "499995        1       205    2    7    357       1  2019  0.002172  0.008940   \n",
              "499996        1       205    1    8    357       1  2019  0.004678  0.024096   \n",
              "499997        1       205    2    8    357       1  2019  0.001173  0.004996   \n",
              "499998        1       205    1    9    357       1  2019  0.004325  0.021831   \n",
              "499999        1       205    2    9    357       1  2019  0.001123  0.004676   \n",
              "\n",
              "           lower  \n",
              "0       0.000313  \n",
              "1       0.000107  \n",
              "2       0.000447  \n",
              "3       0.000072  \n",
              "4       0.000474  \n",
              "...          ...  \n",
              "499995  0.000301  \n",
              "499996  0.000413  \n",
              "499997  0.000149  \n",
              "499998  0.000362  \n",
              "499999  0.000113  \n",
              "\n",
              "[1024488 rows x 10 columns]"
            ],
            "text/html": [
              "\n",
              "\n",
              "  <div id=\"df-5bb963ad-77ed-490c-8618-e0f2bd3f0b72\">\n",
              "    <div class=\"colab-df-container\">\n",
              "      <div>\n",
              "<style scoped>\n",
              "    .dataframe tbody tr th:only-of-type {\n",
              "        vertical-align: middle;\n",
              "    }\n",
              "\n",
              "    .dataframe tbody tr th {\n",
              "        vertical-align: top;\n",
              "    }\n",
              "\n",
              "    .dataframe thead th {\n",
              "        text-align: right;\n",
              "    }\n",
              "</style>\n",
              "<table border=\"1\" class=\"dataframe\">\n",
              "  <thead>\n",
              "    <tr style=\"text-align: right;\">\n",
              "      <th></th>\n",
              "      <th>measure</th>\n",
              "      <th>location</th>\n",
              "      <th>sex</th>\n",
              "      <th>age</th>\n",
              "      <th>cause</th>\n",
              "      <th>metric</th>\n",
              "      <th>year</th>\n",
              "      <th>val</th>\n",
              "      <th>upper</th>\n",
              "      <th>lower</th>\n",
              "    </tr>\n",
              "  </thead>\n",
              "  <tbody>\n",
              "    <tr>\n",
              "      <th>0</th>\n",
              "      <td>1</td>\n",
              "      <td>205</td>\n",
              "      <td>1</td>\n",
              "      <td>10</td>\n",
              "      <td>357</td>\n",
              "      <td>1</td>\n",
              "      <td>2019</td>\n",
              "      <td>0.003347</td>\n",
              "      <td>0.018339</td>\n",
              "      <td>0.000313</td>\n",
              "    </tr>\n",
              "    <tr>\n",
              "      <th>1</th>\n",
              "      <td>1</td>\n",
              "      <td>205</td>\n",
              "      <td>2</td>\n",
              "      <td>10</td>\n",
              "      <td>357</td>\n",
              "      <td>1</td>\n",
              "      <td>2019</td>\n",
              "      <td>0.001208</td>\n",
              "      <td>0.005171</td>\n",
              "      <td>0.000107</td>\n",
              "    </tr>\n",
              "    <tr>\n",
              "      <th>2</th>\n",
              "      <td>1</td>\n",
              "      <td>205</td>\n",
              "      <td>1</td>\n",
              "      <td>11</td>\n",
              "      <td>357</td>\n",
              "      <td>1</td>\n",
              "      <td>2019</td>\n",
              "      <td>0.005105</td>\n",
              "      <td>0.026212</td>\n",
              "      <td>0.000447</td>\n",
              "    </tr>\n",
              "    <tr>\n",
              "      <th>3</th>\n",
              "      <td>1</td>\n",
              "      <td>205</td>\n",
              "      <td>2</td>\n",
              "      <td>11</td>\n",
              "      <td>357</td>\n",
              "      <td>1</td>\n",
              "      <td>2019</td>\n",
              "      <td>0.000789</td>\n",
              "      <td>0.003179</td>\n",
              "      <td>0.000072</td>\n",
              "    </tr>\n",
              "    <tr>\n",
              "      <th>4</th>\n",
              "      <td>1</td>\n",
              "      <td>205</td>\n",
              "      <td>1</td>\n",
              "      <td>12</td>\n",
              "      <td>357</td>\n",
              "      <td>1</td>\n",
              "      <td>2019</td>\n",
              "      <td>0.005293</td>\n",
              "      <td>0.026304</td>\n",
              "      <td>0.000474</td>\n",
              "    </tr>\n",
              "    <tr>\n",
              "      <th>...</th>\n",
              "      <td>...</td>\n",
              "      <td>...</td>\n",
              "      <td>...</td>\n",
              "      <td>...</td>\n",
              "      <td>...</td>\n",
              "      <td>...</td>\n",
              "      <td>...</td>\n",
              "      <td>...</td>\n",
              "      <td>...</td>\n",
              "      <td>...</td>\n",
              "    </tr>\n",
              "    <tr>\n",
              "      <th>499995</th>\n",
              "      <td>1</td>\n",
              "      <td>205</td>\n",
              "      <td>2</td>\n",
              "      <td>7</td>\n",
              "      <td>357</td>\n",
              "      <td>1</td>\n",
              "      <td>2019</td>\n",
              "      <td>0.002172</td>\n",
              "      <td>0.008940</td>\n",
              "      <td>0.000301</td>\n",
              "    </tr>\n",
              "    <tr>\n",
              "      <th>499996</th>\n",
              "      <td>1</td>\n",
              "      <td>205</td>\n",
              "      <td>1</td>\n",
              "      <td>8</td>\n",
              "      <td>357</td>\n",
              "      <td>1</td>\n",
              "      <td>2019</td>\n",
              "      <td>0.004678</td>\n",
              "      <td>0.024096</td>\n",
              "      <td>0.000413</td>\n",
              "    </tr>\n",
              "    <tr>\n",
              "      <th>499997</th>\n",
              "      <td>1</td>\n",
              "      <td>205</td>\n",
              "      <td>2</td>\n",
              "      <td>8</td>\n",
              "      <td>357</td>\n",
              "      <td>1</td>\n",
              "      <td>2019</td>\n",
              "      <td>0.001173</td>\n",
              "      <td>0.004996</td>\n",
              "      <td>0.000149</td>\n",
              "    </tr>\n",
              "    <tr>\n",
              "      <th>499998</th>\n",
              "      <td>1</td>\n",
              "      <td>205</td>\n",
              "      <td>1</td>\n",
              "      <td>9</td>\n",
              "      <td>357</td>\n",
              "      <td>1</td>\n",
              "      <td>2019</td>\n",
              "      <td>0.004325</td>\n",
              "      <td>0.021831</td>\n",
              "      <td>0.000362</td>\n",
              "    </tr>\n",
              "    <tr>\n",
              "      <th>499999</th>\n",
              "      <td>1</td>\n",
              "      <td>205</td>\n",
              "      <td>2</td>\n",
              "      <td>9</td>\n",
              "      <td>357</td>\n",
              "      <td>1</td>\n",
              "      <td>2019</td>\n",
              "      <td>0.001123</td>\n",
              "      <td>0.004676</td>\n",
              "      <td>0.000113</td>\n",
              "    </tr>\n",
              "  </tbody>\n",
              "</table>\n",
              "<p>1024488 rows × 10 columns</p>\n",
              "</div>\n",
              "      <button class=\"colab-df-convert\" onclick=\"convertToInteractive('df-5bb963ad-77ed-490c-8618-e0f2bd3f0b72')\"\n",
              "              title=\"Convert this dataframe to an interactive table.\"\n",
              "              style=\"display:none;\">\n",
              "\n",
              "  <svg xmlns=\"http://www.w3.org/2000/svg\" height=\"24px\"viewBox=\"0 0 24 24\"\n",
              "       width=\"24px\">\n",
              "    <path d=\"M0 0h24v24H0V0z\" fill=\"none\"/>\n",
              "    <path d=\"M18.56 5.44l.94 2.06.94-2.06 2.06-.94-2.06-.94-.94-2.06-.94 2.06-2.06.94zm-11 1L8.5 8.5l.94-2.06 2.06-.94-2.06-.94L8.5 2.5l-.94 2.06-2.06.94zm10 10l.94 2.06.94-2.06 2.06-.94-2.06-.94-.94-2.06-.94 2.06-2.06.94z\"/><path d=\"M17.41 7.96l-1.37-1.37c-.4-.4-.92-.59-1.43-.59-.52 0-1.04.2-1.43.59L10.3 9.45l-7.72 7.72c-.78.78-.78 2.05 0 2.83L4 21.41c.39.39.9.59 1.41.59.51 0 1.02-.2 1.41-.59l7.78-7.78 2.81-2.81c.8-.78.8-2.07 0-2.86zM5.41 20L4 18.59l7.72-7.72 1.47 1.35L5.41 20z\"/>\n",
              "  </svg>\n",
              "      </button>\n",
              "\n",
              "\n",
              "\n",
              "    <div id=\"df-c42e1c1d-83c4-4cc2-ae8a-d61f893f55fc\">\n",
              "      <button class=\"colab-df-quickchart\" onclick=\"quickchart('df-c42e1c1d-83c4-4cc2-ae8a-d61f893f55fc')\"\n",
              "              title=\"Suggest charts.\"\n",
              "              style=\"display:none;\">\n",
              "\n",
              "<svg xmlns=\"http://www.w3.org/2000/svg\" height=\"24px\"viewBox=\"0 0 24 24\"\n",
              "     width=\"24px\">\n",
              "    <g>\n",
              "        <path d=\"M19 3H5c-1.1 0-2 .9-2 2v14c0 1.1.9 2 2 2h14c1.1 0 2-.9 2-2V5c0-1.1-.9-2-2-2zM9 17H7v-7h2v7zm4 0h-2V7h2v10zm4 0h-2v-4h2v4z\"/>\n",
              "    </g>\n",
              "</svg>\n",
              "      </button>\n",
              "    </div>\n",
              "\n",
              "<style>\n",
              "  .colab-df-quickchart {\n",
              "    background-color: #E8F0FE;\n",
              "    border: none;\n",
              "    border-radius: 50%;\n",
              "    cursor: pointer;\n",
              "    display: none;\n",
              "    fill: #1967D2;\n",
              "    height: 32px;\n",
              "    padding: 0 0 0 0;\n",
              "    width: 32px;\n",
              "  }\n",
              "\n",
              "  .colab-df-quickchart:hover {\n",
              "    background-color: #E2EBFA;\n",
              "    box-shadow: 0px 1px 2px rgba(60, 64, 67, 0.3), 0px 1px 3px 1px rgba(60, 64, 67, 0.15);\n",
              "    fill: #174EA6;\n",
              "  }\n",
              "\n",
              "  [theme=dark] .colab-df-quickchart {\n",
              "    background-color: #3B4455;\n",
              "    fill: #D2E3FC;\n",
              "  }\n",
              "\n",
              "  [theme=dark] .colab-df-quickchart:hover {\n",
              "    background-color: #434B5C;\n",
              "    box-shadow: 0px 1px 3px 1px rgba(0, 0, 0, 0.15);\n",
              "    filter: drop-shadow(0px 1px 2px rgba(0, 0, 0, 0.3));\n",
              "    fill: #FFFFFF;\n",
              "  }\n",
              "</style>\n",
              "\n",
              "    <script>\n",
              "      async function quickchart(key) {\n",
              "        const containerElement = document.querySelector('#' + key);\n",
              "        const charts = await google.colab.kernel.invokeFunction(\n",
              "            'suggestCharts', [key], {});\n",
              "      }\n",
              "    </script>\n",
              "\n",
              "      <script>\n",
              "\n",
              "function displayQuickchartButton(domScope) {\n",
              "  let quickchartButtonEl =\n",
              "    domScope.querySelector('#df-c42e1c1d-83c4-4cc2-ae8a-d61f893f55fc button.colab-df-quickchart');\n",
              "  quickchartButtonEl.style.display =\n",
              "    google.colab.kernel.accessAllowed ? 'block' : 'none';\n",
              "}\n",
              "\n",
              "        displayQuickchartButton(document);\n",
              "      </script>\n",
              "      <style>\n",
              "    .colab-df-container {\n",
              "      display:flex;\n",
              "      flex-wrap:wrap;\n",
              "      gap: 12px;\n",
              "    }\n",
              "\n",
              "    .colab-df-convert {\n",
              "      background-color: #E8F0FE;\n",
              "      border: none;\n",
              "      border-radius: 50%;\n",
              "      cursor: pointer;\n",
              "      display: none;\n",
              "      fill: #1967D2;\n",
              "      height: 32px;\n",
              "      padding: 0 0 0 0;\n",
              "      width: 32px;\n",
              "    }\n",
              "\n",
              "    .colab-df-convert:hover {\n",
              "      background-color: #E2EBFA;\n",
              "      box-shadow: 0px 1px 2px rgba(60, 64, 67, 0.3), 0px 1px 3px 1px rgba(60, 64, 67, 0.15);\n",
              "      fill: #174EA6;\n",
              "    }\n",
              "\n",
              "    [theme=dark] .colab-df-convert {\n",
              "      background-color: #3B4455;\n",
              "      fill: #D2E3FC;\n",
              "    }\n",
              "\n",
              "    [theme=dark] .colab-df-convert:hover {\n",
              "      background-color: #434B5C;\n",
              "      box-shadow: 0px 1px 3px 1px rgba(0, 0, 0, 0.15);\n",
              "      filter: drop-shadow(0px 1px 2px rgba(0, 0, 0, 0.3));\n",
              "      fill: #FFFFFF;\n",
              "    }\n",
              "  </style>\n",
              "\n",
              "      <script>\n",
              "        const buttonEl =\n",
              "          document.querySelector('#df-5bb963ad-77ed-490c-8618-e0f2bd3f0b72 button.colab-df-convert');\n",
              "        buttonEl.style.display =\n",
              "          google.colab.kernel.accessAllowed ? 'block' : 'none';\n",
              "\n",
              "        async function convertToInteractive(key) {\n",
              "          const element = document.querySelector('#df-5bb963ad-77ed-490c-8618-e0f2bd3f0b72');\n",
              "          const dataTable =\n",
              "            await google.colab.kernel.invokeFunction('convertToInteractive',\n",
              "                                                     [key], {});\n",
              "          if (!dataTable) return;\n",
              "\n",
              "          const docLinkHtml = 'Like what you see? Visit the ' +\n",
              "            '<a target=\"_blank\" href=https://colab.research.google.com/notebooks/data_table.ipynb>data table notebook</a>'\n",
              "            + ' to learn more about interactive tables.';\n",
              "          element.innerHTML = '';\n",
              "          dataTable['output_type'] = 'display_data';\n",
              "          await google.colab.output.renderOutput(dataTable, element);\n",
              "          const docLink = document.createElement('div');\n",
              "          docLink.innerHTML = docLinkHtml;\n",
              "          element.appendChild(docLink);\n",
              "        }\n",
              "      </script>\n",
              "    </div>\n",
              "  </div>\n"
            ]
          },
          "metadata": {},
          "execution_count": 125
        }
      ],
      "source": [
        "causes"
      ]
    },
    {
      "cell_type": "markdown",
      "metadata": {
        "id": "2yucCUZgT4kF"
      },
      "source": [
        "### load risk factors"
      ]
    },
    {
      "cell_type": "code",
      "execution_count": 126,
      "metadata": {
        "colab": {
          "base_uri": "https://localhost:8080/"
        },
        "id": "r3XFGHFJT4kF",
        "outputId": "346117d9-c19e-450f-f19a-d3e2822cd082"
      },
      "outputs": [
        {
          "output_type": "execute_result",
          "data": {
            "text/plain": [
              "['/content/drive/Shareddrives/OpenLabData/gbd_life_extension_dashboard/risk_factors/IHME-GBD_2019_DATA-cf4de7c1-2/IHME-GBD_2019_DATA-cf4de7c1-2.csv',\n",
              " '/content/drive/Shareddrives/OpenLabData/gbd_life_extension_dashboard/risk_factors/IHME-GBD_2019_DATA-cf4de7c1-3/IHME-GBD_2019_DATA-cf4de7c1-3.csv',\n",
              " '/content/drive/Shareddrives/OpenLabData/gbd_life_extension_dashboard/risk_factors/IHME-GBD_2019_DATA-cf4de7c1-4/IHME-GBD_2019_DATA-cf4de7c1-4.csv',\n",
              " '/content/drive/Shareddrives/OpenLabData/gbd_life_extension_dashboard/risk_factors/IHME-GBD_2019_DATA-cf4de7c1-5/IHME-GBD_2019_DATA-cf4de7c1-5.csv',\n",
              " '/content/drive/Shareddrives/OpenLabData/gbd_life_extension_dashboard/risk_factors/IHME-GBD_2019_DATA-cf4de7c1-6/IHME-GBD_2019_DATA-cf4de7c1-6.csv',\n",
              " '/content/drive/Shareddrives/OpenLabData/gbd_life_extension_dashboard/risk_factors/IHME-GBD_2019_DATA-cf4de7c1-1/IHME-GBD_2019_DATA-cf4de7c1-1.csv']"
            ]
          },
          "metadata": {},
          "execution_count": 126
        }
      ],
      "source": [
        "paths = [x for x in os.walk(os.path.join(path_root, 'risk_factors'))]\n",
        "\n",
        "file_paths = []\n",
        "\n",
        "for folder in paths:\n",
        "    for file_name in folder[2]:\n",
        "        if '.csv' in file_name:\n",
        "            file_paths.append(os.path.join(folder[0], file_name))\n",
        "\n",
        "file_paths"
      ]
    },
    {
      "cell_type": "code",
      "execution_count": 127,
      "metadata": {
        "id": "5Ne9eif1T4kF"
      },
      "outputs": [],
      "source": [
        "risks = pd.concat([pd.read_csv(x) for x in file_paths], axis=0)"
      ]
    },
    {
      "cell_type": "code",
      "execution_count": 128,
      "metadata": {
        "colab": {
          "base_uri": "https://localhost:8080/"
        },
        "id": "hpCGFTHiT4kG",
        "outputId": "1e5b3a16-bced-44cf-89a5-a0ed9e0955ec"
      },
      "outputs": [
        {
          "output_type": "execute_result",
          "data": {
            "text/plain": [
              "cause        80\n",
              "rei          50\n",
              "location    204\n",
              "dtype: int64"
            ]
          },
          "metadata": {},
          "execution_count": 128
        }
      ],
      "source": [
        "risks[['cause', 'rei', 'location']].nunique()"
      ]
    },
    {
      "cell_type": "markdown",
      "metadata": {
        "id": "WHWV1bq6T4kG"
      },
      "source": [
        "### load code book"
      ]
    },
    {
      "cell_type": "code",
      "execution_count": 129,
      "metadata": {
        "id": "ZaaHquZMT4kG"
      },
      "outputs": [],
      "source": [
        "code_book = pd.read_csv(\n",
        "    os.path.join(\n",
        "        path_root,\n",
        "        'IHME_GBD_2019_CODEBOOK_Y2022M06D29.CSV'\n",
        "    )\n",
        ").iloc[1:, 1:]\n",
        "\n",
        "\n",
        "measure_name_to_id = { # create mappings\n",
        "    key: int(value)\n",
        "    for key, value in code_book[['measure_name', 'measure_id']].dropna().values\n",
        "}\n",
        "\n",
        "metric_name_to_id = {\n",
        "    key: int(value)\n",
        "    for key, value in code_book[['metric_name', 'metric_id']].dropna().values\n",
        "}\n",
        "\n",
        "sex_name_to_id = {\n",
        "    key: int(value)\n",
        "    for key, value in code_book[['sex_label', 'sex_id']].dropna().values[1:]\n",
        "}\n",
        "\n",
        "age_name_to_id = {\n",
        "    key: int(value)\n",
        "    for key, value in code_book[['age_group_name', 'age_group_id']].dropna().values\n",
        "}\n",
        "\n",
        "cause_name_to_id = {\n",
        "    key: int(value)\n",
        "    for key, value in code_book[['cause_name', 'cause_id']].dropna().values\n",
        "}\n",
        "\n",
        "risks_name_to_id = {\n",
        "    key: int(value)\n",
        "    for key, value in code_book[['rei_name', 'rei_id']].dropna().values\n",
        "}\n",
        "\n",
        "location_name_to_id = {\n",
        "    key: int(value)\n",
        "    for key, value in code_book[['location_name', 'location_id']].dropna().values\n",
        "}\n",
        "\n",
        "name_to_id_mappings = {\n",
        "    'measure_id' :measure_name_to_id,\n",
        "    'metric_id' :metric_name_to_id,\n",
        "    'sex_id' :sex_name_to_id,\n",
        "    'age_id' :age_name_to_id,\n",
        "    'cause_id' :cause_name_to_id,\n",
        "    'risks_id' :risks_name_to_id,\n",
        "    'location_id' :location_name_to_id,\n",
        "}\n",
        "\n",
        "id_to_name_mappings = {\n",
        "    key.replace('_id', '_name'): {v: k for k, v in name_to_id_mappings[key].items()}\n",
        "    for key in name_to_id_mappings.keys()\n",
        "}\n",
        "\n",
        "\n",
        "age_group_id_to_start_age_int = {\n",
        "    '28': 0,\n",
        "    '5': 1,\n",
        "    '6': 5,\n",
        "    '7': 10,\n",
        "    '8': 15,\n",
        "    '9': 20,\n",
        "    '10': 25,\n",
        "    '11': 30,\n",
        "    '12': 35,\n",
        "    '13': 40,\n",
        "    '14': 45,\n",
        "    '15': 50,\n",
        "    '16': 55,\n",
        "    '17': 60,\n",
        "    '18': 65,\n",
        "    '19': 70,\n",
        "    '20': 75,\n",
        "    '30': 80,\n",
        "    '31': 85,\n",
        "    '32': 90,\n",
        "    '235': 95,\n",
        "    '33': 95,\n",
        "    '44': 100,\n",
        "    '45': 105,\n",
        "    '148': 110\n",
        "}\n",
        "\n",
        "age_group_name_to_start_age_int = {\n",
        "    '<1 year': 0,\n",
        "    '1 to 4': 1,\n",
        "    '5 to 9': 5,\n",
        "    '10 to 14': 10,\n",
        "    '15 to 19': 15,\n",
        "    '20 to 24': 20,\n",
        "    '25 to 29': 25,\n",
        "    '30 to 34': 30,\n",
        "    '35 to 39': 35,\n",
        "    '40 to 44': 40,\n",
        "    '45 to 49': 45,\n",
        "    '50 to 54': 50,\n",
        "    '55 to 59': 55,\n",
        "    '60 to 64': 60,\n",
        "    '65 to 69': 65,\n",
        "    '70 to 74': 70,\n",
        "    '75 to 79': 75,\n",
        "    '80 to 84': 80,\n",
        "    '85 to 89': 85,\n",
        "    '90 to 94': 90,\n",
        "    '95 plus': 95,\n",
        "    '95 to 99': 95,\n",
        "    '100 to 104': 100,\n",
        "    '105 to 109': 105,\n",
        "    '110 plus': 110,\n",
        "}\n"
      ]
    },
    {
      "cell_type": "markdown",
      "metadata": {
        "id": "zX1XLsW1T4kH"
      },
      "source": [
        "## Preprocessing"
      ]
    },
    {
      "cell_type": "markdown",
      "metadata": {
        "id": "eDIGartET4kH"
      },
      "source": [
        "### location harmonization"
      ]
    },
    {
      "cell_type": "code",
      "execution_count": 130,
      "metadata": {
        "colab": {
          "base_uri": "https://localhost:8080/"
        },
        "id": "MzAfF2TOT4kN",
        "outputId": "4e8ab082-9f8c-40ef-c91d-11fea5b7822a"
      },
      "outputs": [
        {
          "output_type": "execute_result",
          "data": {
            "text/plain": [
              "measure       int64\n",
              "location      int64\n",
              "sex           int64\n",
              "age           int64\n",
              "cause         int64\n",
              "rei           int64\n",
              "metric        int64\n",
              "year          int64\n",
              "val         float64\n",
              "upper       float64\n",
              "lower       float64\n",
              "dtype: object"
            ]
          },
          "metadata": {},
          "execution_count": 130
        }
      ],
      "source": [
        "risks.dtypes"
      ]
    },
    {
      "cell_type": "code",
      "execution_count": 131,
      "metadata": {
        "colab": {
          "base_uri": "https://localhost:8080/"
        },
        "id": "6t6LEm8rT4kN",
        "outputId": "990569f9-6b88-4077-9cf7-3115453f1c1b"
      },
      "outputs": [
        {
          "output_type": "execute_result",
          "data": {
            "text/plain": [
              "(204, 204)"
            ]
          },
          "metadata": {},
          "execution_count": 131
        }
      ],
      "source": [
        "risks.location.nunique(), causes.location.nunique()"
      ]
    },
    {
      "cell_type": "code",
      "execution_count": 132,
      "metadata": {
        "colab": {
          "base_uri": "https://localhost:8080/"
        },
        "id": "spSCxo9dT4kO",
        "outputId": "05ec9997-52ca-4cfe-bec6-7e644ed7a48a"
      },
      "outputs": [
        {
          "output_type": "execute_result",
          "data": {
            "text/plain": [
              "measure       int64\n",
              "location      int64\n",
              "sex           int64\n",
              "age           int64\n",
              "cause         int64\n",
              "metric        int64\n",
              "year          int64\n",
              "val         float64\n",
              "upper       float64\n",
              "lower       float64\n",
              "dtype: object"
            ]
          },
          "metadata": {},
          "execution_count": 132
        }
      ],
      "source": [
        "causes.dtypes"
      ]
    },
    {
      "cell_type": "code",
      "execution_count": 133,
      "metadata": {
        "colab": {
          "base_uri": "https://localhost:8080/"
        },
        "id": "WPgXhq3DT4kO",
        "outputId": "3ee86ee3-2533-4bb7-fc83-aef316fb998e"
      },
      "outputs": [
        {
          "output_type": "execute_result",
          "data": {
            "text/plain": [
              "204"
            ]
          },
          "metadata": {},
          "execution_count": 133
        }
      ],
      "source": [
        "len(set(risks.location.values).intersection(set(causes.location.values)))"
      ]
    },
    {
      "cell_type": "code",
      "execution_count": 134,
      "metadata": {
        "id": "Y39z3pXST4kO"
      },
      "outputs": [],
      "source": [
        "population = population[population.columns[~population.columns.str.contains('_name')]]"
      ]
    },
    {
      "cell_type": "code",
      "execution_count": 135,
      "metadata": {
        "colab": {
          "base_uri": "https://localhost:8080/"
        },
        "id": "xEr-iyDyT4kO",
        "outputId": "02b8ccb8-2101-4343-d695-61e29355c2fb"
      },
      "outputs": [
        {
          "output_type": "execute_result",
          "data": {
            "text/plain": [
              "location_id       int64\n",
              "sex_id            int64\n",
              "age_group_id      int64\n",
              "year_id           int64\n",
              "measure_id        int64\n",
              "metric_id         int64\n",
              "val             float64\n",
              "upper           float64\n",
              "lower           float64\n",
              "dtype: object"
            ]
          },
          "metadata": {},
          "execution_count": 135
        }
      ],
      "source": [
        "population.dtypes"
      ]
    },
    {
      "cell_type": "code",
      "execution_count": 136,
      "metadata": {
        "id": "xeQyu_xiT4kP"
      },
      "outputs": [],
      "source": [
        "life_expectancy = life_expectancy[life_expectancy.columns[~life_expectancy.columns.str.contains('_name')]]"
      ]
    },
    {
      "cell_type": "code",
      "execution_count": 137,
      "metadata": {
        "colab": {
          "base_uri": "https://localhost:8080/"
        },
        "id": "Er6kYfpfT4kP",
        "outputId": "0c1c655e-ca42-495d-ec40-610794daeaf7"
      },
      "outputs": [
        {
          "output_type": "execute_result",
          "data": {
            "text/plain": [
              "Variable:        object\n",
              "location_id      object\n",
              "sex_id           object\n",
              "age_group_id     object\n",
              "year_id          object\n",
              "measure_id       object\n",
              "metric_id        object\n",
              "val              object\n",
              "upper            object\n",
              "lower            object\n",
              "age_id          float64\n",
              "year            float64\n",
              "dtype: object"
            ]
          },
          "metadata": {},
          "execution_count": 137
        }
      ],
      "source": [
        "life_expectancy.dtypes"
      ]
    },
    {
      "cell_type": "code",
      "execution_count": 138,
      "metadata": {
        "colab": {
          "base_uri": "https://localhost:8080/"
        },
        "id": "T9nyQAguT4kP",
        "outputId": "1ef49e68-a6bc-40d4-f632-d4532b510e44"
      },
      "outputs": [
        {
          "output_type": "execute_result",
          "data": {
            "text/plain": [
              "(675, 880)"
            ]
          },
          "metadata": {},
          "execution_count": 138
        }
      ],
      "source": [
        "population.location_id.nunique(), life_expectancy.location_id.nunique()"
      ]
    },
    {
      "cell_type": "code",
      "execution_count": 139,
      "metadata": {
        "colab": {
          "base_uri": "https://localhost:8080/"
        },
        "id": "d5OB9Bi6T4kQ",
        "outputId": "070fede8-aa3a-4d5a-d67e-31ca2abe3756"
      },
      "outputs": [
        {
          "output_type": "execute_result",
          "data": {
            "text/plain": [
              "204"
            ]
          },
          "metadata": {},
          "execution_count": 139
        }
      ],
      "source": [
        "len(set(risks.location.values).intersection(set(population.location_id.values)))"
      ]
    },
    {
      "cell_type": "code",
      "execution_count": 140,
      "metadata": {
        "colab": {
          "base_uri": "https://localhost:8080/"
        },
        "id": "hSG8WVTkT4kQ",
        "outputId": "0497b43d-d738-49e5-813a-7f25c8213b23"
      },
      "outputs": [
        {
          "output_type": "execute_result",
          "data": {
            "text/plain": [
              "204"
            ]
          },
          "metadata": {},
          "execution_count": 140
        }
      ],
      "source": [
        "len(set(risks.location.values).intersection(set(life_expectancy.location_id.values)))"
      ]
    },
    {
      "cell_type": "code",
      "execution_count": 141,
      "metadata": {
        "colab": {
          "base_uri": "https://localhost:8080/"
        },
        "id": "BNsZ10nFT4kQ",
        "outputId": "5fa060ad-a0d7-4e5c-c902-9e85804940b6"
      },
      "outputs": [
        {
          "output_type": "execute_result",
          "data": {
            "text/plain": [
              "880"
            ]
          },
          "metadata": {},
          "execution_count": 141
        }
      ],
      "source": [
        "life_expectancy.location_id.nunique()"
      ]
    },
    {
      "cell_type": "code",
      "execution_count": 142,
      "metadata": {
        "id": "bXra8Oa6T4kQ"
      },
      "outputs": [],
      "source": [
        "population_source = population.copy()\n",
        "life_expectancy_source = life_expectancy.copy()"
      ]
    },
    {
      "cell_type": "code",
      "execution_count": 143,
      "metadata": {
        "id": "zZuih84ST4kQ"
      },
      "outputs": [],
      "source": [
        "population = population.query('location_id in @risks.location.unique()')\n",
        "life_expectancy = life_expectancy.query('location_id in @risks.location.unique()')"
      ]
    },
    {
      "cell_type": "code",
      "execution_count": 144,
      "metadata": {
        "colab": {
          "base_uri": "https://localhost:8080/"
        },
        "id": "0ZAd3kY9T4kR",
        "outputId": "e4e4803c-073b-4aa2-b1ce-6852c9d1bf57"
      },
      "outputs": [
        {
          "output_type": "execute_result",
          "data": {
            "text/plain": [
              "(204, 204)"
            ]
          },
          "metadata": {},
          "execution_count": 144
        }
      ],
      "source": [
        "population.location_id.nunique(), life_expectancy.location_id.nunique()"
      ]
    },
    {
      "cell_type": "markdown",
      "metadata": {
        "id": "ZwMZhuGhT4kR"
      },
      "source": [
        "### age harmonization"
      ]
    },
    {
      "cell_type": "code",
      "execution_count": 150,
      "metadata": {
        "colab": {
          "base_uri": "https://localhost:8080/"
        },
        "id": "K-PYrWwwT4kR",
        "outputId": "ec9699af-acf2-4226-d2ec-583feb79ff2a"
      },
      "outputs": [
        {
          "output_type": "execute_result",
          "data": {
            "text/plain": [
              "(21, 21, 47, 24)"
            ]
          },
          "metadata": {},
          "execution_count": 150
        }
      ],
      "source": [
        "(\n",
        "    causes.age.nunique(),\n",
        "    risks.age.nunique(),\n",
        "    population.age_group_id.nunique(),\n",
        "    life_expectancy.age_id.nunique(),\n",
        ")"
      ]
    },
    {
      "cell_type": "code",
      "execution_count": 151,
      "metadata": {
        "colab": {
          "base_uri": "https://localhost:8080/"
        },
        "id": "jBkLKZcgT4kR",
        "outputId": "aa756c19-cd90-4861-b259-2b5c3b6bffa7"
      },
      "outputs": [
        {
          "output_type": "execute_result",
          "data": {
            "text/plain": [
              "21"
            ]
          },
          "metadata": {},
          "execution_count": 151
        }
      ],
      "source": [
        "len(set(causes.age.unique()).intersection(\n",
        "    set(risks.age.unique())\n",
        "))"
      ]
    },
    {
      "cell_type": "code",
      "execution_count": 152,
      "metadata": {
        "colab": {
          "base_uri": "https://localhost:8080/"
        },
        "id": "rxjRQMHkT4kS",
        "outputId": "52cab894-5c08-42fc-9633-7d8d2cc4a4d7"
      },
      "outputs": [
        {
          "output_type": "execute_result",
          "data": {
            "text/plain": [
              "21"
            ]
          },
          "metadata": {},
          "execution_count": 152
        }
      ],
      "source": [
        "len(set(causes.age.unique()).intersection(\n",
        "    set(population.age_group_id.unique())\n",
        "))"
      ]
    },
    {
      "cell_type": "code",
      "execution_count": 154,
      "metadata": {
        "colab": {
          "base_uri": "https://localhost:8080/"
        },
        "id": "HPailnfvT4kS",
        "outputId": "6eebfd12-ce42-4794-d75c-7d13817ae8fc"
      },
      "outputs": [
        {
          "output_type": "execute_result",
          "data": {
            "text/plain": [
              "20"
            ]
          },
          "metadata": {},
          "execution_count": 154
        }
      ],
      "source": [
        "len(set(causes.age.unique()).intersection(\n",
        "    set(life_expectancy.age_id.unique())\n",
        "))"
      ]
    },
    {
      "cell_type": "code",
      "execution_count": 157,
      "metadata": {
        "colab": {
          "base_uri": "https://localhost:8080/"
        },
        "id": "17jo_TzcT4kS",
        "outputId": "c58eaeed-2762-4e91-b895-331f782a44d9"
      },
      "outputs": [
        {
          "output_type": "execute_result",
          "data": {
            "text/plain": [
              "20"
            ]
          },
          "metadata": {},
          "execution_count": 157
        }
      ],
      "source": [
        "len(set(life_expectancy.age_id.unique()).intersection(\n",
        "    set(population.age_group_id.unique())\n",
        "))"
      ]
    },
    {
      "cell_type": "code",
      "execution_count": 158,
      "metadata": {
        "id": "ESs5UwNoT4kS",
        "outputId": "2823c34b-eb5f-49d8-90c7-f9a9414df1f1",
        "colab": {
          "base_uri": "https://localhost:8080/"
        }
      },
      "outputs": [
        {
          "output_type": "execute_result",
          "data": {
            "text/plain": [
              "array(['95 plus'], dtype='<U7')"
            ]
          },
          "metadata": {},
          "execution_count": 158
        }
      ],
      "source": [
        "np.array([id_to_name_mappings['age_name'][x] for x in set(causes.age.unique()).difference(\n",
        "    set(life_expectancy.age_id.unique())\n",
        ")])"
      ]
    },
    {
      "cell_type": "code",
      "execution_count": 159,
      "metadata": {
        "id": "vsOy8sepT4kT",
        "outputId": "41524f78-3831-48c2-dd73-4c75e3e0f1b3",
        "colab": {
          "base_uri": "https://localhost:8080/"
        }
      },
      "outputs": [
        {
          "output_type": "execute_result",
          "data": {
            "text/plain": [
              "array(['70 to 74', '75 to 79', '80 to 84', '85 to 89', '90 to 94',\n",
              "       '95 plus', '15 to 19', '1 to 4', '5 to 9', '10 to 14', '20 to 24',\n",
              "       '25 to 29', '30 to 34', '35 to 39', '40 to 44', '45 to 49',\n",
              "       '50 to 54', '55 to 59', '60 to 64', '65 to 69', '<1 year'],\n",
              "      dtype='<U8')"
            ]
          },
          "metadata": {},
          "execution_count": 159
        }
      ],
      "source": [
        "np.array([id_to_name_mappings['age_name'][x] for x in risks.age.unique()])"
      ]
    },
    {
      "cell_type": "code",
      "source": [
        "id_to_name_mappings['age_name']"
      ],
      "metadata": {
        "colab": {
          "base_uri": "https://localhost:8080/"
        },
        "id": "z4a4eVLKkEUr",
        "outputId": "0ed23e99-b34b-47db-b102-e9e519050165"
      },
      "execution_count": 164,
      "outputs": [
        {
          "output_type": "execute_result",
          "data": {
            "text/plain": [
              "{1: 'Under 5',\n",
              " 2: 'Early Neonatal',\n",
              " 3: 'Late Neonatal',\n",
              " 4: 'Post Neonatal',\n",
              " 5: '1 to 4',\n",
              " 6: '5 to 9',\n",
              " 7: '10 to 14',\n",
              " 8: '15 to 19',\n",
              " 9: '20 to 24',\n",
              " 10: '25 to 29',\n",
              " 11: '30 to 34',\n",
              " 12: '35 to 39',\n",
              " 13: '40 to 44',\n",
              " 14: '45 to 49',\n",
              " 15: '50 to 54',\n",
              " 16: '55 to 59',\n",
              " 17: '60 to 64',\n",
              " 18: '65 to 69',\n",
              " 19: '70 to 74',\n",
              " 20: '75 to 79',\n",
              " 21: '80 plus',\n",
              " 22: 'All Ages',\n",
              " 23: '5-14 years',\n",
              " 24: '15-49 years',\n",
              " 25: '50-69 years',\n",
              " 26: '70+ years',\n",
              " 27: 'Age-standardized',\n",
              " 28: '<1 year',\n",
              " 30: '80 to 84',\n",
              " 31: '85 to 89',\n",
              " 32: '90 to 94',\n",
              " 37: '20 plus',\n",
              " 39: '0 to 14',\n",
              " 41: '50 to 74 years',\n",
              " 42: 'Neonatal',\n",
              " 157: '25 plus',\n",
              " 158: '<20 years',\n",
              " 159: '10 to 24',\n",
              " 160: '85 plus',\n",
              " 164: 'Birth',\n",
              " 169: '10 to 54',\n",
              " 172: '0 to 9',\n",
              " 188: '5 to 19',\n",
              " 197: '15 to 39',\n",
              " 206: '25 to 49',\n",
              " 228: '55 plus',\n",
              " 230: '60 to 79',\n",
              " 232: '65 to 74',\n",
              " 234: '75 plus',\n",
              " 235: '95 plus',\n",
              " 243: '75 to 84',\n",
              " 284: '20 to 54 years',\n",
              " 285: '55 to 89 years',\n",
              " 286: '60 to 89 years',\n",
              " 287: '65 to 89 years',\n",
              " 288: '70 to 89 years',\n",
              " 289: '75 to 94 years',\n",
              " 420: '<70 years'}"
            ]
          },
          "metadata": {},
          "execution_count": 164
        }
      ]
    },
    {
      "cell_type": "code",
      "source": [
        "life_expectancy.age_id.unique()"
      ],
      "metadata": {
        "colab": {
          "base_uri": "https://localhost:8080/"
        },
        "id": "MwbC9qpSkQ2n",
        "outputId": "0ed70a8b-e476-4209-c95f-0c6cc4ea554c"
      },
      "execution_count": 166,
      "outputs": [
        {
          "output_type": "execute_result",
          "data": {
            "text/plain": [
              "array([ 45., 148.,   5.,   6.,   7.,   8.,   9.,  10.,  11.,  12.,  13.,\n",
              "        14.,  15.,  16.,  17.,  18.,  19.,  20.,  28.,  30.,  31.,  32.,\n",
              "        33.,  44.])"
            ]
          },
          "metadata": {},
          "execution_count": 166
        }
      ]
    },
    {
      "cell_type": "code",
      "source": [
        "life_expectancy.age_id = [str(int(x)) for x in life_expectancy.age_id]"
      ],
      "metadata": {
        "id": "zRYGDpSTlI4z"
      },
      "execution_count": 172,
      "outputs": []
    },
    {
      "cell_type": "code",
      "execution_count": 173,
      "metadata": {
        "id": "u5L-TnxIT4kT",
        "outputId": "b3a01874-42ba-4ccf-ad78-5e3130b85c06",
        "colab": {
          "base_uri": "https://localhost:8080/"
        }
      },
      "outputs": [
        {
          "output_type": "execute_result",
          "data": {
            "text/plain": [
              "array([105, 110,   1,   5,  10,  15,  20,  25,  30,  35,  40,  45,  50,\n",
              "        55,  60,  65,  70,  75,   0,  80,  85,  90,  95, 100])"
            ]
          },
          "metadata": {},
          "execution_count": 173
        }
      ],
      "source": [
        "np.array([age_group_id_to_start_age_int[x] for x in life_expectancy.age_id.unique()])"
      ]
    },
    {
      "cell_type": "code",
      "execution_count": 169,
      "metadata": {
        "id": "Lsl9wSwiT4kT"
      },
      "outputs": [],
      "source": [
        "population = population.query('age_group_id in @risks.age.unique()')"
      ]
    },
    {
      "cell_type": "code",
      "execution_count": 171,
      "metadata": {
        "id": "dcyBShb2T4kT",
        "colab": {
          "base_uri": "https://localhost:8080/"
        },
        "outputId": "03f8a72e-3f45-4fd0-c450-490114f5e9ac"
      },
      "outputs": [
        {
          "output_type": "execute_result",
          "data": {
            "text/plain": [
              "(21, 21, 21, 24)"
            ]
          },
          "metadata": {},
          "execution_count": 171
        }
      ],
      "source": [
        "risks.age.nunique(), causes.age.nunique(), population.age_group_id.nunique(), life_expectancy.age_id.nunique()"
      ]
    },
    {
      "cell_type": "code",
      "execution_count": null,
      "metadata": {
        "id": "ylLw78lWT4kT"
      },
      "outputs": [],
      "source": [
        "## we're will using life_expectancy for check accuracy our estimation thus leave age groups in this table as is"
      ]
    },
    {
      "cell_type": "markdown",
      "metadata": {
        "id": "KOEjTUeLT4kT"
      },
      "source": [
        "### sex harmonization"
      ]
    },
    {
      "cell_type": "code",
      "execution_count": 174,
      "metadata": {
        "id": "vhzLbolTT4kU",
        "outputId": "de585d41-8acc-4ba0-d174-a5859d66f11c",
        "colab": {
          "base_uri": "https://localhost:8080/"
        }
      },
      "outputs": [
        {
          "output_type": "execute_result",
          "data": {
            "text/plain": [
              "array([1, 2, 3])"
            ]
          },
          "metadata": {},
          "execution_count": 174
        }
      ],
      "source": [
        "population.sex_id.unique()"
      ]
    },
    {
      "cell_type": "code",
      "execution_count": 175,
      "metadata": {
        "id": "f43uJp5LT4kU",
        "outputId": "10c85460-bd77-4488-e1b5-9a477fd791e6",
        "colab": {
          "base_uri": "https://localhost:8080/"
        }
      },
      "outputs": [
        {
          "output_type": "execute_result",
          "data": {
            "text/plain": [
              "array([1, 2], dtype=object)"
            ]
          },
          "metadata": {},
          "execution_count": 175
        }
      ],
      "source": [
        "life_expectancy.sex_id.unique()"
      ]
    },
    {
      "cell_type": "code",
      "execution_count": 176,
      "metadata": {
        "id": "WnoDQAioT4kU",
        "outputId": "91954473-e691-4344-8f8a-93a3626aeb6f",
        "colab": {
          "base_uri": "https://localhost:8080/"
        }
      },
      "outputs": [
        {
          "output_type": "execute_result",
          "data": {
            "text/plain": [
              "array([1, 2])"
            ]
          },
          "metadata": {},
          "execution_count": 176
        }
      ],
      "source": [
        "causes.sex.unique()"
      ]
    },
    {
      "cell_type": "code",
      "execution_count": 177,
      "metadata": {
        "id": "Z6Zo2-4FT4kU",
        "outputId": "86c83fca-fb0d-4ca6-f63d-77012d9ece03",
        "colab": {
          "base_uri": "https://localhost:8080/"
        }
      },
      "outputs": [
        {
          "output_type": "execute_result",
          "data": {
            "text/plain": [
              "array([2, 1])"
            ]
          },
          "metadata": {},
          "execution_count": 177
        }
      ],
      "source": [
        "risks.sex.unique()"
      ]
    },
    {
      "cell_type": "code",
      "execution_count": 178,
      "metadata": {
        "id": "9OTm5KC7T4kV",
        "outputId": "b1353da0-f05f-4bfb-f2d8-5396046fa833",
        "colab": {
          "base_uri": "https://localhost:8080/"
        }
      },
      "outputs": [
        {
          "output_type": "execute_result",
          "data": {
            "text/plain": [
              "array([1, 2])"
            ]
          },
          "metadata": {},
          "execution_count": 178
        }
      ],
      "source": [
        "population = population.query('sex_id in @risks.sex.unique()')\n",
        "population.sex_id.unique()"
      ]
    },
    {
      "cell_type": "markdown",
      "metadata": {
        "id": "YR56yjPBT4kV"
      },
      "source": [
        "### convert age group id to age group start age"
      ]
    },
    {
      "cell_type": "code",
      "execution_count": 179,
      "metadata": {
        "id": "opowOc_OT4kV"
      },
      "outputs": [],
      "source": [
        "age_id_to_name = {v: k for k, v in age_name_to_id.items()}"
      ]
    },
    {
      "cell_type": "code",
      "execution_count": 180,
      "metadata": {
        "id": "CTicTFLgT4kV"
      },
      "outputs": [],
      "source": [
        "population['age_group_start'] = (\n",
        "    population['age_group_id']\n",
        "    .copy()\n",
        "    .map(age_id_to_name)\n",
        "    .map(age_group_name_to_start_age_int)\n",
        ")\n",
        "population['age_group_start'] = population['age_group_start'].astype('int')"
      ]
    },
    {
      "cell_type": "code",
      "execution_count": 181,
      "metadata": {
        "id": "-ABzIKKpT4kV"
      },
      "outputs": [],
      "source": [
        "life_expectancy['age_group_start'] = (\n",
        "    life_expectancy['age_id'].astype('str')\n",
        "    .copy()\n",
        "    .map(age_group_id_to_start_age_int)\n",
        ")"
      ]
    },
    {
      "cell_type": "code",
      "execution_count": 182,
      "metadata": {
        "id": "JhORCrmeT4kW",
        "outputId": "2e825347-7c04-49c6-97f2-fd9dfab0e8a2",
        "colab": {
          "base_uri": "https://localhost:8080/"
        }
      },
      "outputs": [
        {
          "output_type": "execute_result",
          "data": {
            "text/plain": [
              "Variable:          1.0\n",
              "location_id        0.0\n",
              "sex_id             0.0\n",
              "age_group_id       1.0\n",
              "year_id            1.0\n",
              "measure_id         0.0\n",
              "metric_id          0.0\n",
              "val                0.0\n",
              "upper              0.0\n",
              "lower              0.0\n",
              "age_id             0.0\n",
              "year               0.0\n",
              "age_group_start    0.0\n",
              "dtype: float64"
            ]
          },
          "metadata": {},
          "execution_count": 182
        }
      ],
      "source": [
        "life_expectancy.isna().sum() / len(life_expectancy)"
      ]
    },
    {
      "cell_type": "code",
      "execution_count": 183,
      "metadata": {
        "id": "V73nzBOmT4kW"
      },
      "outputs": [],
      "source": [
        "causes['age_group_start'] = (\n",
        "    causes['age']\n",
        "    .copy()\n",
        "    .map(age_id_to_name)\n",
        "    .map(age_group_name_to_start_age_int)\n",
        ")"
      ]
    },
    {
      "cell_type": "code",
      "execution_count": 184,
      "metadata": {
        "id": "eUtnRk3GT4kW",
        "outputId": "cefb513e-0ce7-47ef-9dd1-9a429ff32397",
        "colab": {
          "base_uri": "https://localhost:8080/"
        }
      },
      "outputs": [
        {
          "output_type": "execute_result",
          "data": {
            "text/plain": [
              "measure            0.0\n",
              "location           0.0\n",
              "sex                0.0\n",
              "age                0.0\n",
              "cause              0.0\n",
              "metric             0.0\n",
              "year               0.0\n",
              "val                0.0\n",
              "upper              0.0\n",
              "lower              0.0\n",
              "age_group_start    0.0\n",
              "dtype: float64"
            ]
          },
          "metadata": {},
          "execution_count": 184
        }
      ],
      "source": [
        "causes.isna().sum() / len(causes)"
      ]
    },
    {
      "cell_type": "code",
      "execution_count": 185,
      "metadata": {
        "id": "h0MSjakcT4kX"
      },
      "outputs": [],
      "source": [
        "risks['age_group_start'] = (\n",
        "    risks['age']\n",
        "    .copy()\n",
        "    .map(age_id_to_name)\n",
        "    .map(age_group_name_to_start_age_int)\n",
        ")"
      ]
    },
    {
      "cell_type": "code",
      "execution_count": 186,
      "metadata": {
        "id": "FeQkYmFHT4kX",
        "outputId": "28ba142b-8bc9-4747-f343-3a3b333e2776",
        "colab": {
          "base_uri": "https://localhost:8080/"
        }
      },
      "outputs": [
        {
          "output_type": "execute_result",
          "data": {
            "text/plain": [
              "measure            0.0\n",
              "location           0.0\n",
              "sex                0.0\n",
              "age                0.0\n",
              "cause              0.0\n",
              "rei                0.0\n",
              "metric             0.0\n",
              "year               0.0\n",
              "val                0.0\n",
              "upper              0.0\n",
              "lower              0.0\n",
              "age_group_start    0.0\n",
              "dtype: float64"
            ]
          },
          "metadata": {},
          "execution_count": 186
        }
      ],
      "source": [
        "risks.isna().sum() / len(risks)"
      ]
    },
    {
      "cell_type": "code",
      "execution_count": 187,
      "metadata": {
        "id": "yDOIsDeTT4kX"
      },
      "outputs": [],
      "source": [
        "risks.drop('age', axis=1, inplace=True)\n",
        "causes.drop('age', axis=1, inplace=True)"
      ]
    },
    {
      "cell_type": "code",
      "execution_count": 188,
      "metadata": {
        "id": "Hb6tFudxT4kX"
      },
      "outputs": [],
      "source": [
        "population.drop('age_group_id', axis=1, inplace=True)"
      ]
    },
    {
      "cell_type": "code",
      "execution_count": 189,
      "metadata": {
        "id": "W5KOMO1BT4kX"
      },
      "outputs": [],
      "source": [
        "life_expectancy.drop('age_id', axis=1, inplace=True)\n",
        "life_expectancy.drop('age_group_id', axis=1, inplace=True)\n",
        "life_expectancy.drop('year_id', axis=1, inplace=True)\n",
        "life_expectancy.drop('Variable:', axis=1, inplace=True)"
      ]
    },
    {
      "cell_type": "code",
      "source": [
        "life_expectancy.isna().sum() / len(life_expectancy)"
      ],
      "metadata": {
        "colab": {
          "base_uri": "https://localhost:8080/"
        },
        "id": "QnL3TdQbl9bH",
        "outputId": "ade958e8-176b-4a21-98cc-a11b3ad56771"
      },
      "execution_count": 201,
      "outputs": [
        {
          "output_type": "execute_result",
          "data": {
            "text/plain": [
              "location_id        0.0\n",
              "sex_id             0.0\n",
              "measure_id         0.0\n",
              "metric_id          0.0\n",
              "val                0.0\n",
              "upper              0.0\n",
              "lower              0.0\n",
              "year               0.0\n",
              "age_group_start    0.0\n",
              "dtype: float64"
            ]
          },
          "metadata": {},
          "execution_count": 201
        }
      ]
    },
    {
      "cell_type": "markdown",
      "metadata": {
        "id": "6UIdhFehT4kX"
      },
      "source": [
        "### Columns names harmonization"
      ]
    },
    {
      "cell_type": "code",
      "execution_count": 195,
      "metadata": {
        "id": "OUEb7m63T4kY"
      },
      "outputs": [],
      "source": [
        "risks.columns = [\n",
        "    f'{x}_id'\n",
        "    if x in ['measure', 'location', 'sex', 'cause', 'rei', 'metric']\n",
        "    else x\n",
        "    for x in risks.columns\n",
        "]\n",
        "\n",
        "causes.columns = [\n",
        "    f'{x}_id'\n",
        "    if x in ['measure', 'location', 'sex', 'cause', 'rei', 'metric']\n",
        "    else x\n",
        "    for x in causes.columns\n",
        "]"
      ]
    },
    {
      "cell_type": "code",
      "execution_count": 196,
      "metadata": {
        "id": "veQt31ZXT4kY"
      },
      "outputs": [],
      "source": [
        "life_expectancy = life_expectancy[life_expectancy.columns[~life_expectancy.columns.str.contains('_name')]]"
      ]
    },
    {
      "cell_type": "code",
      "execution_count": 202,
      "metadata": {
        "id": "XuYnvVQ7T4kY",
        "outputId": "0cd92134-3f1d-4bdf-a3b3-7bb529cdbb71",
        "colab": {
          "base_uri": "https://localhost:8080/"
        }
      },
      "outputs": [
        {
          "output_type": "execute_result",
          "data": {
            "text/plain": [
              "Index(['location_id', 'sex_id', 'measure_id', 'metric_id', 'val', 'upper',\n",
              "       'lower', 'year', 'age_group_start'],\n",
              "      dtype='object')"
            ]
          },
          "metadata": {},
          "execution_count": 202
        }
      ],
      "source": [
        "life_expectancy.columns"
      ]
    },
    {
      "cell_type": "code",
      "source": [
        "life_expectancy\n"
      ],
      "metadata": {
        "colab": {
          "base_uri": "https://localhost:8080/",
          "height": 423
        },
        "id": "TS1PObZzo2st",
        "outputId": "3c415dfb-cff2-4843-868e-e4938db278ee"
      },
      "execution_count": 203,
      "outputs": [
        {
          "output_type": "execute_result",
          "data": {
            "text/plain": [
              "     location_id sex_id measure_id metric_id        val      upper      lower  \\\n",
              "0              8      1         26         5   2.558657   2.803401    2.32918   \n",
              "1              8      2         26         5   2.314729   2.547362   2.075737   \n",
              "2              8      1         26         5   1.901127   2.049968   1.761196   \n",
              "3              8      2         26         5   1.695075   1.825493   1.560026   \n",
              "4             10      1         26         5  68.036519  70.476733  66.096227   \n",
              "...          ...    ...        ...       ...        ...        ...        ...   \n",
              "9787         210      2         26         5  47.143699  49.077093  44.733192   \n",
              "9788         210      1         26         5  41.658743  43.619525  39.231101   \n",
              "9789         210      2         26         5  42.624141  44.465014  40.257614   \n",
              "9790         210      1         26         5  37.234174  39.102909  34.810245   \n",
              "9791         210      2         26         5  38.204048  39.936827  35.886942   \n",
              "\n",
              "        year  age_group_start  \n",
              "0     2019.0              105  \n",
              "1     2019.0              105  \n",
              "2     2019.0              110  \n",
              "3     2019.0              110  \n",
              "4     2019.0                1  \n",
              "...      ...              ...  \n",
              "9787  2019.0               25  \n",
              "9788  2019.0               30  \n",
              "9789  2019.0               30  \n",
              "9790  2019.0               35  \n",
              "9791  2019.0               35  \n",
              "\n",
              "[9792 rows x 9 columns]"
            ],
            "text/html": [
              "\n",
              "\n",
              "  <div id=\"df-28ad30be-ef32-4f8d-9525-f9f49787aef2\">\n",
              "    <div class=\"colab-df-container\">\n",
              "      <div>\n",
              "<style scoped>\n",
              "    .dataframe tbody tr th:only-of-type {\n",
              "        vertical-align: middle;\n",
              "    }\n",
              "\n",
              "    .dataframe tbody tr th {\n",
              "        vertical-align: top;\n",
              "    }\n",
              "\n",
              "    .dataframe thead th {\n",
              "        text-align: right;\n",
              "    }\n",
              "</style>\n",
              "<table border=\"1\" class=\"dataframe\">\n",
              "  <thead>\n",
              "    <tr style=\"text-align: right;\">\n",
              "      <th></th>\n",
              "      <th>location_id</th>\n",
              "      <th>sex_id</th>\n",
              "      <th>measure_id</th>\n",
              "      <th>metric_id</th>\n",
              "      <th>val</th>\n",
              "      <th>upper</th>\n",
              "      <th>lower</th>\n",
              "      <th>year</th>\n",
              "      <th>age_group_start</th>\n",
              "    </tr>\n",
              "  </thead>\n",
              "  <tbody>\n",
              "    <tr>\n",
              "      <th>0</th>\n",
              "      <td>8</td>\n",
              "      <td>1</td>\n",
              "      <td>26</td>\n",
              "      <td>5</td>\n",
              "      <td>2.558657</td>\n",
              "      <td>2.803401</td>\n",
              "      <td>2.32918</td>\n",
              "      <td>2019.0</td>\n",
              "      <td>105</td>\n",
              "    </tr>\n",
              "    <tr>\n",
              "      <th>1</th>\n",
              "      <td>8</td>\n",
              "      <td>2</td>\n",
              "      <td>26</td>\n",
              "      <td>5</td>\n",
              "      <td>2.314729</td>\n",
              "      <td>2.547362</td>\n",
              "      <td>2.075737</td>\n",
              "      <td>2019.0</td>\n",
              "      <td>105</td>\n",
              "    </tr>\n",
              "    <tr>\n",
              "      <th>2</th>\n",
              "      <td>8</td>\n",
              "      <td>1</td>\n",
              "      <td>26</td>\n",
              "      <td>5</td>\n",
              "      <td>1.901127</td>\n",
              "      <td>2.049968</td>\n",
              "      <td>1.761196</td>\n",
              "      <td>2019.0</td>\n",
              "      <td>110</td>\n",
              "    </tr>\n",
              "    <tr>\n",
              "      <th>3</th>\n",
              "      <td>8</td>\n",
              "      <td>2</td>\n",
              "      <td>26</td>\n",
              "      <td>5</td>\n",
              "      <td>1.695075</td>\n",
              "      <td>1.825493</td>\n",
              "      <td>1.560026</td>\n",
              "      <td>2019.0</td>\n",
              "      <td>110</td>\n",
              "    </tr>\n",
              "    <tr>\n",
              "      <th>4</th>\n",
              "      <td>10</td>\n",
              "      <td>1</td>\n",
              "      <td>26</td>\n",
              "      <td>5</td>\n",
              "      <td>68.036519</td>\n",
              "      <td>70.476733</td>\n",
              "      <td>66.096227</td>\n",
              "      <td>2019.0</td>\n",
              "      <td>1</td>\n",
              "    </tr>\n",
              "    <tr>\n",
              "      <th>...</th>\n",
              "      <td>...</td>\n",
              "      <td>...</td>\n",
              "      <td>...</td>\n",
              "      <td>...</td>\n",
              "      <td>...</td>\n",
              "      <td>...</td>\n",
              "      <td>...</td>\n",
              "      <td>...</td>\n",
              "      <td>...</td>\n",
              "    </tr>\n",
              "    <tr>\n",
              "      <th>9787</th>\n",
              "      <td>210</td>\n",
              "      <td>2</td>\n",
              "      <td>26</td>\n",
              "      <td>5</td>\n",
              "      <td>47.143699</td>\n",
              "      <td>49.077093</td>\n",
              "      <td>44.733192</td>\n",
              "      <td>2019.0</td>\n",
              "      <td>25</td>\n",
              "    </tr>\n",
              "    <tr>\n",
              "      <th>9788</th>\n",
              "      <td>210</td>\n",
              "      <td>1</td>\n",
              "      <td>26</td>\n",
              "      <td>5</td>\n",
              "      <td>41.658743</td>\n",
              "      <td>43.619525</td>\n",
              "      <td>39.231101</td>\n",
              "      <td>2019.0</td>\n",
              "      <td>30</td>\n",
              "    </tr>\n",
              "    <tr>\n",
              "      <th>9789</th>\n",
              "      <td>210</td>\n",
              "      <td>2</td>\n",
              "      <td>26</td>\n",
              "      <td>5</td>\n",
              "      <td>42.624141</td>\n",
              "      <td>44.465014</td>\n",
              "      <td>40.257614</td>\n",
              "      <td>2019.0</td>\n",
              "      <td>30</td>\n",
              "    </tr>\n",
              "    <tr>\n",
              "      <th>9790</th>\n",
              "      <td>210</td>\n",
              "      <td>1</td>\n",
              "      <td>26</td>\n",
              "      <td>5</td>\n",
              "      <td>37.234174</td>\n",
              "      <td>39.102909</td>\n",
              "      <td>34.810245</td>\n",
              "      <td>2019.0</td>\n",
              "      <td>35</td>\n",
              "    </tr>\n",
              "    <tr>\n",
              "      <th>9791</th>\n",
              "      <td>210</td>\n",
              "      <td>2</td>\n",
              "      <td>26</td>\n",
              "      <td>5</td>\n",
              "      <td>38.204048</td>\n",
              "      <td>39.936827</td>\n",
              "      <td>35.886942</td>\n",
              "      <td>2019.0</td>\n",
              "      <td>35</td>\n",
              "    </tr>\n",
              "  </tbody>\n",
              "</table>\n",
              "<p>9792 rows × 9 columns</p>\n",
              "</div>\n",
              "      <button class=\"colab-df-convert\" onclick=\"convertToInteractive('df-28ad30be-ef32-4f8d-9525-f9f49787aef2')\"\n",
              "              title=\"Convert this dataframe to an interactive table.\"\n",
              "              style=\"display:none;\">\n",
              "\n",
              "  <svg xmlns=\"http://www.w3.org/2000/svg\" height=\"24px\"viewBox=\"0 0 24 24\"\n",
              "       width=\"24px\">\n",
              "    <path d=\"M0 0h24v24H0V0z\" fill=\"none\"/>\n",
              "    <path d=\"M18.56 5.44l.94 2.06.94-2.06 2.06-.94-2.06-.94-.94-2.06-.94 2.06-2.06.94zm-11 1L8.5 8.5l.94-2.06 2.06-.94-2.06-.94L8.5 2.5l-.94 2.06-2.06.94zm10 10l.94 2.06.94-2.06 2.06-.94-2.06-.94-.94-2.06-.94 2.06-2.06.94z\"/><path d=\"M17.41 7.96l-1.37-1.37c-.4-.4-.92-.59-1.43-.59-.52 0-1.04.2-1.43.59L10.3 9.45l-7.72 7.72c-.78.78-.78 2.05 0 2.83L4 21.41c.39.39.9.59 1.41.59.51 0 1.02-.2 1.41-.59l7.78-7.78 2.81-2.81c.8-.78.8-2.07 0-2.86zM5.41 20L4 18.59l7.72-7.72 1.47 1.35L5.41 20z\"/>\n",
              "  </svg>\n",
              "      </button>\n",
              "\n",
              "\n",
              "\n",
              "    <div id=\"df-746683bc-606f-46e7-988f-0fdb0fed966c\">\n",
              "      <button class=\"colab-df-quickchart\" onclick=\"quickchart('df-746683bc-606f-46e7-988f-0fdb0fed966c')\"\n",
              "              title=\"Suggest charts.\"\n",
              "              style=\"display:none;\">\n",
              "\n",
              "<svg xmlns=\"http://www.w3.org/2000/svg\" height=\"24px\"viewBox=\"0 0 24 24\"\n",
              "     width=\"24px\">\n",
              "    <g>\n",
              "        <path d=\"M19 3H5c-1.1 0-2 .9-2 2v14c0 1.1.9 2 2 2h14c1.1 0 2-.9 2-2V5c0-1.1-.9-2-2-2zM9 17H7v-7h2v7zm4 0h-2V7h2v10zm4 0h-2v-4h2v4z\"/>\n",
              "    </g>\n",
              "</svg>\n",
              "      </button>\n",
              "    </div>\n",
              "\n",
              "<style>\n",
              "  .colab-df-quickchart {\n",
              "    background-color: #E8F0FE;\n",
              "    border: none;\n",
              "    border-radius: 50%;\n",
              "    cursor: pointer;\n",
              "    display: none;\n",
              "    fill: #1967D2;\n",
              "    height: 32px;\n",
              "    padding: 0 0 0 0;\n",
              "    width: 32px;\n",
              "  }\n",
              "\n",
              "  .colab-df-quickchart:hover {\n",
              "    background-color: #E2EBFA;\n",
              "    box-shadow: 0px 1px 2px rgba(60, 64, 67, 0.3), 0px 1px 3px 1px rgba(60, 64, 67, 0.15);\n",
              "    fill: #174EA6;\n",
              "  }\n",
              "\n",
              "  [theme=dark] .colab-df-quickchart {\n",
              "    background-color: #3B4455;\n",
              "    fill: #D2E3FC;\n",
              "  }\n",
              "\n",
              "  [theme=dark] .colab-df-quickchart:hover {\n",
              "    background-color: #434B5C;\n",
              "    box-shadow: 0px 1px 3px 1px rgba(0, 0, 0, 0.15);\n",
              "    filter: drop-shadow(0px 1px 2px rgba(0, 0, 0, 0.3));\n",
              "    fill: #FFFFFF;\n",
              "  }\n",
              "</style>\n",
              "\n",
              "    <script>\n",
              "      async function quickchart(key) {\n",
              "        const containerElement = document.querySelector('#' + key);\n",
              "        const charts = await google.colab.kernel.invokeFunction(\n",
              "            'suggestCharts', [key], {});\n",
              "      }\n",
              "    </script>\n",
              "\n",
              "      <script>\n",
              "\n",
              "function displayQuickchartButton(domScope) {\n",
              "  let quickchartButtonEl =\n",
              "    domScope.querySelector('#df-746683bc-606f-46e7-988f-0fdb0fed966c button.colab-df-quickchart');\n",
              "  quickchartButtonEl.style.display =\n",
              "    google.colab.kernel.accessAllowed ? 'block' : 'none';\n",
              "}\n",
              "\n",
              "        displayQuickchartButton(document);\n",
              "      </script>\n",
              "      <style>\n",
              "    .colab-df-container {\n",
              "      display:flex;\n",
              "      flex-wrap:wrap;\n",
              "      gap: 12px;\n",
              "    }\n",
              "\n",
              "    .colab-df-convert {\n",
              "      background-color: #E8F0FE;\n",
              "      border: none;\n",
              "      border-radius: 50%;\n",
              "      cursor: pointer;\n",
              "      display: none;\n",
              "      fill: #1967D2;\n",
              "      height: 32px;\n",
              "      padding: 0 0 0 0;\n",
              "      width: 32px;\n",
              "    }\n",
              "\n",
              "    .colab-df-convert:hover {\n",
              "      background-color: #E2EBFA;\n",
              "      box-shadow: 0px 1px 2px rgba(60, 64, 67, 0.3), 0px 1px 3px 1px rgba(60, 64, 67, 0.15);\n",
              "      fill: #174EA6;\n",
              "    }\n",
              "\n",
              "    [theme=dark] .colab-df-convert {\n",
              "      background-color: #3B4455;\n",
              "      fill: #D2E3FC;\n",
              "    }\n",
              "\n",
              "    [theme=dark] .colab-df-convert:hover {\n",
              "      background-color: #434B5C;\n",
              "      box-shadow: 0px 1px 3px 1px rgba(0, 0, 0, 0.15);\n",
              "      filter: drop-shadow(0px 1px 2px rgba(0, 0, 0, 0.3));\n",
              "      fill: #FFFFFF;\n",
              "    }\n",
              "  </style>\n",
              "\n",
              "      <script>\n",
              "        const buttonEl =\n",
              "          document.querySelector('#df-28ad30be-ef32-4f8d-9525-f9f49787aef2 button.colab-df-convert');\n",
              "        buttonEl.style.display =\n",
              "          google.colab.kernel.accessAllowed ? 'block' : 'none';\n",
              "\n",
              "        async function convertToInteractive(key) {\n",
              "          const element = document.querySelector('#df-28ad30be-ef32-4f8d-9525-f9f49787aef2');\n",
              "          const dataTable =\n",
              "            await google.colab.kernel.invokeFunction('convertToInteractive',\n",
              "                                                     [key], {});\n",
              "          if (!dataTable) return;\n",
              "\n",
              "          const docLinkHtml = 'Like what you see? Visit the ' +\n",
              "            '<a target=\"_blank\" href=https://colab.research.google.com/notebooks/data_table.ipynb>data table notebook</a>'\n",
              "            + ' to learn more about interactive tables.';\n",
              "          element.innerHTML = '';\n",
              "          dataTable['output_type'] = 'display_data';\n",
              "          await google.colab.output.renderOutput(dataTable, element);\n",
              "          const docLink = document.createElement('div');\n",
              "          docLink.innerHTML = docLinkHtml;\n",
              "          element.appendChild(docLink);\n",
              "        }\n",
              "      </script>\n",
              "    </div>\n",
              "  </div>\n"
            ]
          },
          "metadata": {},
          "execution_count": 203
        }
      ]
    },
    {
      "cell_type": "markdown",
      "metadata": {
        "id": "2-nMvSLtT4kY"
      },
      "source": [
        "## Filtering only most detailed causes and risk factors"
      ]
    },
    {
      "cell_type": "code",
      "execution_count": 204,
      "metadata": {
        "id": "Xhr9dekrT4kY"
      },
      "outputs": [],
      "source": [
        "aggregate_causes = np.array(\n",
        "    [\n",
        "        x\n",
        "        for x in causes.cause_id.unique()\n",
        "        if 'Total' in id_to_name_mappings['cause_name'][x]\n",
        "    ]\n",
        ")"
      ]
    },
    {
      "cell_type": "code",
      "execution_count": 205,
      "metadata": {
        "id": "4HzK7gJbT4kZ",
        "outputId": "f592a512-8a0d-44c1-c75f-7b4bd4ebb9bc",
        "colab": {
          "base_uri": "https://localhost:8080/"
        }
      },
      "outputs": [
        {
          "output_type": "execute_result",
          "data": {
            "text/plain": [
              "[]"
            ]
          },
          "metadata": {},
          "execution_count": 205
        }
      ],
      "source": [
        "[id_to_name_mappings['cause_name'][x] for x in aggregate_causes]"
      ]
    },
    {
      "cell_type": "code",
      "execution_count": 206,
      "metadata": {
        "id": "rPrHkM18T4kZ"
      },
      "outputs": [],
      "source": [
        "causes = causes.query('cause_id not in @aggregate_causes')\n",
        "risks = risks.query('cause_id not in @aggregate_causes')"
      ]
    },
    {
      "cell_type": "markdown",
      "metadata": {
        "id": "YpouhG8qT4kZ"
      },
      "source": [
        "Saving preprocessed data"
      ]
    },
    {
      "cell_type": "code",
      "execution_count": null,
      "metadata": {
        "id": "xN8V0dWyT4kZ"
      },
      "outputs": [],
      "source": [
        "risks.to_csv(os.path.join('data', 'preprocessed', 'risks.csv'), index=False)\n",
        "causes.to_csv(os.path.join('data', 'preprocessed', 'causes.csv'), index=False)"
      ]
    },
    {
      "cell_type": "code",
      "execution_count": null,
      "metadata": {
        "id": "WW3RPHm2T4ka"
      },
      "outputs": [],
      "source": [
        "population.to_csv(os.path.join('data', 'preprocessed', 'population.csv'), index=False)\n"
      ]
    },
    {
      "cell_type": "code",
      "execution_count": null,
      "metadata": {
        "id": "qV3a4trDT4ka"
      },
      "outputs": [],
      "source": [
        "life_expectancy.to_csv(os.path.join('data', 'preprocessed', 'life_expectancy.csv'), index=False)"
      ]
    },
    {
      "cell_type": "code",
      "execution_count": 207,
      "metadata": {
        "id": "61haA6vhT4ka",
        "outputId": "775392f1-433e-4910-8583-d9056586991d",
        "colab": {
          "base_uri": "https://localhost:8080/"
        }
      },
      "outputs": [
        {
          "output_type": "execute_result",
          "data": {
            "text/plain": [
              "array([  0,   1,   5,  10,  15,  20,  25,  30,  35,  40,  45,  50,  55,\n",
              "        60,  65,  70,  75,  80,  85,  90,  95, 100, 105, 110])"
            ]
          },
          "metadata": {},
          "execution_count": 207
        }
      ],
      "source": [
        "np.sort(life_expectancy.age_group_start.unique())"
      ]
    },
    {
      "cell_type": "code",
      "execution_count": 208,
      "metadata": {
        "id": "pTW2ikTDT4ka",
        "outputId": "991c6316-fc8a-4364-c78a-2a6357b776f0",
        "colab": {
          "base_uri": "https://localhost:8080/"
        }
      },
      "outputs": [
        {
          "output_type": "execute_result",
          "data": {
            "text/plain": [
              "array([ 0,  1,  5, 10, 15, 20, 25, 30, 35, 40, 45, 50, 55, 60, 65, 70, 75,\n",
              "       80, 85, 90, 95])"
            ]
          },
          "metadata": {},
          "execution_count": 208
        }
      ],
      "source": [
        "np.sort(population.age_group_start.unique())"
      ]
    },
    {
      "cell_type": "code",
      "execution_count": 209,
      "metadata": {
        "id": "ecq7WrjrT4ka",
        "outputId": "69b303b4-38ba-4be4-d8b3-3e9ef00f72bf",
        "colab": {
          "base_uri": "https://localhost:8080/"
        }
      },
      "outputs": [
        {
          "output_type": "execute_result",
          "data": {
            "text/plain": [
              "array([ 0,  1,  5, 10, 15, 20, 25, 30, 35, 40, 45, 50, 55, 60, 65, 70, 75,\n",
              "       80, 85, 90, 95])"
            ]
          },
          "metadata": {},
          "execution_count": 209
        }
      ],
      "source": [
        "np.sort(causes.age_group_start.unique())"
      ]
    },
    {
      "cell_type": "code",
      "execution_count": 210,
      "metadata": {
        "id": "Z5Iw37ldT4kb",
        "outputId": "da662956-d922-4fe3-d640-ad68e6675504",
        "colab": {
          "base_uri": "https://localhost:8080/"
        }
      },
      "outputs": [
        {
          "output_type": "execute_result",
          "data": {
            "text/plain": [
              "array([ 0,  1,  5, 10, 15, 20, 25, 30, 35, 40, 45, 50, 55, 60, 65, 70, 75,\n",
              "       80, 85, 90, 95])"
            ]
          },
          "metadata": {},
          "execution_count": 210
        }
      ],
      "source": [
        "np.sort(risks.age_group_start.unique())"
      ]
    },
    {
      "cell_type": "markdown",
      "metadata": {
        "id": "OpeVVw68T4kb"
      },
      "source": [
        "## Estimation life expectancy"
      ]
    },
    {
      "cell_type": "markdown",
      "metadata": {
        "id": "xRIZ-ixRT4kb"
      },
      "source": [
        "### Functions definitions"
      ]
    },
    {
      "cell_type": "code",
      "execution_count": null,
      "metadata": {
        "id": "MIGs4cHmT4kc"
      },
      "outputs": [],
      "source": [
        "def risk_factors_impact_to_mortality_estimator(\n",
        "    risks_located: pd.DataFrame,\n",
        "    all_causes_id: int=294,\n",
        "    all_risks_id: int=169,\n",
        ") -> pd.DataFrame:\n",
        "\n",
        "    \"\"\"\n",
        "    Function to estimate impact of each risk factor in deaths attributed by all causes\n",
        "    as their share in sum of most detailed mortality multiplied by\n",
        "    sum of deaths attributed at least one risk factor\n",
        "    \"\"\"\n",
        "    # create groupped dataframe with summarized risk impact by\n",
        "    # sex age and risk factors\n",
        "    all_causes_risk_detailed = (\n",
        "        risks_located\n",
        "        .query(\n",
        "            'cause_id == @all_causes_id'\n",
        "            ' and rei_id != @all_risks_id'\n",
        "        )\n",
        "        .groupby(by=['sex_id', 'age_group_start', 'rei_id'])\n",
        "        [['val']].sum()\n",
        "    )\n",
        "\n",
        "    all_causes_risk_detailed_sum = all_causes_risk_detailed.val.sum()\n",
        "\n",
        "    all_causes_risk_detailed_share = all_causes_risk_detailed.copy()\n",
        "\n",
        "    all_causes_risk_detailed_share['val'] = (\n",
        "        all_causes_risk_detailed['val']\n",
        "        /\n",
        "        all_causes_risk_detailed_sum\n",
        "    )\n",
        "\n",
        "    at_least_one_risk_factor_deaths_sum = (\n",
        "        risks_located.query(\n",
        "            'rei_id == @all_risks_id'\n",
        "            ' and cause_id == @all_causes_id'\n",
        "        )\n",
        "        ['val']\n",
        "        .sum()\n",
        "    )\n",
        "\n",
        "    risk_factors_impact = all_causes_risk_detailed.copy()\n",
        "\n",
        "    risk_factors_impact['val'] = (\n",
        "        all_causes_risk_detailed_share['val'].values\n",
        "        *\n",
        "        at_least_one_risk_factor_deaths_sum\n",
        "    )\n",
        "\n",
        "    return risk_factors_impact\n",
        "\n",
        "\n",
        "def data_interpolate_inside_age_groups(\n",
        "    data: pd.DataFrame,\n",
        "    start_age_column: str,\n",
        "    columns_to_interpolate: list,\n",
        "    val_columns: list,\n",
        "    columns_for_subsample: list,\n",
        "    columns_for_subsample_is_string: bool=False,\n",
        "    age_max: int=110,\n",
        "    age_max_value: int=0,\n",
        "    method='linear',\n",
        "    divide=True,\n",
        "    dividers = {\n",
        "        0: 1,\n",
        "        1: 4,\n",
        "        5: 5,\n",
        "        10: 5,\n",
        "        15: 5,\n",
        "        20: 5,\n",
        "        25: 5,\n",
        "        30: 5,\n",
        "        35: 5,\n",
        "        40: 5,\n",
        "        45: 5,\n",
        "        50: 5,\n",
        "        55: 5,\n",
        "        60: 5,\n",
        "        65: 5,\n",
        "        70: 5,\n",
        "        75: 5,\n",
        "        80: 5,\n",
        "        85: 5,\n",
        "        90: 5,\n",
        "        95: 15,\n",
        "    },\n",
        "    next_similar_values = {\n",
        "    1: 4,\n",
        "    5: 9,\n",
        "    10: 14,\n",
        "    15: 19,\n",
        "    20: 24,\n",
        "    25: 29,\n",
        "    30: 34,\n",
        "    35: 39,\n",
        "    40: 44,\n",
        "    45: 49,\n",
        "    50: 54,\n",
        "    55: 59,\n",
        "    60: 64,\n",
        "    65: 69,\n",
        "    70: 74,\n",
        "    75: 79,\n",
        "    80: 84,\n",
        "    85: 89,\n",
        "    90: 94,\n",
        "    95: 109,\n",
        "},\n",
        ") -> pd.DataFrame:\n",
        "\n",
        "    \"\"\"\n",
        "    Linear interpolate data inside age groups\n",
        "    return data with values converted from many years\n",
        "    bins to single year bins\n",
        "    \"\"\"\n",
        "    variants_filters = pd.DataFrame(\n",
        "        index=pd.MultiIndex.from_product(\n",
        "            [\n",
        "                data[column].unique()\n",
        "                for column in columns_for_subsample\n",
        "            ],\n",
        "            names=columns_for_subsample\n",
        "        )\n",
        "    ).reset_index()\n",
        "\n",
        "    result = []\n",
        "\n",
        "    for variant in variants_filters.iterrows():\n",
        "        if columns_for_subsample_is_string == True:\n",
        "            query_text = ' and '.join(\n",
        "                [f'{column} == \"{variant[1][column]}\"' for column in columns_for_subsample]\n",
        "            )\n",
        "        else:\n",
        "            query_text = ' and '.join(\n",
        "                [f'{column} == {variant[1][column]}' for column in columns_for_subsample]\n",
        "            )\n",
        "        subsample_for_interpolation = (\n",
        "            data.query(query_text)\n",
        "            [[start_age_column] + columns_to_interpolate]\n",
        "            .set_index(start_age_column)\n",
        "            .sort_index()\n",
        "        )\n",
        "\n",
        "        subsample_for_interpolation = (\n",
        "            subsample_for_interpolation\n",
        "            .join(\n",
        "                pd.DataFrame(\n",
        "                    index=pd.Index(range(0, age_max + 1, 1))\n",
        "                ),\n",
        "                how='right'\n",
        "            )\n",
        "            .join(\n",
        "                pd.DataFrame(\n",
        "                    {'dividers': dividers.values()},\n",
        "                    index=dividers.keys()\n",
        "                )\n",
        "            )\n",
        "        )\n",
        "\n",
        "        if divide == True:\n",
        "            divided_subsample_for_interpolation_val = pd.concat(\n",
        "                [\n",
        "                    subsample_for_interpolation[column]\n",
        "                    /\n",
        "                    subsample_for_interpolation['dividers']\n",
        "                    for column in val_columns\n",
        "                ],\n",
        "                axis=1\n",
        "            )\n",
        "            divided_subsample_for_interpolation_val.columns = val_columns\n",
        "\n",
        "            divided_subsample_for_interpolation = divided_subsample_for_interpolation_val.copy()\n",
        "\n",
        "            subsample_for_interpolation[columns_to_interpolate] = (\n",
        "                divided_subsample_for_interpolation[columns_to_interpolate]\n",
        "            )\n",
        "\n",
        "            (\n",
        "                subsample_for_interpolation\n",
        "                .loc[\n",
        "                    next_similar_values.values(),\n",
        "                    columns_to_interpolate\n",
        "                ]\n",
        "            ) = (\n",
        "                subsample_for_interpolation\n",
        "                .loc[\n",
        "                    next_similar_values.keys(),\n",
        "                    columns_to_interpolate\n",
        "                ]\n",
        "                .values\n",
        "            )\n",
        "\n",
        "        subsample_for_interpolation[-1:] = subsample_for_interpolation[-1:].fillna(age_max_value).values\n",
        "\n",
        "        interpolated_data_subsample = pd.concat(\n",
        "            [\n",
        "                subsample_for_interpolation[column].interpolate(method=method)\n",
        "                for column in columns_to_interpolate\n",
        "            ],\n",
        "            axis=1\n",
        "        )\n",
        "\n",
        "        interpolated_data_subsample[variant[1].index] = variant[1].values\n",
        "\n",
        "        result.append(interpolated_data_subsample)\n",
        "\n",
        "    result = pd.concat(result, axis=0)\n",
        "\n",
        "    return result\n",
        "\n",
        "\n",
        "def life_expectancy_from_population_and_deats(\n",
        "    data: pd.DataFrame,\n",
        "    age_group_start_column: str,\n",
        "    deaths_column: str,\n",
        "    population_column: str,\n",
        "    radix: int=100_000,\n",
        "    last_age_group_years: int=5,\n",
        ") -> pd.DataFrame:\n",
        "    \"\"\"\n",
        "    calculating life expectancy by population and deaths\n",
        "    based on guideline\n",
        "    https://www.ons.gov.uk/peoplepopulationandcommunity/healthandsocialcare/healthandlifeexpectancies/methodologies/guidetocalculatingnationallifetables\n",
        "    \"\"\"\n",
        "\n",
        "    life_table = data.copy()\n",
        "    life_table.sort_values(by=age_group_start_column, inplace=True)\n",
        "\n",
        "    # Calculate q_x - likelihood or risk of death having reached age x\n",
        "    life_table['q_x'] = (\n",
        "       life_table[deaths_column].values\n",
        "        /\n",
        "        (\n",
        "            (\n",
        "                0.5\n",
        "                *\n",
        "                life_table[deaths_column].values\n",
        "            )\n",
        "            +\n",
        "            life_table[population_column].values\n",
        "        )\n",
        "    )\n",
        "\n",
        "    # Calculate l_x - number of people surviving to age x\n",
        "    life_table['l_x'] = np.nan\n",
        "    life_table.loc[life_table.index[0], 'l_x'] = radix\n",
        "\n",
        "    for i in range(1, len(life_table.index), 1):\n",
        "        life_table.loc[life_table.index[i], 'l_x'] = (\n",
        "            life_table.loc[life_table.index[i - 1], 'l_x']\n",
        "            -\n",
        "            (\n",
        "                life_table.loc[life_table.index[i - 1], 'l_x']\n",
        "                *\n",
        "                life_table.loc[life_table.index[i - 1], 'q_x']\n",
        "            )\n",
        "        )\n",
        "\n",
        "    # Calculate L_x - the number of person years lived at each individual age group\n",
        "    life_table['L_x'] = np.nan\n",
        "\n",
        "    for i in range(0, len(life_table.index) - 1, 1):\n",
        "\n",
        "        curr_age_group_years = (\n",
        "            life_table.loc[life_table.index[i + 1], age_group_start_column]\n",
        "            -\n",
        "            life_table.loc[life_table.index[i], age_group_start_column]\n",
        "        )\n",
        "\n",
        "        current_age_L_x = (\n",
        "            life_table.loc[life_table.index[i], 'l_x']\n",
        "            +\n",
        "            life_table.loc[life_table.index[i + 1], 'l_x']\n",
        "        )\n",
        "\n",
        "        life_table.loc[life_table.index[i], 'L_x'] = curr_age_group_years * (current_age_L_x / 2)\n",
        "\n",
        "    life_table.loc[life_table.index[-1], 'L_x'] = (\n",
        "        last_age_group_years * (life_table.loc[life_table.index[-1], 'l_x'] / 2)\n",
        "    )\n",
        "\n",
        "    # Calculate T_x - total number of years lived\n",
        "    life_table['T_x'] = np.nan\n",
        "\n",
        "    for i in range(0, len(life_table.index), 1):\n",
        "\n",
        "        curr_age_group_sum = life_table.loc[life_table.index[i]:, 'L_x'].sum()\n",
        "\n",
        "        life_table.loc[life_table.index[i], 'T_x'] = curr_age_group_sum\n",
        "\n",
        "    # Calculate E_x - period expectation of life at exact age x\n",
        "    life_table['E_x'] = (\n",
        "        life_table['T_x'].values\n",
        "        /\n",
        "        life_table['l_x'].values\n",
        "    )\n",
        "\n",
        "    return life_table\n",
        "\n",
        "\n",
        "def life_expectancy_risk_removing_from_deaths(\n",
        "    causes_located: pd.DataFrame,\n",
        "    risks_located: pd.DataFrame,\n",
        "    population_located: pd.DataFrame,\n",
        "    all_risk_factors_id: int=169,\n",
        "    all_causes_id: int=294,\n",
        "    risks_to_remove: list=None,\n",
        "    age_column: str='age_group_start',\n",
        "    sex_column: str='sex_id',\n",
        "    le_estimation: str='val',\n",
        "    population_estimation: str='val',\n",
        "    mortality_estimation: str='val',\n",
        "    risk_impact_deaths_prefix: str='rei_impact_deaths_',\n",
        "    mortality_suffix: str='_deaths',\n",
        "    population_suffix: str='_population',\n",
        "    interpolation_method='linear',\n",
        "    interpolation_age_max: int=111,\n",
        "    age_result_trunc: int=95,\n",
        "    interpolation_age_max_value: int=1,\n",
        "    radix: int=100_000,\n",
        "    le_calculation_last_age_group_years: int=5,\n",
        "    disable_verbocity=True,\n",
        ") -> pd.DataFrame:\n",
        "\n",
        "    mortality = (\n",
        "        causes_located.query('cause_id == @all_causes_id')\n",
        "        .set_index([age_column, sex_column]).sort_index()\n",
        "        [[mortality_estimation]]\n",
        "    )\n",
        "\n",
        "    mortality_columns_names = [mortality_estimation + mortality_suffix]\n",
        "    population_columns_names = [population_estimation + population_suffix]\n",
        "\n",
        "    population_located.columns = [\n",
        "        f'{x}{population_suffix}'\n",
        "        if x == population_estimation\n",
        "        else x\n",
        "        for x in population_located.columns\n",
        "    ]\n",
        "\n",
        "    mortality.columns = [\n",
        "        f'{x}{mortality_suffix}'\n",
        "        if x == mortality_estimation\n",
        "        else x\n",
        "        for x in mortality.columns\n",
        "    ]\n",
        "\n",
        "    life_table = (\n",
        "        population_located\n",
        "        .copy()\n",
        "        .set_index([age_column, sex_column])\n",
        "        [population_columns_names]\n",
        "        .join(\n",
        "            mortality.copy()\n",
        "            [mortality_columns_names],\n",
        "        )\n",
        "        [mortality_columns_names + population_columns_names]\n",
        "        .sort_index()\n",
        "        .reset_index()\n",
        "    )\n",
        "\n",
        "    if risks_to_remove is not None:\n",
        "        risk_factors_impact_to_deaths_by_causes = risk_factors_impact_to_mortality_estimator(\n",
        "            risks_located=risks_located,\n",
        "        )\n",
        "\n",
        "        risks_impact = (\n",
        "            risk_factors_impact_to_deaths_by_causes\n",
        "            .query('rei_id in @risks_to_remove')\n",
        "            .groupby(by=[age_column, sex_column])\n",
        "            [['val']]\n",
        "            .sum()\n",
        "            .join(\n",
        "                pd.DataFrame(\n",
        "                    index=pd.MultiIndex.from_product(\n",
        "                        [risks_located[age_column].unique(), risks_located[sex_column].unique()],\n",
        "                        names=[age_column, sex_column],\n",
        "                    )\n",
        "                )\n",
        "                .sort_index(),\n",
        "                how='outer'\n",
        "            ).fillna(0)\n",
        "        )\n",
        "\n",
        "        risks_impact.columns = [\n",
        "            f'{risk_impact_deaths_prefix}_{x}' for x in risks_impact.columns\n",
        "        ]\n",
        "\n",
        "        life_table_risk_excluded = life_table.copy()\n",
        "\n",
        "        life_table_risk_excluded = (\n",
        "            life_table_risk_excluded\n",
        "            .copy()\n",
        "            .set_index([age_column, sex_column])\n",
        "            .join(\n",
        "                risks_impact,\n",
        "                how='left'\n",
        "            )\n",
        "        )\n",
        "\n",
        "        life_table_risk_excluded[mortality_estimation + mortality_suffix] = (\n",
        "            life_table_risk_excluded[mortality_estimation + mortality_suffix]\n",
        "            -\n",
        "            life_table_risk_excluded[f'{risk_impact_deaths_prefix}_val']\n",
        "        )\n",
        "\n",
        "        life_table_risk_excluded = (\n",
        "            life_table_risk_excluded\n",
        "            [mortality_columns_names + population_columns_names]\n",
        "            .reset_index()\n",
        "        )\n",
        "\n",
        "    if risks_to_remove is None:\n",
        "        life_table_risk_excluded = life_table.copy()\n",
        "\n",
        "    life_table_interpolated = data_interpolate_inside_age_groups(\n",
        "        data=life_table_risk_excluded,\n",
        "        start_age_column=age_column,\n",
        "        columns_to_interpolate=mortality_columns_names + population_columns_names,\n",
        "        val_columns=mortality_columns_names + population_columns_names,\n",
        "        columns_for_subsample=[sex_column],\n",
        "        columns_for_subsample_is_string=False,\n",
        "        age_max=interpolation_age_max,\n",
        "        age_max_value=interpolation_age_max_value,\n",
        "        divide=True,\n",
        "        method=interpolation_method,\n",
        "    )\n",
        "\n",
        "    life_table_interpolated.reset_index(inplace=True)\n",
        "\n",
        "    life_table_interpolated.columns = (\n",
        "        [age_column]\n",
        "        +\n",
        "        mortality_columns_names\n",
        "        +\n",
        "        population_columns_names\n",
        "        +\n",
        "        [sex_column]\n",
        "    )\n",
        "\n",
        "    life_table_interpolated = life_table_interpolated[\n",
        "        [age_column]\n",
        "        +\n",
        "        [sex_column]\n",
        "        +\n",
        "        mortality_columns_names\n",
        "        +\n",
        "        population_columns_names\n",
        "    ].query(f'{age_column} <= {interpolation_age_max}')\n",
        "\n",
        "    result = pd.concat(\n",
        "        [\n",
        "            life_expectancy_from_population_and_deats(\n",
        "                data=life_table_interpolated.query('sex_id == @sex_id'),\n",
        "                age_group_start_column='age_group_start',\n",
        "                deaths_column=f'{mortality_estimation}{mortality_suffix}',\n",
        "                population_column=f'{population_estimation}{population_suffix}',\n",
        "                radix=radix,\n",
        "                last_age_group_years=le_calculation_last_age_group_years,\n",
        "            )\n",
        "            for sex_id in life_table_interpolated[sex_column].unique()\n",
        "        ]\n",
        "    )\n",
        "    result = result.iloc[:, np.where(result.columns.duplicated(keep='first') == False)[0]]\n",
        "\n",
        "    result.columns = (\n",
        "        result.columns.str.replace(\n",
        "            'E_x_val',\n",
        "            f'E_x_{le_estimation}'\n",
        "\n",
        "        )\n",
        "    )\n",
        "\n",
        "    result = (\n",
        "        result\n",
        "        .copy()\n",
        "        [\n",
        "            [age_column, sex_column]\n",
        "            +\n",
        "            [f'E_x_{le_estimation}']\n",
        "        ]\n",
        "    ).reset_index(drop=True)\n",
        "\n",
        "    return result.query(f'{age_column} <= @age_result_trunc')\n"
      ]
    },
    {
      "cell_type": "markdown",
      "metadata": {
        "id": "DZKvZjzgT4kd"
      },
      "source": [
        "### Loading code book"
      ]
    },
    {
      "cell_type": "code",
      "execution_count": null,
      "metadata": {
        "id": "CwKuiTzcT4kd"
      },
      "outputs": [],
      "source": [
        "code_book = pd.read_csv(\n",
        "    os.path.join(\n",
        "        'data', 'IHME_GBD_2019_CODEBOOK_Y2022M06D29.csv'\n",
        "    )\n",
        ").iloc[1:, 1:]\n",
        "\n",
        "\n",
        "measure_name_to_id = { # create mappings\n",
        "    key: int(value)\n",
        "    for key, value in code_book[['measure_name', 'measure_id']].dropna().values\n",
        "}\n",
        "\n",
        "metric_name_to_id = {\n",
        "    key: int(value)\n",
        "    for key, value in code_book[['metric_name', 'metric_id']].dropna().values\n",
        "}\n",
        "\n",
        "sex_name_to_id = {\n",
        "    key: int(value)\n",
        "    for key, value in code_book[['sex_label', 'sex_id']].dropna().values[1:]\n",
        "}\n",
        "\n",
        "age_name_to_id = {\n",
        "    key: int(value)\n",
        "    for key, value in code_book[['age_group_name', 'age_group_id']].dropna().values\n",
        "}\n",
        "\n",
        "cause_name_to_id = {\n",
        "    key: int(value)\n",
        "    for key, value in code_book[['cause_name', 'cause_id']].dropna().values\n",
        "}\n",
        "\n",
        "risks_name_to_id = {\n",
        "    key: int(value)\n",
        "    for key, value in code_book[['rei_name', 'rei_id']].dropna().values\n",
        "}\n",
        "\n",
        "location_name_to_id = {\n",
        "    key: int(value)\n",
        "    for key, value in code_book[['location_name', 'location_id']].dropna().values\n",
        "}\n",
        "\n",
        "name_to_id_mappings = {\n",
        "    'measure_id' :measure_name_to_id,\n",
        "    'metric_id' :metric_name_to_id,\n",
        "    'sex_id' :sex_name_to_id,\n",
        "    'age_id' :age_name_to_id,\n",
        "    'cause_id' :cause_name_to_id,\n",
        "    'risks_id' :risks_name_to_id,\n",
        "    'location_id' :location_name_to_id,\n",
        "}\n",
        "\n",
        "id_to_name_mappings = {\n",
        "    key.replace('_id', '_name'): {v: k for k, v in name_to_id_mappings[key].items()}\n",
        "    for key in name_to_id_mappings.keys()\n",
        "}\n",
        "\n",
        "\n",
        "age_group_name_to_start_age_int = {\n",
        "    '<1 year': 0,\n",
        "    '1 to 4': 1,\n",
        "    '5 to 9': 5,\n",
        "    '10 to 14': 10,\n",
        "    '15 to 19': 15,\n",
        "    '20 to 24': 20,\n",
        "    '25 to 29': 25,\n",
        "    '30 to 34': 30,\n",
        "    '35 to 39': 35,\n",
        "    '40 to 44': 40,\n",
        "    '45 to 49': 45,\n",
        "    '50 to 54': 50,\n",
        "    '55 to 59': 55,\n",
        "    '60 to 64': 60,\n",
        "    '65 to 69': 65,\n",
        "    '70 to 74': 70,\n",
        "    '75 to 79': 75,\n",
        "    '80 to 84': 80,\n",
        "    '85 to 89': 85,\n",
        "    '90 to 94': 90,\n",
        "    '95 plus': 95,\n",
        "    '95 to 99': 95,\n",
        "    '100 to 104': 100,\n",
        "    '105 to 109': 105,\n",
        "    '110 plus': 110,\n",
        "}\n",
        "\n",
        "age_group_id_to_start_age_int = {\n",
        "    '28': 0,\n",
        "    '5': 1,\n",
        "    '6': 5,\n",
        "    '7': 10,\n",
        "    '8': 15,\n",
        "    '9': 20,\n",
        "    '10': 25,\n",
        "    '11': 30,\n",
        "    '12': 35,\n",
        "    '13': 40,\n",
        "    '14': 45,\n",
        "    '15': 50,\n",
        "    '16': 55,\n",
        "    '17': 60,\n",
        "    '18': 65,\n",
        "    '19': 70,\n",
        "    '20': 75,\n",
        "    '30': 80,\n",
        "    '31': 85,\n",
        "    '32': 90,\n",
        "    '235': 95\n",
        "}"
      ]
    },
    {
      "cell_type": "markdown",
      "metadata": {
        "id": "Xctmo8b4T4ke"
      },
      "source": [
        "### Loading lists of risk factors"
      ]
    },
    {
      "cell_type": "code",
      "execution_count": null,
      "metadata": {
        "id": "evRyx9hAT4ke"
      },
      "outputs": [],
      "source": [
        "risks_names_manageable = pd.read_csv(\n",
        "    os.path.join(\n",
        "        'data',\n",
        "        'preprocessed',\n",
        "        'risks_names_manageable.csv'\n",
        "    )\n",
        ")\n",
        "\n",
        "risks_names_manageable = [x[0] for x in risks_names_manageable.values]"
      ]
    },
    {
      "cell_type": "markdown",
      "metadata": {
        "id": "HQLTIoqST4ke"
      },
      "source": [
        "### Loading preporcessed data"
      ]
    },
    {
      "cell_type": "code",
      "execution_count": null,
      "metadata": {
        "id": "j9r_I8owT4ke"
      },
      "outputs": [],
      "source": [
        "risks = pd.read_csv(os.path.join(path_root, 'preprocessed', 'risks.csv'))\n",
        "causes = pd.read_csv(os.path.join(path_root, 'preprocessed', 'causes.csv'))\n",
        "population = pd.read_csv(os.path.join(path_root, 'preprocessed', 'population.csv'))\n",
        "life_expectancy = pd.read_csv(os.path.join(path_root, 'preprocessed', 'life_expectancy.csv'))"
      ]
    },
    {
      "cell_type": "code",
      "execution_count": null,
      "metadata": {
        "id": "vMt065V3T4ke"
      },
      "outputs": [],
      "source": [
        "rei_id, location_id = (113, 374)"
      ]
    },
    {
      "cell_type": "code",
      "execution_count": null,
      "metadata": {
        "id": "UXG9M6zkT4ke",
        "outputId": "48a9d98c-dfce-4f4a-be03-b5129f0c4de6"
      },
      "outputs": [
        {
          "data": {
            "text/html": [
              "<div>\n",
              "<style scoped>\n",
              "    .dataframe tbody tr th:only-of-type {\n",
              "        vertical-align: middle;\n",
              "    }\n",
              "\n",
              "    .dataframe tbody tr th {\n",
              "        vertical-align: top;\n",
              "    }\n",
              "\n",
              "    .dataframe thead th {\n",
              "        text-align: right;\n",
              "    }\n",
              "</style>\n",
              "<table border=\"1\" class=\"dataframe\">\n",
              "  <thead>\n",
              "    <tr style=\"text-align: right;\">\n",
              "      <th></th>\n",
              "      <th>measure_id</th>\n",
              "      <th>location_id</th>\n",
              "      <th>sex_id</th>\n",
              "      <th>cause_id</th>\n",
              "      <th>rei_id</th>\n",
              "      <th>metric_id</th>\n",
              "      <th>year</th>\n",
              "      <th>val</th>\n",
              "      <th>upper</th>\n",
              "      <th>lower</th>\n",
              "      <th>age_group_start</th>\n",
              "    </tr>\n",
              "  </thead>\n",
              "  <tbody>\n",
              "    <tr>\n",
              "      <th>2541757</th>\n",
              "      <td>1</td>\n",
              "      <td>374</td>\n",
              "      <td>1</td>\n",
              "      <td>494</td>\n",
              "      <td>113</td>\n",
              "      <td>1</td>\n",
              "      <td>2019</td>\n",
              "      <td>0.000044</td>\n",
              "      <td>0.000107</td>\n",
              "      <td>0.000008</td>\n",
              "      <td>25</td>\n",
              "    </tr>\n",
              "    <tr>\n",
              "      <th>1715583</th>\n",
              "      <td>1</td>\n",
              "      <td>374</td>\n",
              "      <td>2</td>\n",
              "      <td>493</td>\n",
              "      <td>113</td>\n",
              "      <td>1</td>\n",
              "      <td>2019</td>\n",
              "      <td>0.000616</td>\n",
              "      <td>0.001173</td>\n",
              "      <td>0.000162</td>\n",
              "      <td>25</td>\n",
              "    </tr>\n",
              "    <tr>\n",
              "      <th>2200499</th>\n",
              "      <td>1</td>\n",
              "      <td>374</td>\n",
              "      <td>2</td>\n",
              "      <td>294</td>\n",
              "      <td>113</td>\n",
              "      <td>1</td>\n",
              "      <td>2019</td>\n",
              "      <td>0.000850</td>\n",
              "      <td>0.001517</td>\n",
              "      <td>0.000327</td>\n",
              "      <td>25</td>\n",
              "    </tr>\n",
              "    <tr>\n",
              "      <th>2200457</th>\n",
              "      <td>1</td>\n",
              "      <td>374</td>\n",
              "      <td>1</td>\n",
              "      <td>294</td>\n",
              "      <td>113</td>\n",
              "      <td>1</td>\n",
              "      <td>2019</td>\n",
              "      <td>0.002519</td>\n",
              "      <td>0.004748</td>\n",
              "      <td>0.000897</td>\n",
              "      <td>25</td>\n",
              "    </tr>\n",
              "    <tr>\n",
              "      <th>2541776</th>\n",
              "      <td>1</td>\n",
              "      <td>374</td>\n",
              "      <td>2</td>\n",
              "      <td>494</td>\n",
              "      <td>113</td>\n",
              "      <td>1</td>\n",
              "      <td>2019</td>\n",
              "      <td>0.000080</td>\n",
              "      <td>0.000182</td>\n",
              "      <td>0.000013</td>\n",
              "      <td>25</td>\n",
              "    </tr>\n",
              "    <tr>\n",
              "      <th>...</th>\n",
              "      <td>...</td>\n",
              "      <td>...</td>\n",
              "      <td>...</td>\n",
              "      <td>...</td>\n",
              "      <td>...</td>\n",
              "      <td>...</td>\n",
              "      <td>...</td>\n",
              "      <td>...</td>\n",
              "      <td>...</td>\n",
              "      <td>...</td>\n",
              "      <td>...</td>\n",
              "    </tr>\n",
              "    <tr>\n",
              "      <th>2515144</th>\n",
              "      <td>1</td>\n",
              "      <td>374</td>\n",
              "      <td>1</td>\n",
              "      <td>294</td>\n",
              "      <td>113</td>\n",
              "      <td>1</td>\n",
              "      <td>2019</td>\n",
              "      <td>0.005279</td>\n",
              "      <td>0.007302</td>\n",
              "      <td>0.002320</td>\n",
              "      <td>95</td>\n",
              "    </tr>\n",
              "    <tr>\n",
              "      <th>2226229</th>\n",
              "      <td>1</td>\n",
              "      <td>374</td>\n",
              "      <td>2</td>\n",
              "      <td>494</td>\n",
              "      <td>113</td>\n",
              "      <td>1</td>\n",
              "      <td>2019</td>\n",
              "      <td>0.000539</td>\n",
              "      <td>0.000986</td>\n",
              "      <td>0.000128</td>\n",
              "      <td>95</td>\n",
              "    </tr>\n",
              "    <tr>\n",
              "      <th>2226209</th>\n",
              "      <td>1</td>\n",
              "      <td>374</td>\n",
              "      <td>1</td>\n",
              "      <td>494</td>\n",
              "      <td>113</td>\n",
              "      <td>1</td>\n",
              "      <td>2019</td>\n",
              "      <td>0.000189</td>\n",
              "      <td>0.000341</td>\n",
              "      <td>0.000041</td>\n",
              "      <td>95</td>\n",
              "    </tr>\n",
              "    <tr>\n",
              "      <th>1184083</th>\n",
              "      <td>1</td>\n",
              "      <td>374</td>\n",
              "      <td>1</td>\n",
              "      <td>587</td>\n",
              "      <td>113</td>\n",
              "      <td>1</td>\n",
              "      <td>2019</td>\n",
              "      <td>0.000427</td>\n",
              "      <td>0.000793</td>\n",
              "      <td>0.000119</td>\n",
              "      <td>95</td>\n",
              "    </tr>\n",
              "    <tr>\n",
              "      <th>1164245</th>\n",
              "      <td>1</td>\n",
              "      <td>374</td>\n",
              "      <td>1</td>\n",
              "      <td>441</td>\n",
              "      <td>113</td>\n",
              "      <td>1</td>\n",
              "      <td>2019</td>\n",
              "      <td>0.000279</td>\n",
              "      <td>0.000485</td>\n",
              "      <td>0.000095</td>\n",
              "      <td>95</td>\n",
              "    </tr>\n",
              "  </tbody>\n",
              "</table>\n",
              "<p>150 rows × 11 columns</p>\n",
              "</div>"
            ],
            "text/plain": [
              "         measure_id  location_id  sex_id  cause_id  rei_id  metric_id  year  \\\n",
              "2541757           1          374       1       494     113          1  2019   \n",
              "1715583           1          374       2       493     113          1  2019   \n",
              "2200499           1          374       2       294     113          1  2019   \n",
              "2200457           1          374       1       294     113          1  2019   \n",
              "2541776           1          374       2       494     113          1  2019   \n",
              "...             ...          ...     ...       ...     ...        ...   ...   \n",
              "2515144           1          374       1       294     113          1  2019   \n",
              "2226229           1          374       2       494     113          1  2019   \n",
              "2226209           1          374       1       494     113          1  2019   \n",
              "1184083           1          374       1       587     113          1  2019   \n",
              "1164245           1          374       1       441     113          1  2019   \n",
              "\n",
              "              val     upper     lower  age_group_start  \n",
              "2541757  0.000044  0.000107  0.000008               25  \n",
              "1715583  0.000616  0.001173  0.000162               25  \n",
              "2200499  0.000850  0.001517  0.000327               25  \n",
              "2200457  0.002519  0.004748  0.000897               25  \n",
              "2541776  0.000080  0.000182  0.000013               25  \n",
              "...           ...       ...       ...              ...  \n",
              "2515144  0.005279  0.007302  0.002320               95  \n",
              "2226229  0.000539  0.000986  0.000128               95  \n",
              "2226209  0.000189  0.000341  0.000041               95  \n",
              "1184083  0.000427  0.000793  0.000119               95  \n",
              "1164245  0.000279  0.000485  0.000095               95  \n",
              "\n",
              "[150 rows x 11 columns]"
            ]
          },
          "execution_count": 30,
          "metadata": {},
          "output_type": "execute_result"
        }
      ],
      "source": [
        "(\n",
        "    risks\n",
        "    .query('rei_id == @rei_id and location_id == @location_id')\n",
        "    .sort_values(by='age_group_start')\n",
        ")"
      ]
    },
    {
      "cell_type": "code",
      "execution_count": null,
      "metadata": {
        "id": "LJQ0Mr8IT4kf"
      },
      "outputs": [],
      "source": [
        "risk_factors_impact = risk_factors_impact_to_mortality_estimator(\n",
        "    risks.query('location_id == @location_id')\n",
        ").reset_index().age_group_start.nunique()"
      ]
    },
    {
      "cell_type": "code",
      "execution_count": null,
      "metadata": {
        "id": "dffSnA7VT4kf",
        "outputId": "1ef17979-6657-42cd-d310-3d95bdaf4689"
      },
      "outputs": [
        {
          "data": {
            "text/plain": [
              "Index(['sex_id', 'age_group_start', 'rei_id', 'val'], dtype='object')"
            ]
          },
          "execution_count": 54,
          "metadata": {},
          "output_type": "execute_result"
        }
      ],
      "source": [
        "risk_factors_impact.columns"
      ]
    },
    {
      "cell_type": "code",
      "execution_count": null,
      "metadata": {
        "id": "FG8ldXIiT4kf",
        "outputId": "5eab638e-7898-438e-ebb2-ced87e650c79"
      },
      "outputs": [
        {
          "data": {
            "text/plain": [
              "[99]"
            ]
          },
          "execution_count": 55,
          "metadata": {},
          "output_type": "execute_result"
        }
      ],
      "source": [
        "risks_to_remove = [risks_name_to_id['Smoking']]\n",
        "risks_to_remove"
      ]
    },
    {
      "cell_type": "code",
      "execution_count": null,
      "metadata": {
        "id": "na6kvW56T4kf",
        "outputId": "f6cdb3dc-a134-4711-d531-db99bb1054d1"
      },
      "outputs": [
        {
          "data": {
            "text/plain": [
              "array([1, 2], dtype=int64)"
            ]
          },
          "execution_count": 61,
          "metadata": {},
          "output_type": "execute_result"
        }
      ],
      "source": [
        "risks.sex_id.unique()"
      ]
    },
    {
      "cell_type": "code",
      "execution_count": null,
      "metadata": {
        "id": "xySYrk0qT4kg"
      },
      "outputs": [],
      "source": [
        "pd.DataFrame(\n",
        "    index=pd.MultiIndex.from_product(\n",
        "    [risks.age_group_start.unique(), risks.sex_id.unique()],\n",
        "    names=['age_group_start', 'sex_id'],\n",
        ")\n",
        ").sort_index()"
      ]
    },
    {
      "cell_type": "code",
      "execution_count": null,
      "metadata": {
        "id": "fUfFqVJcT4kg",
        "outputId": "d6ae46e6-7df2-493b-9715-574cdda54da9"
      },
      "outputs": [
        {
          "data": {
            "text/plain": [
              "21"
            ]
          },
          "execution_count": 49,
          "metadata": {},
          "output_type": "execute_result"
        }
      ],
      "source": [
        "risk_factors_impact.age_group_start.nunique()"
      ]
    },
    {
      "cell_type": "markdown",
      "metadata": {
        "id": "CjWAjquWT4kg"
      },
      "source": [
        "### Estimation for one choosen country"
      ]
    },
    {
      "cell_type": "code",
      "execution_count": null,
      "metadata": {
        "id": "2zvY3CEET4kg",
        "outputId": "4d94c0cb-922f-4520-cf78-47267fc4c5cf"
      },
      "outputs": [
        {
          "name": "stdout",
          "output_type": "stream",
          "text": [
            "Country: United Arab Emirates\n",
            "Populatiom: 9.24 M\n"
          ]
        }
      ],
      "source": [
        "country = np.random.choice(population.location_id.unique())\n",
        "print(f'Country: {id_to_name_mappings[\"location_name\"][country]}')\n",
        "print(f'Populatiom: {round(population.query(\"location_id == @country\").val.sum() / 10**6, 2)} M')"
      ]
    },
    {
      "cell_type": "code",
      "execution_count": null,
      "metadata": {
        "id": "z6u6CBGCT4kh"
      },
      "outputs": [],
      "source": [
        "risks_located = risks.query('location_id == @country')\n",
        "causes_located = causes.query('location_id == @country')\n",
        "population_located = population.query('location_id == @country')\n",
        "life_expectancy_located = life_expectancy.query('location_id == @country')"
      ]
    },
    {
      "cell_type": "markdown",
      "metadata": {
        "id": "oQIw9jOAT4kh"
      },
      "source": [
        "#### Example with calculation risk factors impact"
      ]
    },
    {
      "cell_type": "code",
      "execution_count": null,
      "metadata": {
        "id": "rdqEz-Z3T4kh",
        "outputId": "d7301e6a-ec95-43c7-9269-6c12781078d1"
      },
      "outputs": [
        {
          "data": {
            "text/plain": [
              "(294, 169)"
            ]
          },
          "execution_count": 11,
          "metadata": {},
          "output_type": "execute_result"
        }
      ],
      "source": [
        "all_causes_id = cause_name_to_id['All causes']\n",
        "all_risks_id = risks_name_to_id['All risk factors']\n",
        "all_causes_id, all_risks_id"
      ]
    },
    {
      "cell_type": "code",
      "execution_count": null,
      "metadata": {
        "id": "1FrvJbZhT4kh",
        "outputId": "0c190b5b-d64f-4b32-f112-4ad9f47fa991"
      },
      "outputs": [
        {
          "data": {
            "text/plain": [
              "1788286.2644205429"
            ]
          },
          "execution_count": 14,
          "metadata": {},
          "output_type": "execute_result"
        }
      ],
      "source": [
        "# sum all deaths in year\n",
        "causes_located.query('cause_id == @all_causes_id').val.sum()"
      ]
    },
    {
      "cell_type": "code",
      "execution_count": null,
      "metadata": {
        "id": "YP1U3ZPxT4ki",
        "outputId": "843b4912-51f1-48bd-8939-4d19cfa012fc"
      },
      "outputs": [
        {
          "data": {
            "text/plain": [
              "1788286.2644205436"
            ]
          },
          "execution_count": 15,
          "metadata": {},
          "output_type": "execute_result"
        }
      ],
      "source": [
        "# sum of deaths detailed attributed by causes\n",
        "causes_located.query('cause_id != @all_causes_id').val.sum()\n"
      ]
    },
    {
      "cell_type": "code",
      "execution_count": null,
      "metadata": {
        "id": "NxnZUgZ-T4ki",
        "outputId": "f29e096c-8c4a-4f90-e926-3caf29d478ea"
      },
      "outputs": [
        {
          "data": {
            "text/plain": [
              "1243375.8309223247"
            ]
          },
          "execution_count": 16,
          "metadata": {},
          "output_type": "execute_result"
        }
      ],
      "source": [
        "# how many all caused deaths have attribution at least one risk factor\n",
        "risks_located.query(\n",
        "    'rei_id == @all_risks_id'\n",
        "    ' and cause_id == @all_causes_id'\n",
        ").val.sum()"
      ]
    },
    {
      "cell_type": "code",
      "execution_count": null,
      "metadata": {
        "id": "JpVadh9AT4ki",
        "outputId": "b9c8c714-7a0a-4c67-d5b7-ed97bc6e7a2f"
      },
      "outputs": [
        {
          "data": {
            "text/plain": [
              "1243375.8309223242"
            ]
          },
          "execution_count": 17,
          "metadata": {},
          "output_type": "execute_result"
        }
      ],
      "source": [
        "# sum of deaths detailed attributied by risk facotrs\n",
        "# and have attribution at least one risk factor\n",
        "risks_located.query(\n",
        "    'rei_id == @all_risks_id'\n",
        "    ' and cause_id != @all_causes_id'\n",
        ").val.sum()"
      ]
    },
    {
      "cell_type": "code",
      "execution_count": null,
      "metadata": {
        "id": "4bUUviK0T4ki",
        "outputId": "10a7da5e-b927-461a-97b6-2d6b99a1327c"
      },
      "outputs": [
        {
          "data": {
            "text/plain": [
              "2841443.9044831092"
            ]
          },
          "execution_count": 18,
          "metadata": {},
          "output_type": "execute_result"
        }
      ],
      "source": [
        "# sum of deaths detailed attributed\n",
        "# to each risk factor by each cause\n",
        "# value more than two time larger because one death might be attributed more than one risk factor\n",
        "risks_located.query(\n",
        "    'rei_id != @all_risks_id'\n",
        "    ' and cause_id != @all_causes_id'\n",
        ").val.sum()"
      ]
    },
    {
      "cell_type": "code",
      "execution_count": null,
      "metadata": {
        "id": "aFLiwvTxT4kj"
      },
      "outputs": [],
      "source": [
        "# Lets estimate impact of each risk factor in deaths attributed by all causes\n",
        "# as their share in sum of most detailed mortality multiplied by\n",
        "# sum of deaths attributed at least one risk factor"
      ]
    },
    {
      "cell_type": "code",
      "execution_count": null,
      "metadata": {
        "id": "LFu8_rnBT4kj"
      },
      "outputs": [],
      "source": [
        "# create groupped dataframe with summarized risk impact by\n",
        "all_causes_risk_detailed = (\n",
        "    (\n",
        "        risks_located\n",
        "        .query(\n",
        "            'cause_id == @all_causes_id'\n",
        "            ' and rei_id != @all_risks_id'\n",
        "        )\n",
        "        .groupby(by=['sex_id', 'age_group_start', 'rei_id'])\n",
        "    )\n",
        "    [['val']]\n",
        "    .sum()\n",
        "    .reset_index()\n",
        ")"
      ]
    },
    {
      "cell_type": "code",
      "execution_count": null,
      "metadata": {
        "id": "_sZDw2-NT4kj",
        "outputId": "5f6e9b31-8140-4713-c350-237631b0548e"
      },
      "outputs": [
        {
          "data": {
            "text/plain": [
              "2841443.904483109"
            ]
          },
          "execution_count": 25,
          "metadata": {},
          "output_type": "execute_result"
        }
      ],
      "source": [
        "# check that summary all risks impact equal\n",
        "# sum of deaths most detailed attributed\n",
        "# to each risk factor and each cause\n",
        "all_causes_risk_detailed.val.sum()"
      ]
    },
    {
      "cell_type": "code",
      "execution_count": null,
      "metadata": {
        "id": "ZARwYyJ_T4kj"
      },
      "outputs": [],
      "source": [
        "# calculate shares of impact in most detailed attribution\n",
        "all_causes_risk_detailed_share = (\n",
        "    all_causes_risk_detailed[['val']]\n",
        "    /\n",
        "    all_causes_risk_detailed.val.sum()\n",
        ")\n",
        "\n",
        "\n",
        "all_causes_risk_detailed_share = pd.concat(\n",
        "    [\n",
        "        all_causes_risk_detailed[['sex_id', 'age_group_start', 'rei_id']],\n",
        "        all_causes_risk_detailed_share\n",
        "    ],\n",
        "    axis=1\n",
        ")"
      ]
    },
    {
      "cell_type": "code",
      "execution_count": null,
      "metadata": {
        "id": "OdayrAOOT4kj",
        "outputId": "945789cd-ccdd-46ac-9ea4-a0c3607afa5d"
      },
      "outputs": [
        {
          "data": {
            "text/plain": [
              "1243375.8309223247"
            ]
          },
          "execution_count": 29,
          "metadata": {},
          "output_type": "execute_result"
        }
      ],
      "source": [
        "# how many all caused deaths have attribution at least one risk factor\n",
        "at_least_one_risk_factor_deaths_sum = risks_located.query(\n",
        "    'rei_id == @all_risks_id'\n",
        "    ' and cause_id == @all_causes_id'\n",
        ").val.sum()\n",
        "\n",
        "at_least_one_risk_factor_deaths_sum"
      ]
    },
    {
      "cell_type": "code",
      "execution_count": null,
      "metadata": {
        "id": "fofViqRzT4kk"
      },
      "outputs": [],
      "source": [
        "# now we are just multiply obtained most detailed sum's shares\n",
        "# by the sum of deaths attributed at least one risk_factor\n",
        "# and thus gained our estimation of the each risk factor impact to the mortality\n",
        "risk_factors_impact = (\n",
        "    all_causes_risk_detailed_share[['val']]\n",
        "    *\n",
        "    at_least_one_risk_factor_deaths_sum\n",
        ")\n",
        "\n",
        "risk_factors_impact = pd.concat(\n",
        "    [\n",
        "        all_causes_risk_detailed[['sex_id', 'age_group_start', 'rei_id']],\n",
        "        risk_factors_impact\n",
        "    ],\n",
        "    axis=1\n",
        ")"
      ]
    },
    {
      "cell_type": "code",
      "execution_count": null,
      "metadata": {
        "id": "HBaGD_luT4kk",
        "outputId": "34b9e88b-5081-41b2-a714-d1eade341eb8"
      },
      "outputs": [
        {
          "data": {
            "text/plain": [
              "1243375.8309223247"
            ]
          },
          "execution_count": 31,
          "metadata": {},
          "output_type": "execute_result"
        }
      ],
      "source": [
        "# Check that sum equal sum of deaths attributed at least one risk factor\n",
        "risk_factors_impact.val.sum()"
      ]
    },
    {
      "cell_type": "code",
      "execution_count": null,
      "metadata": {
        "id": "Lliet3TaT4kk",
        "outputId": "d05c9716-c5ae-475f-cde1-e5bce50e2d2d"
      },
      "outputs": [
        {
          "data": {
            "text/plain": [
              "1243375.8309223242"
            ]
          },
          "execution_count": 33,
          "metadata": {},
          "output_type": "execute_result"
        }
      ],
      "source": [
        "risks_located.query(\n",
        "    'rei_id == @all_risks_id'\n",
        "    ' and cause_id != @all_causes_id'\n",
        ").val.sum()"
      ]
    },
    {
      "cell_type": "code",
      "execution_count": null,
      "metadata": {
        "id": "K4hjpyRaT4kk",
        "outputId": "8d7b7820-46dd-4eca-93de-50372107005d"
      },
      "outputs": [
        {
          "data": {
            "text/html": [
              "<div>\n",
              "<style scoped>\n",
              "    .dataframe tbody tr th:only-of-type {\n",
              "        vertical-align: middle;\n",
              "    }\n",
              "\n",
              "    .dataframe tbody tr th {\n",
              "        vertical-align: top;\n",
              "    }\n",
              "\n",
              "    .dataframe thead th {\n",
              "        text-align: right;\n",
              "    }\n",
              "</style>\n",
              "<table border=\"1\" class=\"dataframe\">\n",
              "  <thead>\n",
              "    <tr style=\"text-align: right;\">\n",
              "      <th></th>\n",
              "      <th>sex_id</th>\n",
              "      <th>age_group_start</th>\n",
              "      <th>rei_id</th>\n",
              "      <th>val</th>\n",
              "    </tr>\n",
              "  </thead>\n",
              "  <tbody>\n",
              "    <tr>\n",
              "      <th>0</th>\n",
              "      <td>1</td>\n",
              "      <td>0</td>\n",
              "      <td>83</td>\n",
              "      <td>7.937257</td>\n",
              "    </tr>\n",
              "    <tr>\n",
              "      <th>1</th>\n",
              "      <td>1</td>\n",
              "      <td>0</td>\n",
              "      <td>84</td>\n",
              "      <td>6.244888</td>\n",
              "    </tr>\n",
              "    <tr>\n",
              "      <th>2</th>\n",
              "      <td>1</td>\n",
              "      <td>0</td>\n",
              "      <td>88</td>\n",
              "      <td>0.000000</td>\n",
              "    </tr>\n",
              "    <tr>\n",
              "      <th>3</th>\n",
              "      <td>1</td>\n",
              "      <td>0</td>\n",
              "      <td>90</td>\n",
              "      <td>0.000000</td>\n",
              "    </tr>\n",
              "    <tr>\n",
              "      <th>4</th>\n",
              "      <td>1</td>\n",
              "      <td>0</td>\n",
              "      <td>91</td>\n",
              "      <td>0.000000</td>\n",
              "    </tr>\n",
              "    <tr>\n",
              "      <th>...</th>\n",
              "      <td>...</td>\n",
              "      <td>...</td>\n",
              "      <td>...</td>\n",
              "      <td>...</td>\n",
              "    </tr>\n",
              "    <tr>\n",
              "      <th>1561</th>\n",
              "      <td>2</td>\n",
              "      <td>95</td>\n",
              "      <td>337</td>\n",
              "      <td>3.723342</td>\n",
              "    </tr>\n",
              "    <tr>\n",
              "      <th>1562</th>\n",
              "      <td>2</td>\n",
              "      <td>95</td>\n",
              "      <td>338</td>\n",
              "      <td>942.631284</td>\n",
              "    </tr>\n",
              "    <tr>\n",
              "      <th>1563</th>\n",
              "      <td>2</td>\n",
              "      <td>95</td>\n",
              "      <td>341</td>\n",
              "      <td>910.115468</td>\n",
              "    </tr>\n",
              "    <tr>\n",
              "      <th>1564</th>\n",
              "      <td>2</td>\n",
              "      <td>95</td>\n",
              "      <td>367</td>\n",
              "      <td>3391.127781</td>\n",
              "    </tr>\n",
              "    <tr>\n",
              "      <th>1565</th>\n",
              "      <td>2</td>\n",
              "      <td>95</td>\n",
              "      <td>380</td>\n",
              "      <td>319.742580</td>\n",
              "    </tr>\n",
              "  </tbody>\n",
              "</table>\n",
              "<p>1566 rows × 4 columns</p>\n",
              "</div>"
            ],
            "text/plain": [
              "      sex_id  age_group_start  rei_id          val\n",
              "0          1                0      83     7.937257\n",
              "1          1                0      84     6.244888\n",
              "2          1                0      88     0.000000\n",
              "3          1                0      90     0.000000\n",
              "4          1                0      91     0.000000\n",
              "...      ...              ...     ...          ...\n",
              "1561       2               95     337     3.723342\n",
              "1562       2               95     338   942.631284\n",
              "1563       2               95     341   910.115468\n",
              "1564       2               95     367  3391.127781\n",
              "1565       2               95     380   319.742580\n",
              "\n",
              "[1566 rows x 4 columns]"
            ]
          },
          "execution_count": 34,
          "metadata": {},
          "output_type": "execute_result"
        }
      ],
      "source": [
        "risk_factors_impact"
      ]
    },
    {
      "cell_type": "markdown",
      "metadata": {
        "id": "gFfhJ0lwT4kl"
      },
      "source": [
        "#### Example with calculation life expectancy from deaths and population"
      ]
    },
    {
      "cell_type": "code",
      "execution_count": null,
      "metadata": {
        "id": "G10NcUSsT4kl"
      },
      "outputs": [],
      "source": [
        "# for estimation life expectancy we will using life tables approach"
      ]
    },
    {
      "cell_type": "code",
      "execution_count": null,
      "metadata": {
        "id": "Pi83ZsjzT4kl"
      },
      "outputs": [],
      "source": [
        "life_expectancy_located_interpolated = data_interpolate_inside_age_groups(\n",
        "    life_expectancy_located[['age_group_start', 'sex_id', 'val', 'upper', 'lower']],\n",
        "    columns_to_interpolate=['val', 'upper', 'lower'],\n",
        "    columns_for_subsample=['sex_id'],\n",
        "    columns_for_subsample_is_string=False,\n",
        "    val_columns=['val'],\n",
        "    start_age_column='age_group_start',\n",
        "    age_max=111,\n",
        "    divide=False,\n",
        "    age_max_value=1,\n",
        "    next_similar_values = {\n",
        "        1: 4,\n",
        "        5: 9,\n",
        "        10: 14,\n",
        "        15: 19,\n",
        "        20: 24,\n",
        "        25: 29,\n",
        "        30: 34,\n",
        "        35: 39,\n",
        "        40: 44,\n",
        "        45: 49,\n",
        "        50: 54,\n",
        "        55: 59,\n",
        "        60: 64,\n",
        "        65: 69,\n",
        "        70: 74,\n",
        "        75: 79,\n",
        "        80: 84,\n",
        "        85: 89,\n",
        "        90: 94,\n",
        "        95: 99,\n",
        "        100: 104,\n",
        "        105: 109,\n",
        "        110: 111,\n",
        "    }\n",
        ")\n",
        "\n",
        "life_expectancy_located_interpolated.reset_index(inplace=True)\n",
        "\n",
        "life_expectancy_located_interpolated.columns = (\n",
        "    ['age_group_start']\n",
        "    +\n",
        "    list(life_expectancy_located_interpolated.columns[1:])\n",
        ")"
      ]
    },
    {
      "cell_type": "code",
      "execution_count": null,
      "metadata": {
        "id": "vjkDH8CsT4kl",
        "outputId": "bdf5cf8d-3446-408d-aea2-4753b5fafeb8"
      },
      "outputs": [
        {
          "data": {
            "text/html": [
              "<div>\n",
              "<style scoped>\n",
              "    .dataframe tbody tr th:only-of-type {\n",
              "        vertical-align: middle;\n",
              "    }\n",
              "\n",
              "    .dataframe tbody tr th {\n",
              "        vertical-align: top;\n",
              "    }\n",
              "\n",
              "    .dataframe thead th {\n",
              "        text-align: right;\n",
              "    }\n",
              "</style>\n",
              "<table border=\"1\" class=\"dataframe\">\n",
              "  <thead>\n",
              "    <tr style=\"text-align: right;\">\n",
              "      <th></th>\n",
              "      <th>age_group_start</th>\n",
              "      <th>val</th>\n",
              "      <th>upper</th>\n",
              "      <th>lower</th>\n",
              "      <th>sex_id</th>\n",
              "    </tr>\n",
              "  </thead>\n",
              "  <tbody>\n",
              "    <tr>\n",
              "      <th>0</th>\n",
              "      <td>0</td>\n",
              "      <td>67.955377</td>\n",
              "      <td>70.436108</td>\n",
              "      <td>65.558052</td>\n",
              "      <td>1</td>\n",
              "    </tr>\n",
              "    <tr>\n",
              "      <th>1</th>\n",
              "      <td>1</td>\n",
              "      <td>67.347908</td>\n",
              "      <td>69.833444</td>\n",
              "      <td>64.956161</td>\n",
              "      <td>1</td>\n",
              "    </tr>\n",
              "    <tr>\n",
              "      <th>2</th>\n",
              "      <td>2</td>\n",
              "      <td>66.371871</td>\n",
              "      <td>68.858778</td>\n",
              "      <td>63.980663</td>\n",
              "      <td>1</td>\n",
              "    </tr>\n",
              "    <tr>\n",
              "      <th>3</th>\n",
              "      <td>3</td>\n",
              "      <td>65.395833</td>\n",
              "      <td>67.884112</td>\n",
              "      <td>63.005166</td>\n",
              "      <td>1</td>\n",
              "    </tr>\n",
              "    <tr>\n",
              "      <th>4</th>\n",
              "      <td>4</td>\n",
              "      <td>64.419796</td>\n",
              "      <td>66.909447</td>\n",
              "      <td>62.029668</td>\n",
              "      <td>1</td>\n",
              "    </tr>\n",
              "    <tr>\n",
              "      <th>...</th>\n",
              "      <td>...</td>\n",
              "      <td>...</td>\n",
              "      <td>...</td>\n",
              "      <td>...</td>\n",
              "      <td>...</td>\n",
              "    </tr>\n",
              "    <tr>\n",
              "      <th>219</th>\n",
              "      <td>107</td>\n",
              "      <td>1.511234</td>\n",
              "      <td>1.583642</td>\n",
              "      <td>1.456360</td>\n",
              "      <td>2</td>\n",
              "    </tr>\n",
              "    <tr>\n",
              "      <th>220</th>\n",
              "      <td>108</td>\n",
              "      <td>1.450179</td>\n",
              "      <td>1.514746</td>\n",
              "      <td>1.400827</td>\n",
              "      <td>2</td>\n",
              "    </tr>\n",
              "    <tr>\n",
              "      <th>221</th>\n",
              "      <td>109</td>\n",
              "      <td>1.389125</td>\n",
              "      <td>1.445850</td>\n",
              "      <td>1.345295</td>\n",
              "      <td>2</td>\n",
              "    </tr>\n",
              "    <tr>\n",
              "      <th>222</th>\n",
              "      <td>110</td>\n",
              "      <td>1.328070</td>\n",
              "      <td>1.376954</td>\n",
              "      <td>1.289763</td>\n",
              "      <td>2</td>\n",
              "    </tr>\n",
              "    <tr>\n",
              "      <th>223</th>\n",
              "      <td>111</td>\n",
              "      <td>1.000000</td>\n",
              "      <td>1.000000</td>\n",
              "      <td>1.000000</td>\n",
              "      <td>2</td>\n",
              "    </tr>\n",
              "  </tbody>\n",
              "</table>\n",
              "<p>224 rows × 5 columns</p>\n",
              "</div>"
            ],
            "text/plain": [
              "     age_group_start        val      upper      lower  sex_id\n",
              "0                  0  67.955377  70.436108  65.558052       1\n",
              "1                  1  67.347908  69.833444  64.956161       1\n",
              "2                  2  66.371871  68.858778  63.980663       1\n",
              "3                  3  65.395833  67.884112  63.005166       1\n",
              "4                  4  64.419796  66.909447  62.029668       1\n",
              "..               ...        ...        ...        ...     ...\n",
              "219              107   1.511234   1.583642   1.456360       2\n",
              "220              108   1.450179   1.514746   1.400827       2\n",
              "221              109   1.389125   1.445850   1.345295       2\n",
              "222              110   1.328070   1.376954   1.289763       2\n",
              "223              111   1.000000   1.000000   1.000000       2\n",
              "\n",
              "[224 rows x 5 columns]"
            ]
          },
          "execution_count": 14,
          "metadata": {},
          "output_type": "execute_result"
        }
      ],
      "source": [
        "life_expectancy_located_interpolated"
      ]
    },
    {
      "cell_type": "code",
      "execution_count": null,
      "metadata": {
        "id": "TNGlYkZ3T4km"
      },
      "outputs": [],
      "source": [
        "le_calculated = life_expectancy_risk_removing_from_deaths(\n",
        "    causes_located=causes_located,\n",
        "    risks_located=risks_located,\n",
        "    population_located=population_located,\n",
        "    all_risk_factors_id=169,\n",
        "    all_causes_id=294,\n",
        "    risks_to_remove=None,\n",
        "    age_column='age_group_start',\n",
        "    sex_column='sex_id',\n",
        "    le_estimation='val',\n",
        "    risk_impact_deaths_prefix='rei_impact_deaths_',\n",
        "    mortality_suffix='_deaths',\n",
        "    population_suffix='_population',\n",
        "    interpolation_method='linear',\n",
        "    interpolation_age_max=111,\n",
        "    age_result_trunc=95,\n",
        "    interpolation_age_max_value=1,\n",
        "    radix=100_000,\n",
        "    le_calculation_last_age_group_years=5,\n",
        "    disable_verbocity=True,\n",
        ")"
      ]
    },
    {
      "cell_type": "code",
      "execution_count": null,
      "metadata": {
        "id": "bBc1fuwPT4km"
      },
      "outputs": [],
      "source": [
        "le_calculated_risk_excluded = life_expectancy_risk_removing_from_deaths(\n",
        "    causes_located=causes_located,\n",
        "    risks_located=risks_located,\n",
        "    population_located=population_located,\n",
        "    all_risk_factors_id=169,\n",
        "    all_causes_id=294,\n",
        "    risks_to_remove=[risks_name_to_id[x] for x in risks_names_manageable],\n",
        "    age_column='age_group_start',\n",
        "    sex_column='sex_id',\n",
        "    le_estimation='val',\n",
        "    risk_impact_deaths_prefix='rei_impact_deaths_',\n",
        "    mortality_suffix='_deaths',\n",
        "    population_suffix='_population',\n",
        "    interpolation_method='linear',\n",
        "    interpolation_age_max=111,\n",
        "    age_result_trunc=95,\n",
        "    interpolation_age_max_value=1,\n",
        "    radix=100_000,\n",
        "    le_calculation_last_age_group_years=5,\n",
        "    disable_verbocity=True,\n",
        ")"
      ]
    },
    {
      "cell_type": "code",
      "execution_count": null,
      "metadata": {
        "id": "OSsMJh0FT4km",
        "outputId": "fb02e74f-40cd-4c99-8bc2-0887a5d7ca92"
      },
      "outputs": [
        {
          "data": {
            "application/vnd.plotly.v1+json": {
              "config": {
                "plotlyServerURL": "https://plot.ly"
              },
              "data": [
                {
                  "hovertemplate": "variable=val<br>age_group_start=%{x}<br>value=%{y}<extra></extra>",
                  "legendgroup": "val",
                  "line": {
                    "color": "#636efa",
                    "dash": "solid"
                  },
                  "marker": {
                    "symbol": "circle"
                  },
                  "mode": "lines",
                  "name": "val",
                  "orientation": "v",
                  "showlegend": true,
                  "type": "scatter",
                  "x": [
                    0,
                    1,
                    2,
                    3,
                    4,
                    5,
                    6,
                    7,
                    8,
                    9,
                    10,
                    11,
                    12,
                    13,
                    14,
                    15,
                    16,
                    17,
                    18,
                    19,
                    20,
                    21,
                    22,
                    23,
                    24,
                    25,
                    26,
                    27,
                    28,
                    29,
                    30,
                    31,
                    32,
                    33,
                    34,
                    35,
                    36,
                    37,
                    38,
                    39,
                    40,
                    41,
                    42,
                    43,
                    44,
                    45,
                    46,
                    47,
                    48,
                    49,
                    50,
                    51,
                    52,
                    53,
                    54,
                    55,
                    56,
                    57,
                    58,
                    59,
                    60,
                    61,
                    62,
                    63,
                    64,
                    65,
                    66,
                    67,
                    68,
                    69,
                    70,
                    71,
                    72,
                    73,
                    74,
                    75,
                    76,
                    77,
                    78,
                    79,
                    80,
                    81,
                    82,
                    83,
                    84,
                    85,
                    86,
                    87,
                    88,
                    89,
                    90,
                    91,
                    92,
                    93,
                    94,
                    95
                  ],
                  "xaxis": "x",
                  "y": [
                    67.95537728279548,
                    67.3479082056667,
                    66.371870782987,
                    65.39583336030731,
                    64.41979593762761,
                    63.44375851494792,
                    62.45726105700846,
                    61.470763599068995,
                    60.48426614112953,
                    59.49776868319007,
                    58.5112712252506,
                    57.526339920697225,
                    56.54140861614384,
                    55.55647731159046,
                    54.57154600703708,
                    53.5866147024837,
                    52.6283050891809,
                    51.669995475878096,
                    50.711685862575294,
                    49.75337624927249,
                    48.79506663596969,
                    47.88320272793079,
                    46.971338819891876,
                    46.05947491185297,
                    45.14761100381406,
                    44.23574709577516,
                    43.36525513912206,
                    42.494763182468965,
                    41.62427122581587,
                    40.75377926916277,
                    39.88328731250967,
                    39.057896708442925,
                    38.23250610437617,
                    37.40711550030942,
                    36.58172489624267,
                    35.75633429217592,
                    34.966188881096365,
                    34.176043470016815,
                    33.38589805893726,
                    32.59575264785771,
                    31.80560723677815,
                    31.025838229143538,
                    30.24606922150893,
                    29.466300213874316,
                    28.686531206239707,
                    27.906762198605094,
                    27.148368002382714,
                    26.389973806160334,
                    25.631579609937955,
                    24.873185413715575,
                    24.114791217493195,
                    23.40422414663699,
                    22.693657075780788,
                    21.983090004924584,
                    21.272522934068377,
                    20.561955863212173,
                    19.895345683272453,
                    19.228735503332732,
                    18.56212532339301,
                    17.895515143453288,
                    17.228904963513568,
                    16.64794912970549,
                    16.066993295897415,
                    15.486037462089339,
                    14.90508162828126,
                    14.324125794473185,
                    13.781787219699313,
                    13.239448644925442,
                    12.69711007015157,
                    12.154771495377698,
                    11.612432920603828,
                    11.139206397496132,
                    10.665979874388437,
                    10.192753351280741,
                    9.719526828173047,
                    9.24630030506535,
                    8.86846744353077,
                    8.490634581996192,
                    8.112801720461611,
                    7.734968858927032,
                    7.357135997392453,
                    7.033387595548077,
                    6.709639193703701,
                    6.385890791859325,
                    6.062142390014949,
                    5.738393988170573,
                    5.431443598281069,
                    5.124493208391565,
                    4.81754281850206,
                    4.510592428612555,
                    4.203642038723051,
                    3.9774226024945674,
                    3.751203166266084,
                    3.524983730037601,
                    3.2987642938091173,
                    3.072544857580634
                  ],
                  "yaxis": "y"
                },
                {
                  "hovertemplate": "variable=E_x_val<br>age_group_start=%{x}<br>value=%{y}<extra></extra>",
                  "legendgroup": "E_x_val",
                  "line": {
                    "color": "#EF553B",
                    "dash": "solid"
                  },
                  "marker": {
                    "symbol": "circle"
                  },
                  "mode": "lines",
                  "name": "E_x_val",
                  "orientation": "v",
                  "showlegend": true,
                  "type": "scatter",
                  "x": [
                    0,
                    1,
                    2,
                    3,
                    4,
                    5,
                    6,
                    7,
                    8,
                    9,
                    10,
                    11,
                    12,
                    13,
                    14,
                    15,
                    16,
                    17,
                    18,
                    19,
                    20,
                    21,
                    22,
                    23,
                    24,
                    25,
                    26,
                    27,
                    28,
                    29,
                    30,
                    31,
                    32,
                    33,
                    34,
                    35,
                    36,
                    37,
                    38,
                    39,
                    40,
                    41,
                    42,
                    43,
                    44,
                    45,
                    46,
                    47,
                    48,
                    49,
                    50,
                    51,
                    52,
                    53,
                    54,
                    55,
                    56,
                    57,
                    58,
                    59,
                    60,
                    61,
                    62,
                    63,
                    64,
                    65,
                    66,
                    67,
                    68,
                    69,
                    70,
                    71,
                    72,
                    73,
                    74,
                    75,
                    76,
                    77,
                    78,
                    79,
                    80,
                    81,
                    82,
                    83,
                    84,
                    85,
                    86,
                    87,
                    88,
                    89,
                    90,
                    91,
                    92,
                    93,
                    94,
                    95
                  ],
                  "xaxis": "x",
                  "y": [
                    67.895510665309,
                    67.28210053912757,
                    66.30611783025816,
                    65.32978412223376,
                    64.35309928882222,
                    63.37606320374598,
                    62.38996579107003,
                    61.40365034143867,
                    60.41711680664153,
                    59.43036513845758,
                    58.44339528865513,
                    57.45902837436134,
                    56.47439587859339,
                    55.48949772969761,
                    54.50433385600098,
                    53.51890418581116,
                    52.56253893436501,
                    51.60538659088229,
                    50.64744650758342,
                    49.68871803615571,
                    48.72920052775288,
                    47.82109025481952,
                    46.91124978515444,
                    45.999675822262915,
                    45.0863650633695,
                    44.17131419940606,
                    43.30642918263181,
                    42.438868292079185,
                    41.56862324884366,
                    40.69568574840653,
                    39.82004746055573,
                    39.002523091107186,
                    38.1812047721484,
                    37.35607489680006,
                    36.52711577647326,
                    35.69430964049027,
                    34.91399958643098,
                    34.12881868036909,
                    33.33873651746856,
                    32.5437225031003,
                    31.74374585165738,
                    30.975372377372718,
                    30.201302541353922,
                    29.42149411343807,
                    28.63590455038755,
                    27.84449099356906,
                    27.100488311645666,
                    26.349520325769127,
                    25.59152182722402,
                    24.82642699681524,
                    24.054169399152716,
                    23.362244121012765,
                    22.661268866030134,
                    21.951125265815282,
                    21.231693403789567,
                    20.50285179493581,
                    19.860413378448552,
                    19.206491034576167,
                    18.540879482026625,
                    17.863369769995924,
                    17.173749212573654,
                    16.623864677743487,
                    16.059135759084032,
                    15.479161725683038,
                    14.883531028714511,
                    14.271821009404176,
                    13.767679691196266,
                    13.245386608649218,
                    12.704288201864797,
                    12.14370737931817,
                    11.56294267059439,
                    11.140382989105845,
                    10.695767422096228,
                    10.227944742632559,
                    9.735703634448798,
                    9.21776955552864,
                    8.895387032484058,
                    8.547946261399247,
                    8.17349950705297,
                    7.769947640060838,
                    7.33502836926317,
                    7.074445907954715,
                    6.785673477013744,
                    6.465661468328145,
                    6.111030365319816,
                    5.718035053245571,
                    5.48942477475966,
                    5.227018705855129,
                    4.925820765613901,
                    4.5800962951994455,
                    4.183262872807419,
                    4.039862757325506,
                    3.8631127217853325,
                    3.645256725237039,
                    3.3767349391621346,
                    3.045764248709401
                  ],
                  "yaxis": "y"
                },
                {
                  "hovertemplate": "variable=E_x_val_rei_excluded<br>age_group_start=%{x}<br>value=%{y}<extra></extra>",
                  "legendgroup": "E_x_val_rei_excluded",
                  "line": {
                    "color": "#00cc96",
                    "dash": "solid"
                  },
                  "marker": {
                    "symbol": "circle"
                  },
                  "mode": "lines",
                  "name": "E_x_val_rei_excluded",
                  "orientation": "v",
                  "showlegend": true,
                  "type": "scatter",
                  "x": [
                    0,
                    1,
                    2,
                    3,
                    4,
                    5,
                    6,
                    7,
                    8,
                    9,
                    10,
                    11,
                    12,
                    13,
                    14,
                    15,
                    16,
                    17,
                    18,
                    19,
                    20,
                    21,
                    22,
                    23,
                    24,
                    25,
                    26,
                    27,
                    28,
                    29,
                    30,
                    31,
                    32,
                    33,
                    34,
                    35,
                    36,
                    37,
                    38,
                    39,
                    40,
                    41,
                    42,
                    43,
                    44,
                    45,
                    46,
                    47,
                    48,
                    49,
                    50,
                    51,
                    52,
                    53,
                    54,
                    55,
                    56,
                    57,
                    58,
                    59,
                    60,
                    61,
                    62,
                    63,
                    64,
                    65,
                    66,
                    67,
                    68,
                    69,
                    70,
                    71,
                    72,
                    73,
                    74,
                    75,
                    76,
                    77,
                    78,
                    79,
                    80,
                    81,
                    82,
                    83,
                    84,
                    85,
                    86,
                    87,
                    88,
                    89,
                    90,
                    91,
                    92,
                    93,
                    94,
                    95
                  ],
                  "xaxis": "x",
                  "y": [
                    82.00268981183139,
                    81.46588168913654,
                    80.49478302176563,
                    79.52333771399486,
                    78.5515456420886,
                    77.57940668226694,
                    76.59607753206254,
                    75.61253570595329,
                    74.6287811579413,
                    73.64481384201879,
                    72.66063371216796,
                    71.67969435149767,
                    70.6984958837437,
                    69.71703824046503,
                    68.73532135320255,
                    67.75334515347916,
                    66.80393823553274,
                    65.85381710148316,
                    64.90298121404268,
                    63.951430035519465,
                    62.999163027817154,
                    62.101555668729034,
                    61.20247775573993,
                    60.30192687963519,
                    59.399900627253224,
                    58.49639658147885,
                    57.63085830931214,
                    56.76331333020427,
                    55.89375699170618,
                    55.02218463058229,
                    54.14859157278557,
                    53.31151158003733,
                    52.471889543323144,
                    51.6297177429656,
                    50.784988435844134,
                    49.93769385532393,
                    49.116740825566126,
                    48.29281457555417,
                    47.465904337268,
                    46.635999303689395,
                    45.803088628660646,
                    44.97004094207671,
                    44.13392328294407,
                    43.29472433770698,
                    42.452432751116625,
                    41.60703712607748,
                    40.75634270824358,
                    39.902558468467255,
                    39.04567318415267,
                    38.18567559194219,
                    37.32255438756836,
                    36.46376446733683,
                    35.601681190760054,
                    34.73629192821145,
                    33.86758400163131,
                    32.99554468434108,
                    32.145157460468646,
                    31.290854967762193,
                    30.432619179927798,
                    29.570431987676677,
                    28.704275198343016,
                    27.876235024350592,
                    27.043146337561936,
                    26.20497835748808,
                    25.361700115973186,
                    24.513280456050367,
                    23.743190313753427,
                    22.965727113229057,
                    22.18082026275735,
                    21.388398494753563,
                    20.588389859297155,
                    19.890170653398517,
                    19.181462346686484,
                    18.462107365099868,
                    17.731945767397946,
                    16.99081520959917,
                    16.403704976359894,
                    15.801894935731843,
                    15.185017040413111,
                    14.552694028095567,
                    13.904539190743607,
                    13.396890947447936,
                    12.870596669341378,
                    12.32497148334743,
                    11.759305360846557,
                    11.172862193707426,
                    10.746717445091067,
                    10.297659873521997,
                    9.824457509212102,
                    9.325812142191417,
                    8.800355760725923,
                    8.511190310856065,
                    8.197261007677174,
                    7.856447098412636,
                    7.486446211040913,
                    7.084758800596637
                  ],
                  "yaxis": "y"
                }
              ],
              "layout": {
                "legend": {
                  "title": {
                    "text": "variable"
                  },
                  "tracegroupgap": 0
                },
                "margin": {
                  "t": 60
                },
                "template": {
                  "data": {
                    "bar": [
                      {
                        "error_x": {
                          "color": "#2a3f5f"
                        },
                        "error_y": {
                          "color": "#2a3f5f"
                        },
                        "marker": {
                          "line": {
                            "color": "#E5ECF6",
                            "width": 0.5
                          },
                          "pattern": {
                            "fillmode": "overlay",
                            "size": 10,
                            "solidity": 0.2
                          }
                        },
                        "type": "bar"
                      }
                    ],
                    "barpolar": [
                      {
                        "marker": {
                          "line": {
                            "color": "#E5ECF6",
                            "width": 0.5
                          },
                          "pattern": {
                            "fillmode": "overlay",
                            "size": 10,
                            "solidity": 0.2
                          }
                        },
                        "type": "barpolar"
                      }
                    ],
                    "carpet": [
                      {
                        "aaxis": {
                          "endlinecolor": "#2a3f5f",
                          "gridcolor": "white",
                          "linecolor": "white",
                          "minorgridcolor": "white",
                          "startlinecolor": "#2a3f5f"
                        },
                        "baxis": {
                          "endlinecolor": "#2a3f5f",
                          "gridcolor": "white",
                          "linecolor": "white",
                          "minorgridcolor": "white",
                          "startlinecolor": "#2a3f5f"
                        },
                        "type": "carpet"
                      }
                    ],
                    "choropleth": [
                      {
                        "colorbar": {
                          "outlinewidth": 0,
                          "ticks": ""
                        },
                        "type": "choropleth"
                      }
                    ],
                    "contour": [
                      {
                        "colorbar": {
                          "outlinewidth": 0,
                          "ticks": ""
                        },
                        "colorscale": [
                          [
                            0,
                            "#0d0887"
                          ],
                          [
                            0.1111111111111111,
                            "#46039f"
                          ],
                          [
                            0.2222222222222222,
                            "#7201a8"
                          ],
                          [
                            0.3333333333333333,
                            "#9c179e"
                          ],
                          [
                            0.4444444444444444,
                            "#bd3786"
                          ],
                          [
                            0.5555555555555556,
                            "#d8576b"
                          ],
                          [
                            0.6666666666666666,
                            "#ed7953"
                          ],
                          [
                            0.7777777777777778,
                            "#fb9f3a"
                          ],
                          [
                            0.8888888888888888,
                            "#fdca26"
                          ],
                          [
                            1,
                            "#f0f921"
                          ]
                        ],
                        "type": "contour"
                      }
                    ],
                    "contourcarpet": [
                      {
                        "colorbar": {
                          "outlinewidth": 0,
                          "ticks": ""
                        },
                        "type": "contourcarpet"
                      }
                    ],
                    "heatmap": [
                      {
                        "colorbar": {
                          "outlinewidth": 0,
                          "ticks": ""
                        },
                        "colorscale": [
                          [
                            0,
                            "#0d0887"
                          ],
                          [
                            0.1111111111111111,
                            "#46039f"
                          ],
                          [
                            0.2222222222222222,
                            "#7201a8"
                          ],
                          [
                            0.3333333333333333,
                            "#9c179e"
                          ],
                          [
                            0.4444444444444444,
                            "#bd3786"
                          ],
                          [
                            0.5555555555555556,
                            "#d8576b"
                          ],
                          [
                            0.6666666666666666,
                            "#ed7953"
                          ],
                          [
                            0.7777777777777778,
                            "#fb9f3a"
                          ],
                          [
                            0.8888888888888888,
                            "#fdca26"
                          ],
                          [
                            1,
                            "#f0f921"
                          ]
                        ],
                        "type": "heatmap"
                      }
                    ],
                    "heatmapgl": [
                      {
                        "colorbar": {
                          "outlinewidth": 0,
                          "ticks": ""
                        },
                        "colorscale": [
                          [
                            0,
                            "#0d0887"
                          ],
                          [
                            0.1111111111111111,
                            "#46039f"
                          ],
                          [
                            0.2222222222222222,
                            "#7201a8"
                          ],
                          [
                            0.3333333333333333,
                            "#9c179e"
                          ],
                          [
                            0.4444444444444444,
                            "#bd3786"
                          ],
                          [
                            0.5555555555555556,
                            "#d8576b"
                          ],
                          [
                            0.6666666666666666,
                            "#ed7953"
                          ],
                          [
                            0.7777777777777778,
                            "#fb9f3a"
                          ],
                          [
                            0.8888888888888888,
                            "#fdca26"
                          ],
                          [
                            1,
                            "#f0f921"
                          ]
                        ],
                        "type": "heatmapgl"
                      }
                    ],
                    "histogram": [
                      {
                        "marker": {
                          "pattern": {
                            "fillmode": "overlay",
                            "size": 10,
                            "solidity": 0.2
                          }
                        },
                        "type": "histogram"
                      }
                    ],
                    "histogram2d": [
                      {
                        "colorbar": {
                          "outlinewidth": 0,
                          "ticks": ""
                        },
                        "colorscale": [
                          [
                            0,
                            "#0d0887"
                          ],
                          [
                            0.1111111111111111,
                            "#46039f"
                          ],
                          [
                            0.2222222222222222,
                            "#7201a8"
                          ],
                          [
                            0.3333333333333333,
                            "#9c179e"
                          ],
                          [
                            0.4444444444444444,
                            "#bd3786"
                          ],
                          [
                            0.5555555555555556,
                            "#d8576b"
                          ],
                          [
                            0.6666666666666666,
                            "#ed7953"
                          ],
                          [
                            0.7777777777777778,
                            "#fb9f3a"
                          ],
                          [
                            0.8888888888888888,
                            "#fdca26"
                          ],
                          [
                            1,
                            "#f0f921"
                          ]
                        ],
                        "type": "histogram2d"
                      }
                    ],
                    "histogram2dcontour": [
                      {
                        "colorbar": {
                          "outlinewidth": 0,
                          "ticks": ""
                        },
                        "colorscale": [
                          [
                            0,
                            "#0d0887"
                          ],
                          [
                            0.1111111111111111,
                            "#46039f"
                          ],
                          [
                            0.2222222222222222,
                            "#7201a8"
                          ],
                          [
                            0.3333333333333333,
                            "#9c179e"
                          ],
                          [
                            0.4444444444444444,
                            "#bd3786"
                          ],
                          [
                            0.5555555555555556,
                            "#d8576b"
                          ],
                          [
                            0.6666666666666666,
                            "#ed7953"
                          ],
                          [
                            0.7777777777777778,
                            "#fb9f3a"
                          ],
                          [
                            0.8888888888888888,
                            "#fdca26"
                          ],
                          [
                            1,
                            "#f0f921"
                          ]
                        ],
                        "type": "histogram2dcontour"
                      }
                    ],
                    "mesh3d": [
                      {
                        "colorbar": {
                          "outlinewidth": 0,
                          "ticks": ""
                        },
                        "type": "mesh3d"
                      }
                    ],
                    "parcoords": [
                      {
                        "line": {
                          "colorbar": {
                            "outlinewidth": 0,
                            "ticks": ""
                          }
                        },
                        "type": "parcoords"
                      }
                    ],
                    "pie": [
                      {
                        "automargin": true,
                        "type": "pie"
                      }
                    ],
                    "scatter": [
                      {
                        "fillpattern": {
                          "fillmode": "overlay",
                          "size": 10,
                          "solidity": 0.2
                        },
                        "type": "scatter"
                      }
                    ],
                    "scatter3d": [
                      {
                        "line": {
                          "colorbar": {
                            "outlinewidth": 0,
                            "ticks": ""
                          }
                        },
                        "marker": {
                          "colorbar": {
                            "outlinewidth": 0,
                            "ticks": ""
                          }
                        },
                        "type": "scatter3d"
                      }
                    ],
                    "scattercarpet": [
                      {
                        "marker": {
                          "colorbar": {
                            "outlinewidth": 0,
                            "ticks": ""
                          }
                        },
                        "type": "scattercarpet"
                      }
                    ],
                    "scattergeo": [
                      {
                        "marker": {
                          "colorbar": {
                            "outlinewidth": 0,
                            "ticks": ""
                          }
                        },
                        "type": "scattergeo"
                      }
                    ],
                    "scattergl": [
                      {
                        "marker": {
                          "colorbar": {
                            "outlinewidth": 0,
                            "ticks": ""
                          }
                        },
                        "type": "scattergl"
                      }
                    ],
                    "scattermapbox": [
                      {
                        "marker": {
                          "colorbar": {
                            "outlinewidth": 0,
                            "ticks": ""
                          }
                        },
                        "type": "scattermapbox"
                      }
                    ],
                    "scatterpolar": [
                      {
                        "marker": {
                          "colorbar": {
                            "outlinewidth": 0,
                            "ticks": ""
                          }
                        },
                        "type": "scatterpolar"
                      }
                    ],
                    "scatterpolargl": [
                      {
                        "marker": {
                          "colorbar": {
                            "outlinewidth": 0,
                            "ticks": ""
                          }
                        },
                        "type": "scatterpolargl"
                      }
                    ],
                    "scatterternary": [
                      {
                        "marker": {
                          "colorbar": {
                            "outlinewidth": 0,
                            "ticks": ""
                          }
                        },
                        "type": "scatterternary"
                      }
                    ],
                    "surface": [
                      {
                        "colorbar": {
                          "outlinewidth": 0,
                          "ticks": ""
                        },
                        "colorscale": [
                          [
                            0,
                            "#0d0887"
                          ],
                          [
                            0.1111111111111111,
                            "#46039f"
                          ],
                          [
                            0.2222222222222222,
                            "#7201a8"
                          ],
                          [
                            0.3333333333333333,
                            "#9c179e"
                          ],
                          [
                            0.4444444444444444,
                            "#bd3786"
                          ],
                          [
                            0.5555555555555556,
                            "#d8576b"
                          ],
                          [
                            0.6666666666666666,
                            "#ed7953"
                          ],
                          [
                            0.7777777777777778,
                            "#fb9f3a"
                          ],
                          [
                            0.8888888888888888,
                            "#fdca26"
                          ],
                          [
                            1,
                            "#f0f921"
                          ]
                        ],
                        "type": "surface"
                      }
                    ],
                    "table": [
                      {
                        "cells": {
                          "fill": {
                            "color": "#EBF0F8"
                          },
                          "line": {
                            "color": "white"
                          }
                        },
                        "header": {
                          "fill": {
                            "color": "#C8D4E3"
                          },
                          "line": {
                            "color": "white"
                          }
                        },
                        "type": "table"
                      }
                    ]
                  },
                  "layout": {
                    "annotationdefaults": {
                      "arrowcolor": "#2a3f5f",
                      "arrowhead": 0,
                      "arrowwidth": 1
                    },
                    "autotypenumbers": "strict",
                    "coloraxis": {
                      "colorbar": {
                        "outlinewidth": 0,
                        "ticks": ""
                      }
                    },
                    "colorscale": {
                      "diverging": [
                        [
                          0,
                          "#8e0152"
                        ],
                        [
                          0.1,
                          "#c51b7d"
                        ],
                        [
                          0.2,
                          "#de77ae"
                        ],
                        [
                          0.3,
                          "#f1b6da"
                        ],
                        [
                          0.4,
                          "#fde0ef"
                        ],
                        [
                          0.5,
                          "#f7f7f7"
                        ],
                        [
                          0.6,
                          "#e6f5d0"
                        ],
                        [
                          0.7,
                          "#b8e186"
                        ],
                        [
                          0.8,
                          "#7fbc41"
                        ],
                        [
                          0.9,
                          "#4d9221"
                        ],
                        [
                          1,
                          "#276419"
                        ]
                      ],
                      "sequential": [
                        [
                          0,
                          "#0d0887"
                        ],
                        [
                          0.1111111111111111,
                          "#46039f"
                        ],
                        [
                          0.2222222222222222,
                          "#7201a8"
                        ],
                        [
                          0.3333333333333333,
                          "#9c179e"
                        ],
                        [
                          0.4444444444444444,
                          "#bd3786"
                        ],
                        [
                          0.5555555555555556,
                          "#d8576b"
                        ],
                        [
                          0.6666666666666666,
                          "#ed7953"
                        ],
                        [
                          0.7777777777777778,
                          "#fb9f3a"
                        ],
                        [
                          0.8888888888888888,
                          "#fdca26"
                        ],
                        [
                          1,
                          "#f0f921"
                        ]
                      ],
                      "sequentialminus": [
                        [
                          0,
                          "#0d0887"
                        ],
                        [
                          0.1111111111111111,
                          "#46039f"
                        ],
                        [
                          0.2222222222222222,
                          "#7201a8"
                        ],
                        [
                          0.3333333333333333,
                          "#9c179e"
                        ],
                        [
                          0.4444444444444444,
                          "#bd3786"
                        ],
                        [
                          0.5555555555555556,
                          "#d8576b"
                        ],
                        [
                          0.6666666666666666,
                          "#ed7953"
                        ],
                        [
                          0.7777777777777778,
                          "#fb9f3a"
                        ],
                        [
                          0.8888888888888888,
                          "#fdca26"
                        ],
                        [
                          1,
                          "#f0f921"
                        ]
                      ]
                    },
                    "colorway": [
                      "#636efa",
                      "#EF553B",
                      "#00cc96",
                      "#ab63fa",
                      "#FFA15A",
                      "#19d3f3",
                      "#FF6692",
                      "#B6E880",
                      "#FF97FF",
                      "#FECB52"
                    ],
                    "font": {
                      "color": "#2a3f5f"
                    },
                    "geo": {
                      "bgcolor": "white",
                      "lakecolor": "white",
                      "landcolor": "#E5ECF6",
                      "showlakes": true,
                      "showland": true,
                      "subunitcolor": "white"
                    },
                    "hoverlabel": {
                      "align": "left"
                    },
                    "hovermode": "closest",
                    "mapbox": {
                      "style": "light"
                    },
                    "paper_bgcolor": "white",
                    "plot_bgcolor": "#E5ECF6",
                    "polar": {
                      "angularaxis": {
                        "gridcolor": "white",
                        "linecolor": "white",
                        "ticks": ""
                      },
                      "bgcolor": "#E5ECF6",
                      "radialaxis": {
                        "gridcolor": "white",
                        "linecolor": "white",
                        "ticks": ""
                      }
                    },
                    "scene": {
                      "xaxis": {
                        "backgroundcolor": "#E5ECF6",
                        "gridcolor": "white",
                        "gridwidth": 2,
                        "linecolor": "white",
                        "showbackground": true,
                        "ticks": "",
                        "zerolinecolor": "white"
                      },
                      "yaxis": {
                        "backgroundcolor": "#E5ECF6",
                        "gridcolor": "white",
                        "gridwidth": 2,
                        "linecolor": "white",
                        "showbackground": true,
                        "ticks": "",
                        "zerolinecolor": "white"
                      },
                      "zaxis": {
                        "backgroundcolor": "#E5ECF6",
                        "gridcolor": "white",
                        "gridwidth": 2,
                        "linecolor": "white",
                        "showbackground": true,
                        "ticks": "",
                        "zerolinecolor": "white"
                      }
                    },
                    "shapedefaults": {
                      "line": {
                        "color": "#2a3f5f"
                      }
                    },
                    "ternary": {
                      "aaxis": {
                        "gridcolor": "white",
                        "linecolor": "white",
                        "ticks": ""
                      },
                      "baxis": {
                        "gridcolor": "white",
                        "linecolor": "white",
                        "ticks": ""
                      },
                      "bgcolor": "#E5ECF6",
                      "caxis": {
                        "gridcolor": "white",
                        "linecolor": "white",
                        "ticks": ""
                      }
                    },
                    "title": {
                      "x": 0.05
                    },
                    "xaxis": {
                      "automargin": true,
                      "gridcolor": "white",
                      "linecolor": "white",
                      "ticks": "",
                      "title": {
                        "standoff": 15
                      },
                      "zerolinecolor": "white",
                      "zerolinewidth": 2
                    },
                    "yaxis": {
                      "automargin": true,
                      "gridcolor": "white",
                      "linecolor": "white",
                      "ticks": "",
                      "title": {
                        "standoff": 15
                      },
                      "zerolinecolor": "white",
                      "zerolinewidth": 2
                    }
                  }
                },
                "xaxis": {
                  "anchor": "y",
                  "domain": [
                    0,
                    1
                  ],
                  "title": {
                    "text": "age_group_start"
                  }
                },
                "yaxis": {
                  "anchor": "x",
                  "domain": [
                    0,
                    1
                  ],
                  "title": {
                    "text": "value"
                  }
                }
              }
            }
          },
          "metadata": {},
          "output_type": "display_data"
        }
      ],
      "source": [
        "sex_id = 1\n",
        "\n",
        "\n",
        "px.line(\n",
        "    le_calculated\n",
        "    .set_index(['age_group_start', 'sex_id'])\n",
        "    .join(\n",
        "        le_calculated_risk_excluded\n",
        "        .set_index(['age_group_start', 'sex_id']),\n",
        "        rsuffix='_rei_excluded'\n",
        "    )\n",
        "    .join(\n",
        "        life_expectancy_located_interpolated\n",
        "        .set_index(['age_group_start', 'sex_id']),\n",
        "        rsuffix='_source'\n",
        "    )\n",
        "    .query('sex_id == @sex_id')\n",
        "    .reset_index()\n",
        "    .set_index('age_group_start')\n",
        "    [['val', 'E_x_val', 'E_x_val_rei_excluded']]\n",
        ")\n"
      ]
    },
    {
      "cell_type": "markdown",
      "metadata": {
        "id": "cUR5bO0NT4km"
      },
      "source": [
        "### Calculate for all countries and all manageable risk factors"
      ]
    },
    {
      "cell_type": "code",
      "execution_count": null,
      "metadata": {
        "id": "NW0LGMn2T4kn",
        "outputId": "7d13f144-4354-4a37-9773-32ad0ff32c67"
      },
      "outputs": [
        {
          "name": "stderr",
          "output_type": "stream",
          "text": [
            "  0%|          | 0/204 [00:00<?, ?it/s]"
          ]
        },
        {
          "name": "stderr",
          "output_type": "stream",
          "text": [
            "100%|██████████| 204/204 [22:05<00:00,  6.50s/it]\n"
          ]
        }
      ],
      "source": [
        "le_calculated_all_countries = []\n",
        "\n",
        "le_calculated_risk_excluded_all_countries = []\n",
        "\n",
        "for location_id in tqdm(risks.location_id.unique()):\n",
        "\n",
        "    causes_located = causes.query('location_id == @location_id')\n",
        "    risks_located = risks.query('location_id == @location_id')\n",
        "    population_located = population.query('location_id == @location_id')\n",
        "\n",
        "    le_calculated = life_expectancy_risk_removing_from_deaths(\n",
        "        causes_located=causes_located,\n",
        "        risks_located=risks_located,\n",
        "        population_located=population_located,\n",
        "        all_risk_factors_id=169,\n",
        "        all_causes_id=294,\n",
        "        risks_to_remove=None,\n",
        "        age_column='age_group_start',\n",
        "        sex_column='sex_id',\n",
        "        le_estimation='val',\n",
        "        risk_impact_deaths_prefix='rei_impact_deaths_',\n",
        "        mortality_suffix='_deaths',\n",
        "        population_suffix='_population',\n",
        "        interpolation_method='linear',\n",
        "        interpolation_age_max=111,\n",
        "        age_result_trunc=95,\n",
        "        interpolation_age_max_value=1,\n",
        "        radix=100_000,\n",
        "        le_calculation_last_age_group_years=5,\n",
        "        disable_verbocity=True,\n",
        "    )\n",
        "    le_calculated['location_id'] = location_id\n",
        "    le_calculated['excluded_rei_id'] = np.nan\n",
        "    le_calculated_all_countries.append(le_calculated)\n",
        "\n",
        "    for rei_id in [risks_name_to_id[x] for x in risks_names_manageable]:\n",
        "\n",
        "        le_calculated_risk_excluded = life_expectancy_risk_removing_from_deaths(\n",
        "            causes_located=causes_located,\n",
        "            risks_located=risks_located,\n",
        "            population_located=population_located,\n",
        "            all_risk_factors_id=169,\n",
        "            all_causes_id=294,\n",
        "            risks_to_remove=[rei_id],\n",
        "            age_column='age_group_start',\n",
        "            sex_column='sex_id',\n",
        "            le_estimation='val',\n",
        "            risk_impact_deaths_prefix='rei_impact_deaths_',\n",
        "            mortality_suffix='_deaths',\n",
        "            population_suffix='_population',\n",
        "            interpolation_method='linear',\n",
        "            interpolation_age_max=111,\n",
        "            age_result_trunc=95,\n",
        "            interpolation_age_max_value=1,\n",
        "            radix=100_000,\n",
        "            le_calculation_last_age_group_years=5,\n",
        "            disable_verbocity=True,\n",
        "        )\n",
        "\n",
        "        le_calculated_risk_excluded['location_id'] = location_id\n",
        "\n",
        "        le_calculated_risk_excluded['excluded_rei_id'] = rei_id\n",
        "\n",
        "        le_calculated_risk_excluded_all_countries.append(le_calculated_risk_excluded)"
      ]
    },
    {
      "cell_type": "code",
      "execution_count": null,
      "metadata": {
        "id": "UoOMQ7SnT4kn"
      },
      "outputs": [],
      "source": [
        "le_calculated_all_countries_df = pd.concat(le_calculated_all_countries, axis=0)\n",
        "le_calculated_risk_excluded_all_countries_df = pd.concat(le_calculated_risk_excluded_all_countries, axis=0)"
      ]
    },
    {
      "cell_type": "code",
      "execution_count": null,
      "metadata": {
        "id": "mmOxekpGT4ko",
        "outputId": "0a0ea00e-df23-4c90-a3e5-814800ad1115"
      },
      "outputs": [
        {
          "name": "stderr",
          "output_type": "stream",
          "text": [
            "100%|██████████| 204/204 [00:03<00:00, 54.96it/s]\n"
          ]
        }
      ],
      "source": [
        "le_mean_absolute_error = []\n",
        "for location_id in tqdm(le_calculated_all_countries_df.location_id.unique()):\n",
        "\n",
        "    le_mean_absolute_error.append(\n",
        "        (\n",
        "            life_expectancy\n",
        "            .query('location_id == @location_id')\n",
        "            .set_index(['location_id', 'age_group_start', 'sex_id'])\n",
        "            [['val']]\n",
        "            .join(\n",
        "                le_calculated_all_countries_df\n",
        "                .query('location_id == @location_id')\n",
        "                .set_index(['location_id', 'age_group_start', 'sex_id'])\n",
        "                [['E_x_val']],\n",
        "                how='inner'\n",
        "            )\n",
        "        )\n",
        "        .assign(mae = lambda x: abs(x.E_x_val - x.val))\n",
        "        [['val', 'E_x_val', 'mae']]\n",
        "    )"
      ]
    },
    {
      "cell_type": "code",
      "execution_count": null,
      "metadata": {
        "id": "31-fSEHdT4ko",
        "outputId": "f6da60f4-81bc-47d1-dc31-914723e025d2"
      },
      "outputs": [
        {
          "data": {
            "application/vnd.plotly.v1+json": {
              "config": {
                "plotlyServerURL": "https://plot.ly"
              },
              "data": [
                {
                  "alignmentgroup": "True",
                  "bingroup": "x",
                  "hovertemplate": "variable=0<br>value=%{x}<br>count=%{y}<extra></extra>",
                  "legendgroup": "0",
                  "marker": {
                    "color": "#636efa",
                    "pattern": {
                      "shape": ""
                    }
                  },
                  "name": "0",
                  "nbinsx": 100,
                  "offsetgroup": "0",
                  "orientation": "v",
                  "showlegend": true,
                  "type": "histogram",
                  "x": [
                    0.08495157665807085,
                    0.1562944982307215,
                    0.12092471693375728,
                    0.12376214778643657,
                    0.11459981769121441,
                    0.4644271133082247,
                    0.09550620429757117,
                    0.11222951508035806,
                    0.09882477351230534,
                    0.09525615581978286,
                    0.0795814224793503,
                    0.0864631633573083,
                    0.10707975392466551,
                    0.14075578617442375,
                    0.10613700501812673,
                    0.10347365186937907,
                    0.11055025393157081,
                    0.10815613688249215,
                    0.09298404363764234,
                    0.1161911705508274,
                    0.11265717201530379,
                    0.11012545725272815,
                    0.17875677323963313,
                    0.4329560462459392,
                    0.10489780085879374,
                    0.10584614828340477,
                    0.09771459084160483,
                    0.1417740280351012,
                    0.09591427823022514,
                    0.09912647683272269,
                    0.12897106716561524,
                    0.09585319329269737,
                    0.08803686284677781,
                    0.10597731335268179,
                    0.09862879379831924,
                    0.12269538838059191,
                    0.08245407049003006,
                    0.17240611458922217,
                    0.06899672792332856,
                    0.10764266394643585,
                    0.10412384461186974,
                    0.12275005911669723,
                    0.1786945373251072,
                    0.13826563768579092,
                    0.0909392085862919,
                    0.09166156153777649,
                    0.13783541671853072,
                    0.11412167909011828,
                    0.08484879951916469,
                    0.10726702704093327,
                    0.10813223012151241,
                    0.19363313433303375,
                    0.11668178295290232,
                    0.11107943949070886,
                    0.213173036561372,
                    0.09261370561667093,
                    0.11152665406004836,
                    0.15395532638481768,
                    0.10144622918527091,
                    0.08318263679525728,
                    0.1980400408056937,
                    0.08983729261863971,
                    0.10807991813366868,
                    0.1027130480085674,
                    0.11986651075461907,
                    0.08105099899892565,
                    0.18802775761132073,
                    0.0909537263886051,
                    0.09627433638956973,
                    0.1562759276310146,
                    0.08781442826453656,
                    0.09885903402117435,
                    0.12047228001145527,
                    0.10163477826051803,
                    0.083074475559755,
                    0.08658197753339891,
                    0.1042628630438287,
                    0.14180339255077712,
                    0.09454411986391165,
                    0.12820862900802865,
                    0.10454708696735082,
                    0.14837788582816813,
                    0.09998235298894542,
                    0.08697862760291741,
                    0.12469914166830165,
                    0.10330829667643115,
                    0.10582674804878422,
                    0.10557502557552567,
                    0.09914728349876611,
                    0.09325600346487306,
                    0.10774049229189586,
                    0.08592165167162591,
                    0.09460480452142406,
                    0.09867453138154758,
                    0.08769287963539796,
                    0.20451675521236723,
                    0.09273307304800227,
                    0.08505052330396268,
                    0.07397669306179466,
                    0.11251881581915768,
                    0.10204716503352529,
                    0.1932875885712093,
                    0.0744042113624559,
                    0.14497279627227044,
                    0.1366307554452817,
                    0.1821391385972264,
                    0.09497692345928499,
                    0.13072627007237259,
                    0.16032861310328883,
                    0.18157687004476042,
                    0.11292152916108478,
                    0.09714497559163249,
                    0.10626965724820536,
                    0.11682830938933364,
                    0.0924839641979105,
                    0.205488834107598,
                    0.1213106755461908,
                    0.12371505092049517,
                    0.11041192857927484,
                    0.10144896182723073,
                    0.10606457177492956,
                    0.09677493628750256,
                    0.08691682034377379,
                    0.12045397001156743,
                    0.0817590739990024,
                    0.09265749543386903,
                    0.08868571366380706,
                    0.10299653535160758,
                    4.7328034151679645,
                    0.11858316792869061,
                    0.09979200062326754,
                    0.11331037117555809,
                    0.15954500629175072,
                    0.1807851339954638,
                    0.166055399237095,
                    0.09486944120364171,
                    0.17835537353448672,
                    0.111728974540938,
                    0.24095035579917123,
                    0.10122679882135799,
                    0.15103455386889664,
                    0.13738155033713895,
                    0.1368561241445292,
                    0.13033553846420176,
                    0.08345049632207235,
                    0.22772699599578772,
                    0.08412761492812137,
                    0.11338344304189718,
                    0.09826742326364979,
                    0.19809637762996601,
                    0.1800167143783824,
                    0.09294850233011687,
                    0.09715107173792603,
                    0.25226339955256094,
                    0.13778137411757996,
                    0.09553311500441453,
                    0.10238378836706374,
                    0.09166302157115425,
                    0.08224553407713842,
                    0.15371181893100072,
                    0.09105757045513485,
                    0.16796163133933106,
                    0.11723294200528755,
                    0.14020631562091523,
                    0.09639584103258869,
                    0.1446443222364877,
                    0.08639488697346565,
                    0.11957277295535107,
                    0.22637977377144125,
                    0.1106877544811482,
                    0.10685745915763789,
                    0.10184576660314804,
                    0.10649856923832601,
                    0.09693706239367827,
                    0.1541696716008163,
                    0.11369364603093857,
                    0.11308004404752836,
                    0.10788841858943954,
                    0.09786932378385416,
                    0.12305808344089542,
                    0.10032878708351234,
                    0.13446375085365503,
                    0.12936942157685394,
                    0.10613932537313531,
                    0.10703681343503035,
                    0.10296465631687823,
                    0.1037523617757472,
                    0.0937035452661803,
                    0.1437723651864502,
                    0.08600440941216903,
                    0.09898215263407906,
                    0.38717513078189825,
                    0.13096194449606458,
                    0.08250960254323303,
                    0.10207902484604858,
                    0.1948353330333319,
                    0.21590718181282398,
                    0.2080771231939309,
                    0.09781896487652375,
                    0.17113730931850313,
                    0.09871527677580616,
                    0.21847695582368942,
                    0.08994530398291545,
                    0.08475371009228638
                  ],
                  "xaxis": "x",
                  "yaxis": "y"
                }
              ],
              "layout": {
                "barmode": "relative",
                "legend": {
                  "title": {
                    "text": "variable"
                  },
                  "tracegroupgap": 0
                },
                "margin": {
                  "t": 60
                },
                "template": {
                  "data": {
                    "bar": [
                      {
                        "error_x": {
                          "color": "#2a3f5f"
                        },
                        "error_y": {
                          "color": "#2a3f5f"
                        },
                        "marker": {
                          "line": {
                            "color": "#E5ECF6",
                            "width": 0.5
                          },
                          "pattern": {
                            "fillmode": "overlay",
                            "size": 10,
                            "solidity": 0.2
                          }
                        },
                        "type": "bar"
                      }
                    ],
                    "barpolar": [
                      {
                        "marker": {
                          "line": {
                            "color": "#E5ECF6",
                            "width": 0.5
                          },
                          "pattern": {
                            "fillmode": "overlay",
                            "size": 10,
                            "solidity": 0.2
                          }
                        },
                        "type": "barpolar"
                      }
                    ],
                    "carpet": [
                      {
                        "aaxis": {
                          "endlinecolor": "#2a3f5f",
                          "gridcolor": "white",
                          "linecolor": "white",
                          "minorgridcolor": "white",
                          "startlinecolor": "#2a3f5f"
                        },
                        "baxis": {
                          "endlinecolor": "#2a3f5f",
                          "gridcolor": "white",
                          "linecolor": "white",
                          "minorgridcolor": "white",
                          "startlinecolor": "#2a3f5f"
                        },
                        "type": "carpet"
                      }
                    ],
                    "choropleth": [
                      {
                        "colorbar": {
                          "outlinewidth": 0,
                          "ticks": ""
                        },
                        "type": "choropleth"
                      }
                    ],
                    "contour": [
                      {
                        "colorbar": {
                          "outlinewidth": 0,
                          "ticks": ""
                        },
                        "colorscale": [
                          [
                            0,
                            "#0d0887"
                          ],
                          [
                            0.1111111111111111,
                            "#46039f"
                          ],
                          [
                            0.2222222222222222,
                            "#7201a8"
                          ],
                          [
                            0.3333333333333333,
                            "#9c179e"
                          ],
                          [
                            0.4444444444444444,
                            "#bd3786"
                          ],
                          [
                            0.5555555555555556,
                            "#d8576b"
                          ],
                          [
                            0.6666666666666666,
                            "#ed7953"
                          ],
                          [
                            0.7777777777777778,
                            "#fb9f3a"
                          ],
                          [
                            0.8888888888888888,
                            "#fdca26"
                          ],
                          [
                            1,
                            "#f0f921"
                          ]
                        ],
                        "type": "contour"
                      }
                    ],
                    "contourcarpet": [
                      {
                        "colorbar": {
                          "outlinewidth": 0,
                          "ticks": ""
                        },
                        "type": "contourcarpet"
                      }
                    ],
                    "heatmap": [
                      {
                        "colorbar": {
                          "outlinewidth": 0,
                          "ticks": ""
                        },
                        "colorscale": [
                          [
                            0,
                            "#0d0887"
                          ],
                          [
                            0.1111111111111111,
                            "#46039f"
                          ],
                          [
                            0.2222222222222222,
                            "#7201a8"
                          ],
                          [
                            0.3333333333333333,
                            "#9c179e"
                          ],
                          [
                            0.4444444444444444,
                            "#bd3786"
                          ],
                          [
                            0.5555555555555556,
                            "#d8576b"
                          ],
                          [
                            0.6666666666666666,
                            "#ed7953"
                          ],
                          [
                            0.7777777777777778,
                            "#fb9f3a"
                          ],
                          [
                            0.8888888888888888,
                            "#fdca26"
                          ],
                          [
                            1,
                            "#f0f921"
                          ]
                        ],
                        "type": "heatmap"
                      }
                    ],
                    "heatmapgl": [
                      {
                        "colorbar": {
                          "outlinewidth": 0,
                          "ticks": ""
                        },
                        "colorscale": [
                          [
                            0,
                            "#0d0887"
                          ],
                          [
                            0.1111111111111111,
                            "#46039f"
                          ],
                          [
                            0.2222222222222222,
                            "#7201a8"
                          ],
                          [
                            0.3333333333333333,
                            "#9c179e"
                          ],
                          [
                            0.4444444444444444,
                            "#bd3786"
                          ],
                          [
                            0.5555555555555556,
                            "#d8576b"
                          ],
                          [
                            0.6666666666666666,
                            "#ed7953"
                          ],
                          [
                            0.7777777777777778,
                            "#fb9f3a"
                          ],
                          [
                            0.8888888888888888,
                            "#fdca26"
                          ],
                          [
                            1,
                            "#f0f921"
                          ]
                        ],
                        "type": "heatmapgl"
                      }
                    ],
                    "histogram": [
                      {
                        "marker": {
                          "pattern": {
                            "fillmode": "overlay",
                            "size": 10,
                            "solidity": 0.2
                          }
                        },
                        "type": "histogram"
                      }
                    ],
                    "histogram2d": [
                      {
                        "colorbar": {
                          "outlinewidth": 0,
                          "ticks": ""
                        },
                        "colorscale": [
                          [
                            0,
                            "#0d0887"
                          ],
                          [
                            0.1111111111111111,
                            "#46039f"
                          ],
                          [
                            0.2222222222222222,
                            "#7201a8"
                          ],
                          [
                            0.3333333333333333,
                            "#9c179e"
                          ],
                          [
                            0.4444444444444444,
                            "#bd3786"
                          ],
                          [
                            0.5555555555555556,
                            "#d8576b"
                          ],
                          [
                            0.6666666666666666,
                            "#ed7953"
                          ],
                          [
                            0.7777777777777778,
                            "#fb9f3a"
                          ],
                          [
                            0.8888888888888888,
                            "#fdca26"
                          ],
                          [
                            1,
                            "#f0f921"
                          ]
                        ],
                        "type": "histogram2d"
                      }
                    ],
                    "histogram2dcontour": [
                      {
                        "colorbar": {
                          "outlinewidth": 0,
                          "ticks": ""
                        },
                        "colorscale": [
                          [
                            0,
                            "#0d0887"
                          ],
                          [
                            0.1111111111111111,
                            "#46039f"
                          ],
                          [
                            0.2222222222222222,
                            "#7201a8"
                          ],
                          [
                            0.3333333333333333,
                            "#9c179e"
                          ],
                          [
                            0.4444444444444444,
                            "#bd3786"
                          ],
                          [
                            0.5555555555555556,
                            "#d8576b"
                          ],
                          [
                            0.6666666666666666,
                            "#ed7953"
                          ],
                          [
                            0.7777777777777778,
                            "#fb9f3a"
                          ],
                          [
                            0.8888888888888888,
                            "#fdca26"
                          ],
                          [
                            1,
                            "#f0f921"
                          ]
                        ],
                        "type": "histogram2dcontour"
                      }
                    ],
                    "mesh3d": [
                      {
                        "colorbar": {
                          "outlinewidth": 0,
                          "ticks": ""
                        },
                        "type": "mesh3d"
                      }
                    ],
                    "parcoords": [
                      {
                        "line": {
                          "colorbar": {
                            "outlinewidth": 0,
                            "ticks": ""
                          }
                        },
                        "type": "parcoords"
                      }
                    ],
                    "pie": [
                      {
                        "automargin": true,
                        "type": "pie"
                      }
                    ],
                    "scatter": [
                      {
                        "fillpattern": {
                          "fillmode": "overlay",
                          "size": 10,
                          "solidity": 0.2
                        },
                        "type": "scatter"
                      }
                    ],
                    "scatter3d": [
                      {
                        "line": {
                          "colorbar": {
                            "outlinewidth": 0,
                            "ticks": ""
                          }
                        },
                        "marker": {
                          "colorbar": {
                            "outlinewidth": 0,
                            "ticks": ""
                          }
                        },
                        "type": "scatter3d"
                      }
                    ],
                    "scattercarpet": [
                      {
                        "marker": {
                          "colorbar": {
                            "outlinewidth": 0,
                            "ticks": ""
                          }
                        },
                        "type": "scattercarpet"
                      }
                    ],
                    "scattergeo": [
                      {
                        "marker": {
                          "colorbar": {
                            "outlinewidth": 0,
                            "ticks": ""
                          }
                        },
                        "type": "scattergeo"
                      }
                    ],
                    "scattergl": [
                      {
                        "marker": {
                          "colorbar": {
                            "outlinewidth": 0,
                            "ticks": ""
                          }
                        },
                        "type": "scattergl"
                      }
                    ],
                    "scattermapbox": [
                      {
                        "marker": {
                          "colorbar": {
                            "outlinewidth": 0,
                            "ticks": ""
                          }
                        },
                        "type": "scattermapbox"
                      }
                    ],
                    "scatterpolar": [
                      {
                        "marker": {
                          "colorbar": {
                            "outlinewidth": 0,
                            "ticks": ""
                          }
                        },
                        "type": "scatterpolar"
                      }
                    ],
                    "scatterpolargl": [
                      {
                        "marker": {
                          "colorbar": {
                            "outlinewidth": 0,
                            "ticks": ""
                          }
                        },
                        "type": "scatterpolargl"
                      }
                    ],
                    "scatterternary": [
                      {
                        "marker": {
                          "colorbar": {
                            "outlinewidth": 0,
                            "ticks": ""
                          }
                        },
                        "type": "scatterternary"
                      }
                    ],
                    "surface": [
                      {
                        "colorbar": {
                          "outlinewidth": 0,
                          "ticks": ""
                        },
                        "colorscale": [
                          [
                            0,
                            "#0d0887"
                          ],
                          [
                            0.1111111111111111,
                            "#46039f"
                          ],
                          [
                            0.2222222222222222,
                            "#7201a8"
                          ],
                          [
                            0.3333333333333333,
                            "#9c179e"
                          ],
                          [
                            0.4444444444444444,
                            "#bd3786"
                          ],
                          [
                            0.5555555555555556,
                            "#d8576b"
                          ],
                          [
                            0.6666666666666666,
                            "#ed7953"
                          ],
                          [
                            0.7777777777777778,
                            "#fb9f3a"
                          ],
                          [
                            0.8888888888888888,
                            "#fdca26"
                          ],
                          [
                            1,
                            "#f0f921"
                          ]
                        ],
                        "type": "surface"
                      }
                    ],
                    "table": [
                      {
                        "cells": {
                          "fill": {
                            "color": "#EBF0F8"
                          },
                          "line": {
                            "color": "white"
                          }
                        },
                        "header": {
                          "fill": {
                            "color": "#C8D4E3"
                          },
                          "line": {
                            "color": "white"
                          }
                        },
                        "type": "table"
                      }
                    ]
                  },
                  "layout": {
                    "annotationdefaults": {
                      "arrowcolor": "#2a3f5f",
                      "arrowhead": 0,
                      "arrowwidth": 1
                    },
                    "autotypenumbers": "strict",
                    "coloraxis": {
                      "colorbar": {
                        "outlinewidth": 0,
                        "ticks": ""
                      }
                    },
                    "colorscale": {
                      "diverging": [
                        [
                          0,
                          "#8e0152"
                        ],
                        [
                          0.1,
                          "#c51b7d"
                        ],
                        [
                          0.2,
                          "#de77ae"
                        ],
                        [
                          0.3,
                          "#f1b6da"
                        ],
                        [
                          0.4,
                          "#fde0ef"
                        ],
                        [
                          0.5,
                          "#f7f7f7"
                        ],
                        [
                          0.6,
                          "#e6f5d0"
                        ],
                        [
                          0.7,
                          "#b8e186"
                        ],
                        [
                          0.8,
                          "#7fbc41"
                        ],
                        [
                          0.9,
                          "#4d9221"
                        ],
                        [
                          1,
                          "#276419"
                        ]
                      ],
                      "sequential": [
                        [
                          0,
                          "#0d0887"
                        ],
                        [
                          0.1111111111111111,
                          "#46039f"
                        ],
                        [
                          0.2222222222222222,
                          "#7201a8"
                        ],
                        [
                          0.3333333333333333,
                          "#9c179e"
                        ],
                        [
                          0.4444444444444444,
                          "#bd3786"
                        ],
                        [
                          0.5555555555555556,
                          "#d8576b"
                        ],
                        [
                          0.6666666666666666,
                          "#ed7953"
                        ],
                        [
                          0.7777777777777778,
                          "#fb9f3a"
                        ],
                        [
                          0.8888888888888888,
                          "#fdca26"
                        ],
                        [
                          1,
                          "#f0f921"
                        ]
                      ],
                      "sequentialminus": [
                        [
                          0,
                          "#0d0887"
                        ],
                        [
                          0.1111111111111111,
                          "#46039f"
                        ],
                        [
                          0.2222222222222222,
                          "#7201a8"
                        ],
                        [
                          0.3333333333333333,
                          "#9c179e"
                        ],
                        [
                          0.4444444444444444,
                          "#bd3786"
                        ],
                        [
                          0.5555555555555556,
                          "#d8576b"
                        ],
                        [
                          0.6666666666666666,
                          "#ed7953"
                        ],
                        [
                          0.7777777777777778,
                          "#fb9f3a"
                        ],
                        [
                          0.8888888888888888,
                          "#fdca26"
                        ],
                        [
                          1,
                          "#f0f921"
                        ]
                      ]
                    },
                    "colorway": [
                      "#636efa",
                      "#EF553B",
                      "#00cc96",
                      "#ab63fa",
                      "#FFA15A",
                      "#19d3f3",
                      "#FF6692",
                      "#B6E880",
                      "#FF97FF",
                      "#FECB52"
                    ],
                    "font": {
                      "color": "#2a3f5f"
                    },
                    "geo": {
                      "bgcolor": "white",
                      "lakecolor": "white",
                      "landcolor": "#E5ECF6",
                      "showlakes": true,
                      "showland": true,
                      "subunitcolor": "white"
                    },
                    "hoverlabel": {
                      "align": "left"
                    },
                    "hovermode": "closest",
                    "mapbox": {
                      "style": "light"
                    },
                    "paper_bgcolor": "white",
                    "plot_bgcolor": "#E5ECF6",
                    "polar": {
                      "angularaxis": {
                        "gridcolor": "white",
                        "linecolor": "white",
                        "ticks": ""
                      },
                      "bgcolor": "#E5ECF6",
                      "radialaxis": {
                        "gridcolor": "white",
                        "linecolor": "white",
                        "ticks": ""
                      }
                    },
                    "scene": {
                      "xaxis": {
                        "backgroundcolor": "#E5ECF6",
                        "gridcolor": "white",
                        "gridwidth": 2,
                        "linecolor": "white",
                        "showbackground": true,
                        "ticks": "",
                        "zerolinecolor": "white"
                      },
                      "yaxis": {
                        "backgroundcolor": "#E5ECF6",
                        "gridcolor": "white",
                        "gridwidth": 2,
                        "linecolor": "white",
                        "showbackground": true,
                        "ticks": "",
                        "zerolinecolor": "white"
                      },
                      "zaxis": {
                        "backgroundcolor": "#E5ECF6",
                        "gridcolor": "white",
                        "gridwidth": 2,
                        "linecolor": "white",
                        "showbackground": true,
                        "ticks": "",
                        "zerolinecolor": "white"
                      }
                    },
                    "shapedefaults": {
                      "line": {
                        "color": "#2a3f5f"
                      }
                    },
                    "ternary": {
                      "aaxis": {
                        "gridcolor": "white",
                        "linecolor": "white",
                        "ticks": ""
                      },
                      "baxis": {
                        "gridcolor": "white",
                        "linecolor": "white",
                        "ticks": ""
                      },
                      "bgcolor": "#E5ECF6",
                      "caxis": {
                        "gridcolor": "white",
                        "linecolor": "white",
                        "ticks": ""
                      }
                    },
                    "title": {
                      "x": 0.05
                    },
                    "xaxis": {
                      "automargin": true,
                      "gridcolor": "white",
                      "linecolor": "white",
                      "ticks": "",
                      "title": {
                        "standoff": 15
                      },
                      "zerolinecolor": "white",
                      "zerolinewidth": 2
                    },
                    "yaxis": {
                      "automargin": true,
                      "gridcolor": "white",
                      "linecolor": "white",
                      "ticks": "",
                      "title": {
                        "standoff": 15
                      },
                      "zerolinecolor": "white",
                      "zerolinewidth": 2
                    }
                  }
                },
                "xaxis": {
                  "anchor": "y",
                  "domain": [
                    0,
                    1
                  ],
                  "title": {
                    "text": "value"
                  }
                },
                "yaxis": {
                  "anchor": "x",
                  "domain": [
                    0,
                    1
                  ],
                  "title": {
                    "text": "count"
                  }
                }
              }
            }
          },
          "metadata": {},
          "output_type": "display_data"
        }
      ],
      "source": [
        "px.histogram(np.array([x.mae.max() for x in le_mean_absolute_error]), nbins=100)"
      ]
    },
    {
      "cell_type": "code",
      "execution_count": null,
      "metadata": {
        "id": "EtLbau3uT4ko",
        "outputId": "0ee98e7d-fb7f-40ff-c42f-c82f3f582097"
      },
      "outputs": [
        {
          "data": {
            "application/vnd.plotly.v1+json": {
              "config": {
                "plotlyServerURL": "https://plot.ly"
              },
              "data": [
                {
                  "hovertemplate": "variable=val<br>age_group_start=%{x}<br>value=%{y}<extra></extra>",
                  "legendgroup": "val",
                  "line": {
                    "color": "#636efa",
                    "dash": "solid"
                  },
                  "marker": {
                    "symbol": "circle"
                  },
                  "mode": "lines",
                  "name": "val",
                  "orientation": "v",
                  "showlegend": true,
                  "type": "scatter",
                  "x": [
                    0,
                    1,
                    5,
                    10,
                    15,
                    20,
                    25,
                    30,
                    35,
                    40,
                    45,
                    50,
                    55,
                    60,
                    65,
                    70,
                    75,
                    80,
                    85,
                    90,
                    95
                  ],
                  "xaxis": "x",
                  "y": [
                    68.96455263899884,
                    68.40741969310933,
                    64.4964075484108,
                    59.55409587325077,
                    54.61587897949794,
                    49.79044501516276,
                    45.09677487024987,
                    40.53452222728946,
                    36.14812199447438,
                    31.954629537830307,
                    27.920686164012665,
                    24.04476513942753,
                    20.39339959795262,
                    16.992371345184193,
                    13.970073615050143,
                    11.288419027301414,
                    8.916455230029896,
                    7.0395961050789095,
                    5.122364354161311,
                    3.7891512372840346,
                    2.90363363465526
                  ],
                  "yaxis": "y"
                },
                {
                  "hovertemplate": "variable=E_x_val<br>age_group_start=%{x}<br>value=%{y}<extra></extra>",
                  "legendgroup": "E_x_val",
                  "line": {
                    "color": "#EF553B",
                    "dash": "solid"
                  },
                  "marker": {
                    "symbol": "circle"
                  },
                  "mode": "lines",
                  "name": "E_x_val",
                  "orientation": "v",
                  "showlegend": true,
                  "type": "scatter",
                  "x": [
                    0,
                    1,
                    5,
                    10,
                    15,
                    20,
                    25,
                    30,
                    35,
                    40,
                    45,
                    50,
                    55,
                    60,
                    65,
                    70,
                    75,
                    80,
                    85,
                    90,
                    95
                  ],
                  "xaxis": "x",
                  "y": [
                    64.23174922383087,
                    63.72760174306599,
                    59.84844835623158,
                    54.92713375328149,
                    50.027758557866846,
                    45.368226778657444,
                    40.93925107097225,
                    36.66624458887839,
                    32.591759149286474,
                    28.753319813077727,
                    25.091096421072464,
                    21.594589423987937,
                    18.312812229886955,
                    15.26134215926388,
                    12.576019551357515,
                    10.156039874332544,
                    7.990662818635502,
                    6.212089102682701,
                    4.547935272305497,
                    3.4119874361720557,
                    2.641430819332094
                  ],
                  "yaxis": "y"
                }
              ],
              "layout": {
                "legend": {
                  "title": {
                    "text": "variable"
                  },
                  "tracegroupgap": 0
                },
                "margin": {
                  "t": 60
                },
                "template": {
                  "data": {
                    "bar": [
                      {
                        "error_x": {
                          "color": "#2a3f5f"
                        },
                        "error_y": {
                          "color": "#2a3f5f"
                        },
                        "marker": {
                          "line": {
                            "color": "#E5ECF6",
                            "width": 0.5
                          },
                          "pattern": {
                            "fillmode": "overlay",
                            "size": 10,
                            "solidity": 0.2
                          }
                        },
                        "type": "bar"
                      }
                    ],
                    "barpolar": [
                      {
                        "marker": {
                          "line": {
                            "color": "#E5ECF6",
                            "width": 0.5
                          },
                          "pattern": {
                            "fillmode": "overlay",
                            "size": 10,
                            "solidity": 0.2
                          }
                        },
                        "type": "barpolar"
                      }
                    ],
                    "carpet": [
                      {
                        "aaxis": {
                          "endlinecolor": "#2a3f5f",
                          "gridcolor": "white",
                          "linecolor": "white",
                          "minorgridcolor": "white",
                          "startlinecolor": "#2a3f5f"
                        },
                        "baxis": {
                          "endlinecolor": "#2a3f5f",
                          "gridcolor": "white",
                          "linecolor": "white",
                          "minorgridcolor": "white",
                          "startlinecolor": "#2a3f5f"
                        },
                        "type": "carpet"
                      }
                    ],
                    "choropleth": [
                      {
                        "colorbar": {
                          "outlinewidth": 0,
                          "ticks": ""
                        },
                        "type": "choropleth"
                      }
                    ],
                    "contour": [
                      {
                        "colorbar": {
                          "outlinewidth": 0,
                          "ticks": ""
                        },
                        "colorscale": [
                          [
                            0,
                            "#0d0887"
                          ],
                          [
                            0.1111111111111111,
                            "#46039f"
                          ],
                          [
                            0.2222222222222222,
                            "#7201a8"
                          ],
                          [
                            0.3333333333333333,
                            "#9c179e"
                          ],
                          [
                            0.4444444444444444,
                            "#bd3786"
                          ],
                          [
                            0.5555555555555556,
                            "#d8576b"
                          ],
                          [
                            0.6666666666666666,
                            "#ed7953"
                          ],
                          [
                            0.7777777777777778,
                            "#fb9f3a"
                          ],
                          [
                            0.8888888888888888,
                            "#fdca26"
                          ],
                          [
                            1,
                            "#f0f921"
                          ]
                        ],
                        "type": "contour"
                      }
                    ],
                    "contourcarpet": [
                      {
                        "colorbar": {
                          "outlinewidth": 0,
                          "ticks": ""
                        },
                        "type": "contourcarpet"
                      }
                    ],
                    "heatmap": [
                      {
                        "colorbar": {
                          "outlinewidth": 0,
                          "ticks": ""
                        },
                        "colorscale": [
                          [
                            0,
                            "#0d0887"
                          ],
                          [
                            0.1111111111111111,
                            "#46039f"
                          ],
                          [
                            0.2222222222222222,
                            "#7201a8"
                          ],
                          [
                            0.3333333333333333,
                            "#9c179e"
                          ],
                          [
                            0.4444444444444444,
                            "#bd3786"
                          ],
                          [
                            0.5555555555555556,
                            "#d8576b"
                          ],
                          [
                            0.6666666666666666,
                            "#ed7953"
                          ],
                          [
                            0.7777777777777778,
                            "#fb9f3a"
                          ],
                          [
                            0.8888888888888888,
                            "#fdca26"
                          ],
                          [
                            1,
                            "#f0f921"
                          ]
                        ],
                        "type": "heatmap"
                      }
                    ],
                    "heatmapgl": [
                      {
                        "colorbar": {
                          "outlinewidth": 0,
                          "ticks": ""
                        },
                        "colorscale": [
                          [
                            0,
                            "#0d0887"
                          ],
                          [
                            0.1111111111111111,
                            "#46039f"
                          ],
                          [
                            0.2222222222222222,
                            "#7201a8"
                          ],
                          [
                            0.3333333333333333,
                            "#9c179e"
                          ],
                          [
                            0.4444444444444444,
                            "#bd3786"
                          ],
                          [
                            0.5555555555555556,
                            "#d8576b"
                          ],
                          [
                            0.6666666666666666,
                            "#ed7953"
                          ],
                          [
                            0.7777777777777778,
                            "#fb9f3a"
                          ],
                          [
                            0.8888888888888888,
                            "#fdca26"
                          ],
                          [
                            1,
                            "#f0f921"
                          ]
                        ],
                        "type": "heatmapgl"
                      }
                    ],
                    "histogram": [
                      {
                        "marker": {
                          "pattern": {
                            "fillmode": "overlay",
                            "size": 10,
                            "solidity": 0.2
                          }
                        },
                        "type": "histogram"
                      }
                    ],
                    "histogram2d": [
                      {
                        "colorbar": {
                          "outlinewidth": 0,
                          "ticks": ""
                        },
                        "colorscale": [
                          [
                            0,
                            "#0d0887"
                          ],
                          [
                            0.1111111111111111,
                            "#46039f"
                          ],
                          [
                            0.2222222222222222,
                            "#7201a8"
                          ],
                          [
                            0.3333333333333333,
                            "#9c179e"
                          ],
                          [
                            0.4444444444444444,
                            "#bd3786"
                          ],
                          [
                            0.5555555555555556,
                            "#d8576b"
                          ],
                          [
                            0.6666666666666666,
                            "#ed7953"
                          ],
                          [
                            0.7777777777777778,
                            "#fb9f3a"
                          ],
                          [
                            0.8888888888888888,
                            "#fdca26"
                          ],
                          [
                            1,
                            "#f0f921"
                          ]
                        ],
                        "type": "histogram2d"
                      }
                    ],
                    "histogram2dcontour": [
                      {
                        "colorbar": {
                          "outlinewidth": 0,
                          "ticks": ""
                        },
                        "colorscale": [
                          [
                            0,
                            "#0d0887"
                          ],
                          [
                            0.1111111111111111,
                            "#46039f"
                          ],
                          [
                            0.2222222222222222,
                            "#7201a8"
                          ],
                          [
                            0.3333333333333333,
                            "#9c179e"
                          ],
                          [
                            0.4444444444444444,
                            "#bd3786"
                          ],
                          [
                            0.5555555555555556,
                            "#d8576b"
                          ],
                          [
                            0.6666666666666666,
                            "#ed7953"
                          ],
                          [
                            0.7777777777777778,
                            "#fb9f3a"
                          ],
                          [
                            0.8888888888888888,
                            "#fdca26"
                          ],
                          [
                            1,
                            "#f0f921"
                          ]
                        ],
                        "type": "histogram2dcontour"
                      }
                    ],
                    "mesh3d": [
                      {
                        "colorbar": {
                          "outlinewidth": 0,
                          "ticks": ""
                        },
                        "type": "mesh3d"
                      }
                    ],
                    "parcoords": [
                      {
                        "line": {
                          "colorbar": {
                            "outlinewidth": 0,
                            "ticks": ""
                          }
                        },
                        "type": "parcoords"
                      }
                    ],
                    "pie": [
                      {
                        "automargin": true,
                        "type": "pie"
                      }
                    ],
                    "scatter": [
                      {
                        "fillpattern": {
                          "fillmode": "overlay",
                          "size": 10,
                          "solidity": 0.2
                        },
                        "type": "scatter"
                      }
                    ],
                    "scatter3d": [
                      {
                        "line": {
                          "colorbar": {
                            "outlinewidth": 0,
                            "ticks": ""
                          }
                        },
                        "marker": {
                          "colorbar": {
                            "outlinewidth": 0,
                            "ticks": ""
                          }
                        },
                        "type": "scatter3d"
                      }
                    ],
                    "scattercarpet": [
                      {
                        "marker": {
                          "colorbar": {
                            "outlinewidth": 0,
                            "ticks": ""
                          }
                        },
                        "type": "scattercarpet"
                      }
                    ],
                    "scattergeo": [
                      {
                        "marker": {
                          "colorbar": {
                            "outlinewidth": 0,
                            "ticks": ""
                          }
                        },
                        "type": "scattergeo"
                      }
                    ],
                    "scattergl": [
                      {
                        "marker": {
                          "colorbar": {
                            "outlinewidth": 0,
                            "ticks": ""
                          }
                        },
                        "type": "scattergl"
                      }
                    ],
                    "scattermapbox": [
                      {
                        "marker": {
                          "colorbar": {
                            "outlinewidth": 0,
                            "ticks": ""
                          }
                        },
                        "type": "scattermapbox"
                      }
                    ],
                    "scatterpolar": [
                      {
                        "marker": {
                          "colorbar": {
                            "outlinewidth": 0,
                            "ticks": ""
                          }
                        },
                        "type": "scatterpolar"
                      }
                    ],
                    "scatterpolargl": [
                      {
                        "marker": {
                          "colorbar": {
                            "outlinewidth": 0,
                            "ticks": ""
                          }
                        },
                        "type": "scatterpolargl"
                      }
                    ],
                    "scatterternary": [
                      {
                        "marker": {
                          "colorbar": {
                            "outlinewidth": 0,
                            "ticks": ""
                          }
                        },
                        "type": "scatterternary"
                      }
                    ],
                    "surface": [
                      {
                        "colorbar": {
                          "outlinewidth": 0,
                          "ticks": ""
                        },
                        "colorscale": [
                          [
                            0,
                            "#0d0887"
                          ],
                          [
                            0.1111111111111111,
                            "#46039f"
                          ],
                          [
                            0.2222222222222222,
                            "#7201a8"
                          ],
                          [
                            0.3333333333333333,
                            "#9c179e"
                          ],
                          [
                            0.4444444444444444,
                            "#bd3786"
                          ],
                          [
                            0.5555555555555556,
                            "#d8576b"
                          ],
                          [
                            0.6666666666666666,
                            "#ed7953"
                          ],
                          [
                            0.7777777777777778,
                            "#fb9f3a"
                          ],
                          [
                            0.8888888888888888,
                            "#fdca26"
                          ],
                          [
                            1,
                            "#f0f921"
                          ]
                        ],
                        "type": "surface"
                      }
                    ],
                    "table": [
                      {
                        "cells": {
                          "fill": {
                            "color": "#EBF0F8"
                          },
                          "line": {
                            "color": "white"
                          }
                        },
                        "header": {
                          "fill": {
                            "color": "#C8D4E3"
                          },
                          "line": {
                            "color": "white"
                          }
                        },
                        "type": "table"
                      }
                    ]
                  },
                  "layout": {
                    "annotationdefaults": {
                      "arrowcolor": "#2a3f5f",
                      "arrowhead": 0,
                      "arrowwidth": 1
                    },
                    "autotypenumbers": "strict",
                    "coloraxis": {
                      "colorbar": {
                        "outlinewidth": 0,
                        "ticks": ""
                      }
                    },
                    "colorscale": {
                      "diverging": [
                        [
                          0,
                          "#8e0152"
                        ],
                        [
                          0.1,
                          "#c51b7d"
                        ],
                        [
                          0.2,
                          "#de77ae"
                        ],
                        [
                          0.3,
                          "#f1b6da"
                        ],
                        [
                          0.4,
                          "#fde0ef"
                        ],
                        [
                          0.5,
                          "#f7f7f7"
                        ],
                        [
                          0.6,
                          "#e6f5d0"
                        ],
                        [
                          0.7,
                          "#b8e186"
                        ],
                        [
                          0.8,
                          "#7fbc41"
                        ],
                        [
                          0.9,
                          "#4d9221"
                        ],
                        [
                          1,
                          "#276419"
                        ]
                      ],
                      "sequential": [
                        [
                          0,
                          "#0d0887"
                        ],
                        [
                          0.1111111111111111,
                          "#46039f"
                        ],
                        [
                          0.2222222222222222,
                          "#7201a8"
                        ],
                        [
                          0.3333333333333333,
                          "#9c179e"
                        ],
                        [
                          0.4444444444444444,
                          "#bd3786"
                        ],
                        [
                          0.5555555555555556,
                          "#d8576b"
                        ],
                        [
                          0.6666666666666666,
                          "#ed7953"
                        ],
                        [
                          0.7777777777777778,
                          "#fb9f3a"
                        ],
                        [
                          0.8888888888888888,
                          "#fdca26"
                        ],
                        [
                          1,
                          "#f0f921"
                        ]
                      ],
                      "sequentialminus": [
                        [
                          0,
                          "#0d0887"
                        ],
                        [
                          0.1111111111111111,
                          "#46039f"
                        ],
                        [
                          0.2222222222222222,
                          "#7201a8"
                        ],
                        [
                          0.3333333333333333,
                          "#9c179e"
                        ],
                        [
                          0.4444444444444444,
                          "#bd3786"
                        ],
                        [
                          0.5555555555555556,
                          "#d8576b"
                        ],
                        [
                          0.6666666666666666,
                          "#ed7953"
                        ],
                        [
                          0.7777777777777778,
                          "#fb9f3a"
                        ],
                        [
                          0.8888888888888888,
                          "#fdca26"
                        ],
                        [
                          1,
                          "#f0f921"
                        ]
                      ]
                    },
                    "colorway": [
                      "#636efa",
                      "#EF553B",
                      "#00cc96",
                      "#ab63fa",
                      "#FFA15A",
                      "#19d3f3",
                      "#FF6692",
                      "#B6E880",
                      "#FF97FF",
                      "#FECB52"
                    ],
                    "font": {
                      "color": "#2a3f5f"
                    },
                    "geo": {
                      "bgcolor": "white",
                      "lakecolor": "white",
                      "landcolor": "#E5ECF6",
                      "showlakes": true,
                      "showland": true,
                      "subunitcolor": "white"
                    },
                    "hoverlabel": {
                      "align": "left"
                    },
                    "hovermode": "closest",
                    "mapbox": {
                      "style": "light"
                    },
                    "paper_bgcolor": "white",
                    "plot_bgcolor": "#E5ECF6",
                    "polar": {
                      "angularaxis": {
                        "gridcolor": "white",
                        "linecolor": "white",
                        "ticks": ""
                      },
                      "bgcolor": "#E5ECF6",
                      "radialaxis": {
                        "gridcolor": "white",
                        "linecolor": "white",
                        "ticks": ""
                      }
                    },
                    "scene": {
                      "xaxis": {
                        "backgroundcolor": "#E5ECF6",
                        "gridcolor": "white",
                        "gridwidth": 2,
                        "linecolor": "white",
                        "showbackground": true,
                        "ticks": "",
                        "zerolinecolor": "white"
                      },
                      "yaxis": {
                        "backgroundcolor": "#E5ECF6",
                        "gridcolor": "white",
                        "gridwidth": 2,
                        "linecolor": "white",
                        "showbackground": true,
                        "ticks": "",
                        "zerolinecolor": "white"
                      },
                      "zaxis": {
                        "backgroundcolor": "#E5ECF6",
                        "gridcolor": "white",
                        "gridwidth": 2,
                        "linecolor": "white",
                        "showbackground": true,
                        "ticks": "",
                        "zerolinecolor": "white"
                      }
                    },
                    "shapedefaults": {
                      "line": {
                        "color": "#2a3f5f"
                      }
                    },
                    "ternary": {
                      "aaxis": {
                        "gridcolor": "white",
                        "linecolor": "white",
                        "ticks": ""
                      },
                      "baxis": {
                        "gridcolor": "white",
                        "linecolor": "white",
                        "ticks": ""
                      },
                      "bgcolor": "#E5ECF6",
                      "caxis": {
                        "gridcolor": "white",
                        "linecolor": "white",
                        "ticks": ""
                      }
                    },
                    "title": {
                      "x": 0.05
                    },
                    "xaxis": {
                      "automargin": true,
                      "gridcolor": "white",
                      "linecolor": "white",
                      "ticks": "",
                      "title": {
                        "standoff": 15
                      },
                      "zerolinecolor": "white",
                      "zerolinewidth": 2
                    },
                    "yaxis": {
                      "automargin": true,
                      "gridcolor": "white",
                      "linecolor": "white",
                      "ticks": "",
                      "title": {
                        "standoff": 15
                      },
                      "zerolinecolor": "white",
                      "zerolinewidth": 2
                    }
                  }
                },
                "xaxis": {
                  "anchor": "y",
                  "domain": [
                    0,
                    1
                  ],
                  "title": {
                    "text": "age_group_start"
                  }
                },
                "yaxis": {
                  "anchor": "x",
                  "domain": [
                    0,
                    1
                  ],
                  "title": {
                    "text": "value"
                  }
                }
              }
            }
          },
          "metadata": {},
          "output_type": "display_data"
        }
      ],
      "source": [
        "px.line(\n",
        "    le_mean_absolute_error\n",
        "    [np.argmax([x.mae.max() for x in le_mean_absolute_error])]\n",
        "    .reset_index()\n",
        "    .query('sex_id == 1')\n",
        "    .set_index('age_group_start')\n",
        "    .sort_index()\n",
        "    [['val', 'E_x_val']]\n",
        ")"
      ]
    },
    {
      "cell_type": "code",
      "execution_count": null,
      "metadata": {
        "id": "eBJ6pVoxT4kp",
        "outputId": "fcf5116b-bc69-41b7-9b2d-5e56fa66e32f"
      },
      "outputs": [
        {
          "data": {
            "text/html": [
              "<div>\n",
              "<style scoped>\n",
              "    .dataframe tbody tr th:only-of-type {\n",
              "        vertical-align: middle;\n",
              "    }\n",
              "\n",
              "    .dataframe tbody tr th {\n",
              "        vertical-align: top;\n",
              "    }\n",
              "\n",
              "    .dataframe thead th {\n",
              "        text-align: right;\n",
              "    }\n",
              "</style>\n",
              "<table border=\"1\" class=\"dataframe\">\n",
              "  <thead>\n",
              "    <tr style=\"text-align: right;\">\n",
              "      <th></th>\n",
              "      <th>age_group_start</th>\n",
              "      <th>sex_id</th>\n",
              "      <th>E_x_val</th>\n",
              "      <th>location_id</th>\n",
              "      <th>excluded_rei_id</th>\n",
              "    </tr>\n",
              "  </thead>\n",
              "  <tbody>\n",
              "    <tr>\n",
              "      <th>0</th>\n",
              "      <td>0</td>\n",
              "      <td>1</td>\n",
              "      <td>74.658944</td>\n",
              "      <td>6</td>\n",
              "      <td>NaN</td>\n",
              "    </tr>\n",
              "    <tr>\n",
              "      <th>1</th>\n",
              "      <td>1</td>\n",
              "      <td>1</td>\n",
              "      <td>74.207007</td>\n",
              "      <td>6</td>\n",
              "      <td>NaN</td>\n",
              "    </tr>\n",
              "    <tr>\n",
              "      <th>2</th>\n",
              "      <td>2</td>\n",
              "      <td>1</td>\n",
              "      <td>73.240265</td>\n",
              "      <td>6</td>\n",
              "      <td>NaN</td>\n",
              "    </tr>\n",
              "    <tr>\n",
              "      <th>3</th>\n",
              "      <td>3</td>\n",
              "      <td>1</td>\n",
              "      <td>72.273087</td>\n",
              "      <td>6</td>\n",
              "      <td>NaN</td>\n",
              "    </tr>\n",
              "    <tr>\n",
              "      <th>4</th>\n",
              "      <td>4</td>\n",
              "      <td>1</td>\n",
              "      <td>71.305473</td>\n",
              "      <td>6</td>\n",
              "      <td>NaN</td>\n",
              "    </tr>\n",
              "    <tr>\n",
              "      <th>...</th>\n",
              "      <td>...</td>\n",
              "      <td>...</td>\n",
              "      <td>...</td>\n",
              "      <td>...</td>\n",
              "      <td>...</td>\n",
              "    </tr>\n",
              "    <tr>\n",
              "      <th>203</th>\n",
              "      <td>91</td>\n",
              "      <td>2</td>\n",
              "      <td>3.915640</td>\n",
              "      <td>374</td>\n",
              "      <td>NaN</td>\n",
              "    </tr>\n",
              "    <tr>\n",
              "      <th>204</th>\n",
              "      <td>92</td>\n",
              "      <td>2</td>\n",
              "      <td>3.762522</td>\n",
              "      <td>374</td>\n",
              "      <td>NaN</td>\n",
              "    </tr>\n",
              "    <tr>\n",
              "      <th>205</th>\n",
              "      <td>93</td>\n",
              "      <td>2</td>\n",
              "      <td>3.571439</td>\n",
              "      <td>374</td>\n",
              "      <td>NaN</td>\n",
              "    </tr>\n",
              "    <tr>\n",
              "      <th>206</th>\n",
              "      <td>94</td>\n",
              "      <td>2</td>\n",
              "      <td>3.332979</td>\n",
              "      <td>374</td>\n",
              "      <td>NaN</td>\n",
              "    </tr>\n",
              "    <tr>\n",
              "      <th>207</th>\n",
              "      <td>95</td>\n",
              "      <td>2</td>\n",
              "      <td>3.035395</td>\n",
              "      <td>374</td>\n",
              "      <td>NaN</td>\n",
              "    </tr>\n",
              "  </tbody>\n",
              "</table>\n",
              "<p>39168 rows × 5 columns</p>\n",
              "</div>"
            ],
            "text/plain": [
              "     age_group_start  sex_id    E_x_val  location_id  excluded_rei_id\n",
              "0                  0       1  74.658944            6              NaN\n",
              "1                  1       1  74.207007            6              NaN\n",
              "2                  2       1  73.240265            6              NaN\n",
              "3                  3       1  72.273087            6              NaN\n",
              "4                  4       1  71.305473            6              NaN\n",
              "..               ...     ...        ...          ...              ...\n",
              "203               91       2   3.915640          374              NaN\n",
              "204               92       2   3.762522          374              NaN\n",
              "205               93       2   3.571439          374              NaN\n",
              "206               94       2   3.332979          374              NaN\n",
              "207               95       2   3.035395          374              NaN\n",
              "\n",
              "[39168 rows x 5 columns]"
            ]
          },
          "execution_count": 78,
          "metadata": {},
          "output_type": "execute_result"
        }
      ],
      "source": [
        "le_calculated_all_countries_df"
      ]
    },
    {
      "cell_type": "markdown",
      "metadata": {
        "id": "ldFx7k8cT4kp"
      },
      "source": [
        "### Calculate life expectancy extension by risk excluding"
      ]
    },
    {
      "cell_type": "code",
      "execution_count": null,
      "metadata": {
        "id": "qMZIDATyT4kp",
        "outputId": "f06faddb-4a6a-4f8a-eb7e-f000388f972a"
      },
      "outputs": [
        {
          "data": {
            "text/plain": [
              "39168"
            ]
          },
          "execution_count": 94,
          "metadata": {},
          "output_type": "execute_result"
        }
      ],
      "source": [
        "len(le_calculated_all_countries_df)"
      ]
    },
    {
      "cell_type": "code",
      "execution_count": null,
      "metadata": {
        "id": "CYWSmgETT4kp",
        "outputId": "ec5fa6af-aea4-432c-80f0-28cd2049153d"
      },
      "outputs": [
        {
          "data": {
            "text/plain": [
              "39168.0"
            ]
          },
          "execution_count": 98,
          "metadata": {},
          "output_type": "execute_result"
        }
      ],
      "source": [
        "len(le_calculated_risk_excluded_all_countries_df) / le_calculated_risk_excluded_all_countries_df.excluded_rei_id.nunique()"
      ]
    },
    {
      "cell_type": "code",
      "execution_count": null,
      "metadata": {
        "id": "FU1Y_devT4kq",
        "outputId": "a01b1bcf-d9ab-4c56-80ae-a0b7fb05866f"
      },
      "outputs": [
        {
          "data": {
            "text/plain": [
              "age_group_start    0.0\n",
              "sex_id             0.0\n",
              "E_x_val            0.0\n",
              "location_id        0.0\n",
              "excluded_rei_id    0.0\n",
              "dtype: float64"
            ]
          },
          "execution_count": 90,
          "metadata": {},
          "output_type": "execute_result"
        }
      ],
      "source": [
        "(\n",
        "    le_calculated_risk_excluded_all_countries_df.isna().sum()\n",
        "    /\n",
        "    len(le_calculated_risk_excluded_all_countries_df)\n",
        ")"
      ]
    },
    {
      "cell_type": "code",
      "execution_count": null,
      "metadata": {
        "id": "Nl9f2SQBT4kq",
        "outputId": "ca1bbbdf-829d-4d2c-c33c-a198b0091778"
      },
      "outputs": [
        {
          "data": {
            "text/html": [
              "<div>\n",
              "<style scoped>\n",
              "    .dataframe tbody tr th:only-of-type {\n",
              "        vertical-align: middle;\n",
              "    }\n",
              "\n",
              "    .dataframe tbody tr th {\n",
              "        vertical-align: top;\n",
              "    }\n",
              "\n",
              "    .dataframe thead th {\n",
              "        text-align: right;\n",
              "    }\n",
              "</style>\n",
              "<table border=\"1\" class=\"dataframe\">\n",
              "  <thead>\n",
              "    <tr style=\"text-align: right;\">\n",
              "      <th></th>\n",
              "      <th>age_group_start</th>\n",
              "      <th>sex_id</th>\n",
              "      <th>E_x_val</th>\n",
              "      <th>location_id</th>\n",
              "      <th>excluded_rei_id</th>\n",
              "    </tr>\n",
              "  </thead>\n",
              "  <tbody>\n",
              "    <tr>\n",
              "      <th>0</th>\n",
              "      <td>0</td>\n",
              "      <td>1</td>\n",
              "      <td>74.658944</td>\n",
              "      <td>6</td>\n",
              "      <td>NaN</td>\n",
              "    </tr>\n",
              "    <tr>\n",
              "      <th>1</th>\n",
              "      <td>1</td>\n",
              "      <td>1</td>\n",
              "      <td>74.207007</td>\n",
              "      <td>6</td>\n",
              "      <td>NaN</td>\n",
              "    </tr>\n",
              "    <tr>\n",
              "      <th>2</th>\n",
              "      <td>2</td>\n",
              "      <td>1</td>\n",
              "      <td>73.240265</td>\n",
              "      <td>6</td>\n",
              "      <td>NaN</td>\n",
              "    </tr>\n",
              "    <tr>\n",
              "      <th>3</th>\n",
              "      <td>3</td>\n",
              "      <td>1</td>\n",
              "      <td>72.273087</td>\n",
              "      <td>6</td>\n",
              "      <td>NaN</td>\n",
              "    </tr>\n",
              "    <tr>\n",
              "      <th>4</th>\n",
              "      <td>4</td>\n",
              "      <td>1</td>\n",
              "      <td>71.305473</td>\n",
              "      <td>6</td>\n",
              "      <td>NaN</td>\n",
              "    </tr>\n",
              "    <tr>\n",
              "      <th>...</th>\n",
              "      <td>...</td>\n",
              "      <td>...</td>\n",
              "      <td>...</td>\n",
              "      <td>...</td>\n",
              "      <td>...</td>\n",
              "    </tr>\n",
              "    <tr>\n",
              "      <th>203</th>\n",
              "      <td>91</td>\n",
              "      <td>2</td>\n",
              "      <td>3.915640</td>\n",
              "      <td>374</td>\n",
              "      <td>NaN</td>\n",
              "    </tr>\n",
              "    <tr>\n",
              "      <th>204</th>\n",
              "      <td>92</td>\n",
              "      <td>2</td>\n",
              "      <td>3.762522</td>\n",
              "      <td>374</td>\n",
              "      <td>NaN</td>\n",
              "    </tr>\n",
              "    <tr>\n",
              "      <th>205</th>\n",
              "      <td>93</td>\n",
              "      <td>2</td>\n",
              "      <td>3.571439</td>\n",
              "      <td>374</td>\n",
              "      <td>NaN</td>\n",
              "    </tr>\n",
              "    <tr>\n",
              "      <th>206</th>\n",
              "      <td>94</td>\n",
              "      <td>2</td>\n",
              "      <td>3.332979</td>\n",
              "      <td>374</td>\n",
              "      <td>NaN</td>\n",
              "    </tr>\n",
              "    <tr>\n",
              "      <th>207</th>\n",
              "      <td>95</td>\n",
              "      <td>2</td>\n",
              "      <td>3.035395</td>\n",
              "      <td>374</td>\n",
              "      <td>NaN</td>\n",
              "    </tr>\n",
              "  </tbody>\n",
              "</table>\n",
              "<p>39168 rows × 5 columns</p>\n",
              "</div>"
            ],
            "text/plain": [
              "     age_group_start  sex_id    E_x_val  location_id  excluded_rei_id\n",
              "0                  0       1  74.658944            6              NaN\n",
              "1                  1       1  74.207007            6              NaN\n",
              "2                  2       1  73.240265            6              NaN\n",
              "3                  3       1  72.273087            6              NaN\n",
              "4                  4       1  71.305473            6              NaN\n",
              "..               ...     ...        ...          ...              ...\n",
              "203               91       2   3.915640          374              NaN\n",
              "204               92       2   3.762522          374              NaN\n",
              "205               93       2   3.571439          374              NaN\n",
              "206               94       2   3.332979          374              NaN\n",
              "207               95       2   3.035395          374              NaN\n",
              "\n",
              "[39168 rows x 5 columns]"
            ]
          },
          "execution_count": 100,
          "metadata": {},
          "output_type": "execute_result"
        }
      ],
      "source": [
        "le_calculated_all_countries_df"
      ]
    },
    {
      "cell_type": "code",
      "execution_count": null,
      "metadata": {
        "id": "ZOBHNUnTT4kq"
      },
      "outputs": [],
      "source": [
        "le_calculated_risk_excluded_all_countries_df = (\n",
        "    le_calculated_risk_excluded_all_countries_df\n",
        "    .set_index(\n",
        "        [\n",
        "            'location_id',\n",
        "            'age_group_start',\n",
        "            'sex_id',\n",
        "        ]\n",
        "    )\n",
        "    .join(\n",
        "        le_calculated_all_countries_df\n",
        "        .set_index(\n",
        "            [\n",
        "                'location_id',\n",
        "                'age_group_start',\n",
        "                'sex_id',\n",
        "            ]\n",
        "        )\n",
        "        [['E_x_val']],\n",
        "        rsuffix='_source',\n",
        "        how='outer'\n",
        "    )\n",
        "    .assign(\n",
        "        E_x_diff = lambda x: x.E_x_val - x.E_x_val_source\n",
        "    )\n",
        "    .reset_index()\n",
        ")"
      ]
    },
    {
      "cell_type": "code",
      "execution_count": null,
      "metadata": {
        "id": "dliS81RoT4kq"
      },
      "outputs": [],
      "source": [
        "le_calculated_risk_excluded_all_countries_df."
      ]
    },
    {
      "cell_type": "code",
      "execution_count": null,
      "metadata": {
        "id": "ppw-7-jbT4kr"
      },
      "outputs": [],
      "source": [
        "life_expectancy_interpolated = data_interpolate_inside_age_groups(\n",
        "    data=life_expectancy,\n",
        "    start_age_column='age_group_start',\n",
        "    columns_to_interpolate=['val'],\n",
        "    val_columns=['val'],\n",
        "    columns_for_subsample=['location_id', 'sex_id'],\n",
        "    columns_for_subsample_is_string=False,\n",
        "    age_max=111,\n",
        "    age_max_value=0,\n",
        "    method='linear',\n",
        "    divide=False,\n",
        ")"
      ]
    },
    {
      "cell_type": "code",
      "execution_count": null,
      "metadata": {
        "id": "QSQOIgorT4kr"
      },
      "outputs": [],
      "source": [
        "life_expectancy_interpolated.reset_index(inplace=True)\n",
        "\n",
        "life_expectancy_interpolated.columns = ['age_group_start',  'val', 'location_id', 'sex_id']\n",
        "life_expectancy_interpolated = life_expectancy_interpolated[['location_id', 'age_group_start', 'sex_id', 'val']]"
      ]
    },
    {
      "cell_type": "code",
      "execution_count": null,
      "metadata": {
        "id": "HfPJ5lu_T4kr"
      },
      "outputs": [],
      "source": [
        "life_expectancy_interpolated = life_expectancy_interpolated.query('age_group_start <= 110')"
      ]
    },
    {
      "cell_type": "code",
      "execution_count": null,
      "metadata": {
        "id": "a5nDwcfVT4kr",
        "outputId": "67ebd2a2-7d54-46d5-ff29-dbb833f3a281"
      },
      "outputs": [
        {
          "data": {
            "application/vnd.plotly.v1+json": {
              "config": {
                "plotlyServerURL": "https://plot.ly"
              },
              "data": [
                {
                  "hovertemplate": "variable=val<br>age_group_start=%{x}<br>value=%{y}<extra></extra>",
                  "legendgroup": "val",
                  "line": {
                    "color": "#636efa",
                    "dash": "solid"
                  },
                  "marker": {
                    "symbol": "circle"
                  },
                  "mode": "markers+lines",
                  "name": "val",
                  "orientation": "v",
                  "showlegend": true,
                  "type": "scatter",
                  "x": [
                    0,
                    1,
                    2,
                    3,
                    4,
                    5,
                    6,
                    7,
                    8,
                    9,
                    10,
                    11,
                    12,
                    13,
                    14,
                    15,
                    16,
                    17,
                    18,
                    19,
                    20,
                    21,
                    22,
                    23,
                    24,
                    25,
                    26,
                    27,
                    28,
                    29,
                    30,
                    31,
                    32,
                    33,
                    34,
                    35,
                    36,
                    37,
                    38,
                    39,
                    40,
                    41,
                    42,
                    43,
                    44,
                    45,
                    46,
                    47,
                    48,
                    49,
                    50,
                    51,
                    52,
                    53,
                    54,
                    55,
                    56,
                    57,
                    58,
                    59,
                    60,
                    61,
                    62,
                    63,
                    64,
                    65,
                    66,
                    67,
                    68,
                    69,
                    70,
                    71,
                    72,
                    73,
                    74,
                    75,
                    76,
                    77,
                    78,
                    79,
                    80,
                    81,
                    82,
                    83,
                    84,
                    85,
                    86,
                    87,
                    88,
                    89,
                    90,
                    91,
                    92,
                    93,
                    94,
                    95,
                    96,
                    97,
                    98,
                    99,
                    100,
                    101,
                    102,
                    103,
                    104,
                    105,
                    106,
                    107,
                    108,
                    109,
                    110
                  ],
                  "xaxis": "x",
                  "y": [
                    78.92010186218383,
                    78.15600475194135,
                    null,
                    null,
                    null,
                    74.20138767913336,
                    null,
                    null,
                    null,
                    null,
                    69.23022055226373,
                    null,
                    null,
                    null,
                    null,
                    64.25987733139566,
                    null,
                    null,
                    null,
                    null,
                    59.35813109513133,
                    null,
                    null,
                    null,
                    null,
                    54.5017732884302,
                    null,
                    null,
                    null,
                    null,
                    49.64550044242081,
                    null,
                    null,
                    null,
                    null,
                    44.81105643832046,
                    null,
                    null,
                    null,
                    null,
                    40.01369426944401,
                    null,
                    null,
                    null,
                    null,
                    35.301128573828095,
                    null,
                    null,
                    null,
                    null,
                    30.7169811722685,
                    null,
                    null,
                    null,
                    null,
                    26.3199038711985,
                    null,
                    null,
                    null,
                    null,
                    22.15709621398163,
                    null,
                    null,
                    null,
                    null,
                    18.26568552441114,
                    null,
                    null,
                    null,
                    null,
                    14.61171647477534,
                    null,
                    null,
                    null,
                    null,
                    11.311260141773838,
                    null,
                    null,
                    null,
                    null,
                    8.327434982304721,
                    null,
                    null,
                    null,
                    null,
                    5.906423708597658,
                    null,
                    null,
                    null,
                    null,
                    4.135504637181148,
                    null,
                    null,
                    null,
                    null,
                    2.995171943762704,
                    null,
                    null,
                    null,
                    null,
                    2.268956988713925,
                    null,
                    null,
                    null,
                    null,
                    1.8161707642693377,
                    null,
                    null,
                    null,
                    null,
                    1.4476552807998673
                  ],
                  "yaxis": "y"
                },
                {
                  "hovertemplate": "variable=val_interpolated<br>age_group_start=%{x}<br>value=%{y}<extra></extra>",
                  "legendgroup": "val_interpolated",
                  "line": {
                    "color": "#EF553B",
                    "dash": "solid"
                  },
                  "marker": {
                    "symbol": "circle"
                  },
                  "mode": "markers+lines",
                  "name": "val_interpolated",
                  "orientation": "v",
                  "showlegend": true,
                  "type": "scatter",
                  "x": [
                    0,
                    1,
                    2,
                    3,
                    4,
                    5,
                    6,
                    7,
                    8,
                    9,
                    10,
                    11,
                    12,
                    13,
                    14,
                    15,
                    16,
                    17,
                    18,
                    19,
                    20,
                    21,
                    22,
                    23,
                    24,
                    25,
                    26,
                    27,
                    28,
                    29,
                    30,
                    31,
                    32,
                    33,
                    34,
                    35,
                    36,
                    37,
                    38,
                    39,
                    40,
                    41,
                    42,
                    43,
                    44,
                    45,
                    46,
                    47,
                    48,
                    49,
                    50,
                    51,
                    52,
                    53,
                    54,
                    55,
                    56,
                    57,
                    58,
                    59,
                    60,
                    61,
                    62,
                    63,
                    64,
                    65,
                    66,
                    67,
                    68,
                    69,
                    70,
                    71,
                    72,
                    73,
                    74,
                    75,
                    76,
                    77,
                    78,
                    79,
                    80,
                    81,
                    82,
                    83,
                    84,
                    85,
                    86,
                    87,
                    88,
                    89,
                    90,
                    91,
                    92,
                    93,
                    94,
                    95,
                    96,
                    97,
                    98,
                    99,
                    100,
                    101,
                    102,
                    103,
                    104,
                    105,
                    106,
                    107,
                    108,
                    109,
                    110
                  ],
                  "xaxis": "x",
                  "y": [
                    78.92010186218383,
                    78.15600475194135,
                    77.16735048373936,
                    76.17869621553736,
                    75.19004194733536,
                    74.20138767913336,
                    73.20715425375944,
                    72.2129208283855,
                    71.21868740301159,
                    70.22445397763765,
                    69.23022055226373,
                    68.23615190809012,
                    67.2420832639165,
                    66.24801461974289,
                    65.25394597556927,
                    64.25987733139566,
                    63.27952808414279,
                    62.29917883688992,
                    61.31882958963706,
                    60.338480342384194,
                    59.35813109513133,
                    58.3868595337911,
                    57.41558797245088,
                    56.44431641111065,
                    55.473044849770424,
                    54.5017732884302,
                    53.530518719228326,
                    52.55926415002644,
                    51.58800958082457,
                    50.616755011622686,
                    49.64550044242081,
                    48.67861164160074,
                    47.71172284078067,
                    46.7448340399606,
                    45.777945239140536,
                    44.81105643832046,
                    43.851584004545174,
                    42.892111570769885,
                    41.93263913699459,
                    40.9731667032193,
                    40.01369426944401,
                    39.071181130320824,
                    38.128667991197645,
                    37.18615485207446,
                    36.24364171295128,
                    35.301128573828095,
                    34.38429909351618,
                    33.46746961320426,
                    32.55064013289234,
                    31.63381065258042,
                    30.7169811722685,
                    29.8375657120545,
                    28.9581502518405,
                    28.0787347916265,
                    27.1993193314125,
                    26.3199038711985,
                    25.487342339755124,
                    24.654780808311752,
                    23.822219276868378,
                    22.989657745425006,
                    22.15709621398163,
                    21.378814076067535,
                    20.600531938153434,
                    19.822249800239337,
                    19.043967662325237,
                    18.26568552441114,
                    17.53489171448398,
                    16.80409790455682,
                    16.07330409462966,
                    15.3425102847025,
                    14.61171647477534,
                    13.95162520817504,
                    13.29153394157474,
                    12.631442674974439,
                    11.971351408374138,
                    11.311260141773838,
                    10.714495109880014,
                    10.117730077986192,
                    9.520965046092368,
                    8.924200014198544,
                    8.327434982304721,
                    7.843232727563309,
                    7.359030472821896,
                    6.874828218080483,
                    6.390625963339071,
                    5.906423708597658,
                    5.552239894314356,
                    5.198056080031054,
                    4.843872265747752,
                    4.48968845146445,
                    4.135504637181148,
                    3.907438098497459,
                    3.67937155981377,
                    3.4513050211300813,
                    3.223238482446393,
                    2.995171943762704,
                    2.8499289527529483,
                    2.7046859617431926,
                    2.5594429707334365,
                    2.414199979723681,
                    2.268956988713925,
                    2.1783997438250076,
                    2.08784249893609,
                    1.9972852540471726,
                    1.9067280091582552,
                    1.8161707642693377,
                    1.7424676675754436,
                    1.6687645708815495,
                    1.5950614741876554,
                    1.5213583774937613,
                    1.4476552807998673
                  ],
                  "yaxis": "y"
                }
              ],
              "layout": {
                "legend": {
                  "title": {
                    "text": "variable"
                  },
                  "tracegroupgap": 0
                },
                "margin": {
                  "t": 60
                },
                "template": {
                  "data": {
                    "bar": [
                      {
                        "error_x": {
                          "color": "#2a3f5f"
                        },
                        "error_y": {
                          "color": "#2a3f5f"
                        },
                        "marker": {
                          "line": {
                            "color": "#E5ECF6",
                            "width": 0.5
                          },
                          "pattern": {
                            "fillmode": "overlay",
                            "size": 10,
                            "solidity": 0.2
                          }
                        },
                        "type": "bar"
                      }
                    ],
                    "barpolar": [
                      {
                        "marker": {
                          "line": {
                            "color": "#E5ECF6",
                            "width": 0.5
                          },
                          "pattern": {
                            "fillmode": "overlay",
                            "size": 10,
                            "solidity": 0.2
                          }
                        },
                        "type": "barpolar"
                      }
                    ],
                    "carpet": [
                      {
                        "aaxis": {
                          "endlinecolor": "#2a3f5f",
                          "gridcolor": "white",
                          "linecolor": "white",
                          "minorgridcolor": "white",
                          "startlinecolor": "#2a3f5f"
                        },
                        "baxis": {
                          "endlinecolor": "#2a3f5f",
                          "gridcolor": "white",
                          "linecolor": "white",
                          "minorgridcolor": "white",
                          "startlinecolor": "#2a3f5f"
                        },
                        "type": "carpet"
                      }
                    ],
                    "choropleth": [
                      {
                        "colorbar": {
                          "outlinewidth": 0,
                          "ticks": ""
                        },
                        "type": "choropleth"
                      }
                    ],
                    "contour": [
                      {
                        "colorbar": {
                          "outlinewidth": 0,
                          "ticks": ""
                        },
                        "colorscale": [
                          [
                            0,
                            "#0d0887"
                          ],
                          [
                            0.1111111111111111,
                            "#46039f"
                          ],
                          [
                            0.2222222222222222,
                            "#7201a8"
                          ],
                          [
                            0.3333333333333333,
                            "#9c179e"
                          ],
                          [
                            0.4444444444444444,
                            "#bd3786"
                          ],
                          [
                            0.5555555555555556,
                            "#d8576b"
                          ],
                          [
                            0.6666666666666666,
                            "#ed7953"
                          ],
                          [
                            0.7777777777777778,
                            "#fb9f3a"
                          ],
                          [
                            0.8888888888888888,
                            "#fdca26"
                          ],
                          [
                            1,
                            "#f0f921"
                          ]
                        ],
                        "type": "contour"
                      }
                    ],
                    "contourcarpet": [
                      {
                        "colorbar": {
                          "outlinewidth": 0,
                          "ticks": ""
                        },
                        "type": "contourcarpet"
                      }
                    ],
                    "heatmap": [
                      {
                        "colorbar": {
                          "outlinewidth": 0,
                          "ticks": ""
                        },
                        "colorscale": [
                          [
                            0,
                            "#0d0887"
                          ],
                          [
                            0.1111111111111111,
                            "#46039f"
                          ],
                          [
                            0.2222222222222222,
                            "#7201a8"
                          ],
                          [
                            0.3333333333333333,
                            "#9c179e"
                          ],
                          [
                            0.4444444444444444,
                            "#bd3786"
                          ],
                          [
                            0.5555555555555556,
                            "#d8576b"
                          ],
                          [
                            0.6666666666666666,
                            "#ed7953"
                          ],
                          [
                            0.7777777777777778,
                            "#fb9f3a"
                          ],
                          [
                            0.8888888888888888,
                            "#fdca26"
                          ],
                          [
                            1,
                            "#f0f921"
                          ]
                        ],
                        "type": "heatmap"
                      }
                    ],
                    "heatmapgl": [
                      {
                        "colorbar": {
                          "outlinewidth": 0,
                          "ticks": ""
                        },
                        "colorscale": [
                          [
                            0,
                            "#0d0887"
                          ],
                          [
                            0.1111111111111111,
                            "#46039f"
                          ],
                          [
                            0.2222222222222222,
                            "#7201a8"
                          ],
                          [
                            0.3333333333333333,
                            "#9c179e"
                          ],
                          [
                            0.4444444444444444,
                            "#bd3786"
                          ],
                          [
                            0.5555555555555556,
                            "#d8576b"
                          ],
                          [
                            0.6666666666666666,
                            "#ed7953"
                          ],
                          [
                            0.7777777777777778,
                            "#fb9f3a"
                          ],
                          [
                            0.8888888888888888,
                            "#fdca26"
                          ],
                          [
                            1,
                            "#f0f921"
                          ]
                        ],
                        "type": "heatmapgl"
                      }
                    ],
                    "histogram": [
                      {
                        "marker": {
                          "pattern": {
                            "fillmode": "overlay",
                            "size": 10,
                            "solidity": 0.2
                          }
                        },
                        "type": "histogram"
                      }
                    ],
                    "histogram2d": [
                      {
                        "colorbar": {
                          "outlinewidth": 0,
                          "ticks": ""
                        },
                        "colorscale": [
                          [
                            0,
                            "#0d0887"
                          ],
                          [
                            0.1111111111111111,
                            "#46039f"
                          ],
                          [
                            0.2222222222222222,
                            "#7201a8"
                          ],
                          [
                            0.3333333333333333,
                            "#9c179e"
                          ],
                          [
                            0.4444444444444444,
                            "#bd3786"
                          ],
                          [
                            0.5555555555555556,
                            "#d8576b"
                          ],
                          [
                            0.6666666666666666,
                            "#ed7953"
                          ],
                          [
                            0.7777777777777778,
                            "#fb9f3a"
                          ],
                          [
                            0.8888888888888888,
                            "#fdca26"
                          ],
                          [
                            1,
                            "#f0f921"
                          ]
                        ],
                        "type": "histogram2d"
                      }
                    ],
                    "histogram2dcontour": [
                      {
                        "colorbar": {
                          "outlinewidth": 0,
                          "ticks": ""
                        },
                        "colorscale": [
                          [
                            0,
                            "#0d0887"
                          ],
                          [
                            0.1111111111111111,
                            "#46039f"
                          ],
                          [
                            0.2222222222222222,
                            "#7201a8"
                          ],
                          [
                            0.3333333333333333,
                            "#9c179e"
                          ],
                          [
                            0.4444444444444444,
                            "#bd3786"
                          ],
                          [
                            0.5555555555555556,
                            "#d8576b"
                          ],
                          [
                            0.6666666666666666,
                            "#ed7953"
                          ],
                          [
                            0.7777777777777778,
                            "#fb9f3a"
                          ],
                          [
                            0.8888888888888888,
                            "#fdca26"
                          ],
                          [
                            1,
                            "#f0f921"
                          ]
                        ],
                        "type": "histogram2dcontour"
                      }
                    ],
                    "mesh3d": [
                      {
                        "colorbar": {
                          "outlinewidth": 0,
                          "ticks": ""
                        },
                        "type": "mesh3d"
                      }
                    ],
                    "parcoords": [
                      {
                        "line": {
                          "colorbar": {
                            "outlinewidth": 0,
                            "ticks": ""
                          }
                        },
                        "type": "parcoords"
                      }
                    ],
                    "pie": [
                      {
                        "automargin": true,
                        "type": "pie"
                      }
                    ],
                    "scatter": [
                      {
                        "fillpattern": {
                          "fillmode": "overlay",
                          "size": 10,
                          "solidity": 0.2
                        },
                        "type": "scatter"
                      }
                    ],
                    "scatter3d": [
                      {
                        "line": {
                          "colorbar": {
                            "outlinewidth": 0,
                            "ticks": ""
                          }
                        },
                        "marker": {
                          "colorbar": {
                            "outlinewidth": 0,
                            "ticks": ""
                          }
                        },
                        "type": "scatter3d"
                      }
                    ],
                    "scattercarpet": [
                      {
                        "marker": {
                          "colorbar": {
                            "outlinewidth": 0,
                            "ticks": ""
                          }
                        },
                        "type": "scattercarpet"
                      }
                    ],
                    "scattergeo": [
                      {
                        "marker": {
                          "colorbar": {
                            "outlinewidth": 0,
                            "ticks": ""
                          }
                        },
                        "type": "scattergeo"
                      }
                    ],
                    "scattergl": [
                      {
                        "marker": {
                          "colorbar": {
                            "outlinewidth": 0,
                            "ticks": ""
                          }
                        },
                        "type": "scattergl"
                      }
                    ],
                    "scattermapbox": [
                      {
                        "marker": {
                          "colorbar": {
                            "outlinewidth": 0,
                            "ticks": ""
                          }
                        },
                        "type": "scattermapbox"
                      }
                    ],
                    "scatterpolar": [
                      {
                        "marker": {
                          "colorbar": {
                            "outlinewidth": 0,
                            "ticks": ""
                          }
                        },
                        "type": "scatterpolar"
                      }
                    ],
                    "scatterpolargl": [
                      {
                        "marker": {
                          "colorbar": {
                            "outlinewidth": 0,
                            "ticks": ""
                          }
                        },
                        "type": "scatterpolargl"
                      }
                    ],
                    "scatterternary": [
                      {
                        "marker": {
                          "colorbar": {
                            "outlinewidth": 0,
                            "ticks": ""
                          }
                        },
                        "type": "scatterternary"
                      }
                    ],
                    "surface": [
                      {
                        "colorbar": {
                          "outlinewidth": 0,
                          "ticks": ""
                        },
                        "colorscale": [
                          [
                            0,
                            "#0d0887"
                          ],
                          [
                            0.1111111111111111,
                            "#46039f"
                          ],
                          [
                            0.2222222222222222,
                            "#7201a8"
                          ],
                          [
                            0.3333333333333333,
                            "#9c179e"
                          ],
                          [
                            0.4444444444444444,
                            "#bd3786"
                          ],
                          [
                            0.5555555555555556,
                            "#d8576b"
                          ],
                          [
                            0.6666666666666666,
                            "#ed7953"
                          ],
                          [
                            0.7777777777777778,
                            "#fb9f3a"
                          ],
                          [
                            0.8888888888888888,
                            "#fdca26"
                          ],
                          [
                            1,
                            "#f0f921"
                          ]
                        ],
                        "type": "surface"
                      }
                    ],
                    "table": [
                      {
                        "cells": {
                          "fill": {
                            "color": "#EBF0F8"
                          },
                          "line": {
                            "color": "white"
                          }
                        },
                        "header": {
                          "fill": {
                            "color": "#C8D4E3"
                          },
                          "line": {
                            "color": "white"
                          }
                        },
                        "type": "table"
                      }
                    ]
                  },
                  "layout": {
                    "annotationdefaults": {
                      "arrowcolor": "#2a3f5f",
                      "arrowhead": 0,
                      "arrowwidth": 1
                    },
                    "autotypenumbers": "strict",
                    "coloraxis": {
                      "colorbar": {
                        "outlinewidth": 0,
                        "ticks": ""
                      }
                    },
                    "colorscale": {
                      "diverging": [
                        [
                          0,
                          "#8e0152"
                        ],
                        [
                          0.1,
                          "#c51b7d"
                        ],
                        [
                          0.2,
                          "#de77ae"
                        ],
                        [
                          0.3,
                          "#f1b6da"
                        ],
                        [
                          0.4,
                          "#fde0ef"
                        ],
                        [
                          0.5,
                          "#f7f7f7"
                        ],
                        [
                          0.6,
                          "#e6f5d0"
                        ],
                        [
                          0.7,
                          "#b8e186"
                        ],
                        [
                          0.8,
                          "#7fbc41"
                        ],
                        [
                          0.9,
                          "#4d9221"
                        ],
                        [
                          1,
                          "#276419"
                        ]
                      ],
                      "sequential": [
                        [
                          0,
                          "#0d0887"
                        ],
                        [
                          0.1111111111111111,
                          "#46039f"
                        ],
                        [
                          0.2222222222222222,
                          "#7201a8"
                        ],
                        [
                          0.3333333333333333,
                          "#9c179e"
                        ],
                        [
                          0.4444444444444444,
                          "#bd3786"
                        ],
                        [
                          0.5555555555555556,
                          "#d8576b"
                        ],
                        [
                          0.6666666666666666,
                          "#ed7953"
                        ],
                        [
                          0.7777777777777778,
                          "#fb9f3a"
                        ],
                        [
                          0.8888888888888888,
                          "#fdca26"
                        ],
                        [
                          1,
                          "#f0f921"
                        ]
                      ],
                      "sequentialminus": [
                        [
                          0,
                          "#0d0887"
                        ],
                        [
                          0.1111111111111111,
                          "#46039f"
                        ],
                        [
                          0.2222222222222222,
                          "#7201a8"
                        ],
                        [
                          0.3333333333333333,
                          "#9c179e"
                        ],
                        [
                          0.4444444444444444,
                          "#bd3786"
                        ],
                        [
                          0.5555555555555556,
                          "#d8576b"
                        ],
                        [
                          0.6666666666666666,
                          "#ed7953"
                        ],
                        [
                          0.7777777777777778,
                          "#fb9f3a"
                        ],
                        [
                          0.8888888888888888,
                          "#fdca26"
                        ],
                        [
                          1,
                          "#f0f921"
                        ]
                      ]
                    },
                    "colorway": [
                      "#636efa",
                      "#EF553B",
                      "#00cc96",
                      "#ab63fa",
                      "#FFA15A",
                      "#19d3f3",
                      "#FF6692",
                      "#B6E880",
                      "#FF97FF",
                      "#FECB52"
                    ],
                    "font": {
                      "color": "#2a3f5f"
                    },
                    "geo": {
                      "bgcolor": "white",
                      "lakecolor": "white",
                      "landcolor": "#E5ECF6",
                      "showlakes": true,
                      "showland": true,
                      "subunitcolor": "white"
                    },
                    "hoverlabel": {
                      "align": "left"
                    },
                    "hovermode": "closest",
                    "mapbox": {
                      "style": "light"
                    },
                    "paper_bgcolor": "white",
                    "plot_bgcolor": "#E5ECF6",
                    "polar": {
                      "angularaxis": {
                        "gridcolor": "white",
                        "linecolor": "white",
                        "ticks": ""
                      },
                      "bgcolor": "#E5ECF6",
                      "radialaxis": {
                        "gridcolor": "white",
                        "linecolor": "white",
                        "ticks": ""
                      }
                    },
                    "scene": {
                      "xaxis": {
                        "backgroundcolor": "#E5ECF6",
                        "gridcolor": "white",
                        "gridwidth": 2,
                        "linecolor": "white",
                        "showbackground": true,
                        "ticks": "",
                        "zerolinecolor": "white"
                      },
                      "yaxis": {
                        "backgroundcolor": "#E5ECF6",
                        "gridcolor": "white",
                        "gridwidth": 2,
                        "linecolor": "white",
                        "showbackground": true,
                        "ticks": "",
                        "zerolinecolor": "white"
                      },
                      "zaxis": {
                        "backgroundcolor": "#E5ECF6",
                        "gridcolor": "white",
                        "gridwidth": 2,
                        "linecolor": "white",
                        "showbackground": true,
                        "ticks": "",
                        "zerolinecolor": "white"
                      }
                    },
                    "shapedefaults": {
                      "line": {
                        "color": "#2a3f5f"
                      }
                    },
                    "ternary": {
                      "aaxis": {
                        "gridcolor": "white",
                        "linecolor": "white",
                        "ticks": ""
                      },
                      "baxis": {
                        "gridcolor": "white",
                        "linecolor": "white",
                        "ticks": ""
                      },
                      "bgcolor": "#E5ECF6",
                      "caxis": {
                        "gridcolor": "white",
                        "linecolor": "white",
                        "ticks": ""
                      }
                    },
                    "title": {
                      "x": 0.05
                    },
                    "xaxis": {
                      "automargin": true,
                      "gridcolor": "white",
                      "linecolor": "white",
                      "ticks": "",
                      "title": {
                        "standoff": 15
                      },
                      "zerolinecolor": "white",
                      "zerolinewidth": 2
                    },
                    "yaxis": {
                      "automargin": true,
                      "gridcolor": "white",
                      "linecolor": "white",
                      "ticks": "",
                      "title": {
                        "standoff": 15
                      },
                      "zerolinecolor": "white",
                      "zerolinewidth": 2
                    }
                  }
                },
                "xaxis": {
                  "anchor": "y",
                  "domain": [
                    0,
                    1
                  ],
                  "title": {
                    "text": "age_group_start"
                  }
                },
                "yaxis": {
                  "anchor": "x",
                  "domain": [
                    0,
                    1
                  ],
                  "title": {
                    "text": "value"
                  }
                }
              }
            }
          },
          "metadata": {},
          "output_type": "display_data"
        }
      ],
      "source": [
        "location_id = np.random.choice(life_expectancy.location_id.unique())\n",
        "sex_id = 1\n",
        "\n",
        "px.line(\n",
        "    life_expectancy\n",
        "    .query('location_id == @location_id and sex_id == @sex_id')\n",
        "    .set_index(['age_group_start'])\n",
        "    [['val']]\n",
        "    .join(\n",
        "        life_expectancy_interpolated\n",
        "        .query('location_id == @location_id and sex_id == @sex_id')\n",
        "        .set_index(['age_group_start'])\n",
        "        .sort_index(),\n",
        "        rsuffix='_interpolated',\n",
        "        how='outer'\n",
        "    )\n",
        "    .sort_index()\n",
        "    [['val', 'val_interpolated']], markers=True\n",
        "    )"
      ]
    },
    {
      "cell_type": "code",
      "execution_count": null,
      "metadata": {
        "id": "l7YD7-MKT4kr",
        "outputId": "87d05cb1-8972-4941-e424-28b62d8ef21b"
      },
      "outputs": [
        {
          "data": {
            "text/html": [
              "<div>\n",
              "<style scoped>\n",
              "    .dataframe tbody tr th:only-of-type {\n",
              "        vertical-align: middle;\n",
              "    }\n",
              "\n",
              "    .dataframe tbody tr th {\n",
              "        vertical-align: top;\n",
              "    }\n",
              "\n",
              "    .dataframe thead th {\n",
              "        text-align: right;\n",
              "    }\n",
              "</style>\n",
              "<table border=\"1\" class=\"dataframe\">\n",
              "  <thead>\n",
              "    <tr style=\"text-align: right;\">\n",
              "      <th></th>\n",
              "      <th>location_id</th>\n",
              "      <th>age_group_start</th>\n",
              "      <th>sex_id</th>\n",
              "      <th>val</th>\n",
              "    </tr>\n",
              "  </thead>\n",
              "  <tbody>\n",
              "    <tr>\n",
              "      <th>0</th>\n",
              "      <td>8</td>\n",
              "      <td>0</td>\n",
              "      <td>1</td>\n",
              "      <td>77.142649</td>\n",
              "    </tr>\n",
              "    <tr>\n",
              "      <th>1</th>\n",
              "      <td>8</td>\n",
              "      <td>1</td>\n",
              "      <td>1</td>\n",
              "      <td>76.445780</td>\n",
              "    </tr>\n",
              "    <tr>\n",
              "      <th>2</th>\n",
              "      <td>8</td>\n",
              "      <td>2</td>\n",
              "      <td>1</td>\n",
              "      <td>75.463293</td>\n",
              "    </tr>\n",
              "    <tr>\n",
              "      <th>3</th>\n",
              "      <td>8</td>\n",
              "      <td>3</td>\n",
              "      <td>1</td>\n",
              "      <td>74.480806</td>\n",
              "    </tr>\n",
              "    <tr>\n",
              "      <th>4</th>\n",
              "      <td>8</td>\n",
              "      <td>4</td>\n",
              "      <td>1</td>\n",
              "      <td>73.498319</td>\n",
              "    </tr>\n",
              "    <tr>\n",
              "      <th>...</th>\n",
              "      <td>...</td>\n",
              "      <td>...</td>\n",
              "      <td>...</td>\n",
              "      <td>...</td>\n",
              "    </tr>\n",
              "    <tr>\n",
              "      <th>45690</th>\n",
              "      <td>209</td>\n",
              "      <td>106</td>\n",
              "      <td>2</td>\n",
              "      <td>1.848643</td>\n",
              "    </tr>\n",
              "    <tr>\n",
              "      <th>45691</th>\n",
              "      <td>209</td>\n",
              "      <td>107</td>\n",
              "      <td>2</td>\n",
              "      <td>1.757339</td>\n",
              "    </tr>\n",
              "    <tr>\n",
              "      <th>45692</th>\n",
              "      <td>209</td>\n",
              "      <td>108</td>\n",
              "      <td>2</td>\n",
              "      <td>1.666034</td>\n",
              "    </tr>\n",
              "    <tr>\n",
              "      <th>45693</th>\n",
              "      <td>209</td>\n",
              "      <td>109</td>\n",
              "      <td>2</td>\n",
              "      <td>1.574730</td>\n",
              "    </tr>\n",
              "    <tr>\n",
              "      <th>45694</th>\n",
              "      <td>209</td>\n",
              "      <td>110</td>\n",
              "      <td>2</td>\n",
              "      <td>1.483426</td>\n",
              "    </tr>\n",
              "  </tbody>\n",
              "</table>\n",
              "<p>45288 rows × 4 columns</p>\n",
              "</div>"
            ],
            "text/plain": [
              "       location_id  age_group_start  sex_id        val\n",
              "0                8                0       1  77.142649\n",
              "1                8                1       1  76.445780\n",
              "2                8                2       1  75.463293\n",
              "3                8                3       1  74.480806\n",
              "4                8                4       1  73.498319\n",
              "...            ...              ...     ...        ...\n",
              "45690          209              106       2   1.848643\n",
              "45691          209              107       2   1.757339\n",
              "45692          209              108       2   1.666034\n",
              "45693          209              109       2   1.574730\n",
              "45694          209              110       2   1.483426\n",
              "\n",
              "[45288 rows x 4 columns]"
            ]
          },
          "execution_count": 139,
          "metadata": {},
          "output_type": "execute_result"
        }
      ],
      "source": [
        "life_expectancy_interpolated"
      ]
    },
    {
      "cell_type": "code",
      "execution_count": null,
      "metadata": {
        "id": "OR8J3c-cT4ks"
      },
      "outputs": [],
      "source": [
        "le_calculated_risk_excluded_all_countries_df = (\n",
        "    le_calculated_risk_excluded_all_countries_df\n",
        "    .set_index(\n",
        "        [\n",
        "            'location_id',\n",
        "            'age_group_start',\n",
        "            'sex_id',\n",
        "        ]\n",
        "    )\n",
        "    .join(\n",
        "        life_expectancy_interpolated\n",
        "        .set_index(\n",
        "            [\n",
        "                'location_id',\n",
        "                'age_group_start',\n",
        "                'sex_id',\n",
        "            ]\n",
        "        )\n",
        "    )\n",
        "    .reset_index()\n",
        ")"
      ]
    },
    {
      "cell_type": "code",
      "execution_count": null,
      "metadata": {
        "id": "Ayhxw8naT4ks",
        "outputId": "03156afc-018a-4caa-99d9-b871e9120265"
      },
      "outputs": [
        {
          "data": {
            "text/plain": [
              "location_id        0\n",
              "age_group_start    0\n",
              "sex_id             0\n",
              "excluded_rei_id    0\n",
              "E_x_val            0\n",
              "E_x_val_source     0\n",
              "E_x_diff           0\n",
              "val                0\n",
              "dtype: int64"
            ]
          },
          "execution_count": 142,
          "metadata": {},
          "output_type": "execute_result"
        }
      ],
      "source": [
        "le_calculated_risk_excluded_all_countries_df.isna().sum()"
      ]
    },
    {
      "cell_type": "code",
      "execution_count": null,
      "metadata": {
        "id": "xHGgEXCqT4ks"
      },
      "outputs": [],
      "source": [
        "le_calculated_risk_excluded_all_countries_df.columns = [\n",
        "    'location_id', 'age_group_start', 'sex_id', 'excluded_rei_id',\n",
        "    'E_x_val_risk_excluded', 'E_x_val_calculated', 'E_x_diff', 'E_x_val'\n",
        "]"
      ]
    },
    {
      "cell_type": "code",
      "execution_count": null,
      "metadata": {
        "id": "OF0GrSQaT4ks"
      },
      "outputs": [],
      "source": [
        "le_calculated_risk_excluded_all_countries_df = le_calculated_risk_excluded_all_countries_df[[\n",
        "    'location_id', 'age_group_start', 'sex_id', 'excluded_rei_id',\n",
        "    'E_x_val', 'E_x_val_calculated', 'E_x_val_risk_excluded', 'E_x_diff'\n",
        "]]"
      ]
    },
    {
      "cell_type": "code",
      "execution_count": null,
      "metadata": {
        "id": "w3ELPsYHT4kt"
      },
      "outputs": [],
      "source": [
        "le_calculated_risk_excluded_all_countries_df.columns = [\n",
        "    'location_id', 'age', 'sex_id', 'rei_id',\n",
        "    'E_x_val', 'E_x_val_calculated', 'E_x_val_risk_excluded', 'E_x_diff'\n",
        "]"
      ]
    },
    {
      "cell_type": "markdown",
      "metadata": {
        "id": "lC2KUSXVT4kt"
      },
      "source": [
        "Saving the results"
      ]
    },
    {
      "cell_type": "code",
      "execution_count": null,
      "metadata": {
        "id": "808eaiHiT4kt"
      },
      "outputs": [],
      "source": [
        "le_calculated_risk_excluded_all_countries_df.to_csv(\n",
        "    os.path.join(\n",
        "        'life_extension_dashboard_app',\n",
        "        'data',\n",
        "        'risk_excluded_le.csv'\n",
        "    ),\n",
        "    index=False,\n",
        ")"
      ]
    }
  ],
  "metadata": {
    "kernelspec": {
      "display_name": "Python 3",
      "language": "python",
      "name": "python3"
    },
    "language_info": {
      "codemirror_mode": {
        "name": "ipython",
        "version": 3
      },
      "file_extension": ".py",
      "mimetype": "text/x-python",
      "name": "python",
      "nbconvert_exporter": "python",
      "pygments_lexer": "ipython3",
      "version": "3.10.6"
    },
    "orig_nbformat": 4,
    "colab": {
      "provenance": [],
      "toc_visible": true,
      "include_colab_link": true
    }
  },
  "nbformat": 4,
  "nbformat_minor": 0
}